{
  "nbformat": 4,
  "nbformat_minor": 0,
  "metadata": {
    "colab": {
      "name": "DataQuest1.ipynb",
      "provenance": [],
      "collapsed_sections": []
    },
    "kernelspec": {
      "name": "python3",
      "display_name": "Python 3"
    }
  },
  "cells": [
    {
      "cell_type": "code",
      "metadata": {
        "id": "sJC1QXmkY5xJ"
      },
      "source": [
        "pip install pycaret"
      ],
      "execution_count": null,
      "outputs": []
    },
    {
      "cell_type": "code",
      "metadata": {
        "id": "jUB4zYnXZxlU"
      },
      "source": [
        "import pandas as pd\n",
        "import numpy as np\n",
        "import matplotlib.pyplot as plt\n",
        "import seaborn as sns"
      ],
      "execution_count": null,
      "outputs": []
    },
    {
      "cell_type": "code",
      "metadata": {
        "colab": {
          "base_uri": "https://localhost:8080/"
        },
        "id": "E_FxKSePaaME",
        "outputId": "09a5a760-daf5-4904-a4c0-69ff493bbffc"
      },
      "source": [
        "train0 = pd.read_csv('train.csv')\n",
        "test0 = pd.read_csv('test.csv')\n",
        "print(train0.shape,test0.shape)"
      ],
      "execution_count": null,
      "outputs": [
        {
          "output_type": "stream",
          "text": [
            "(54931, 21) (11834, 20)\n"
          ],
          "name": "stdout"
        }
      ]
    },
    {
      "cell_type": "code",
      "metadata": {
        "id": "V6OgggzPag52"
      },
      "source": [
        "train0['Arrival Delay in Minutes'].replace(np.nan,train0['Arrival Delay in Minutes'].mode()[0],inplace=True)\n",
        "test0['Arrival Delay in Minutes'].replace(np.nan,train0['Arrival Delay in Minutes'].mode()[0],inplace=True)\n",
        "\n",
        "#train.drop('Arrival Delay in Minutes',axis=1,inplace=True)\n",
        "#test.drop('Arrival Delay in Minutes',axis=1,inplace=True)"
      ],
      "execution_count": null,
      "outputs": []
    },
    {
      "cell_type": "code",
      "metadata": {
        "id": "coTWTOb8I32Y"
      },
      "source": [
        "plt.figure(figsize=(12,10))\n",
        "corr_mat = train0.corr()\n",
        "sns.heatmap(corr_mat,annot= True)\n",
        "plt.show()"
      ],
      "execution_count": null,
      "outputs": []
    },
    {
      "cell_type": "code",
      "metadata": {
        "id": "OyUKZpq7JKoK",
        "colab": {
          "base_uri": "https://localhost:8080/"
        },
        "outputId": "e6aa502e-b410-4723-88fa-58e7cbe27953"
      },
      "source": [
        "nn = train0.dtypes != 'object'\n",
        "num_cols = list(nn[nn].index)\n",
        "num_cols"
      ],
      "execution_count": null,
      "outputs": [
        {
          "output_type": "execute_result",
          "data": {
            "text/plain": [
              "['id',\n",
              " 'Age',\n",
              " 'Distance Travelled',\n",
              " 'Departure/Arrival time convenient',\n",
              " 'Ease of Online booking',\n",
              " 'Platform Number',\n",
              " 'Food Service',\n",
              " 'Railway service',\n",
              " 'Seat comfort',\n",
              " 'Ticket-collector service',\n",
              " 'Washroom service',\n",
              " 'Baggage security score',\n",
              " 'Compartment safety score',\n",
              " 'Cleanliness',\n",
              " 'Departure Delay in Minutes',\n",
              " 'Arrival Delay in Minutes',\n",
              " 'satisfaction']"
            ]
          },
          "metadata": {
            "tags": []
          },
          "execution_count": 5
        }
      ]
    },
    {
      "cell_type": "code",
      "metadata": {
        "colab": {
          "base_uri": "https://localhost:8080/"
        },
        "id": "HNiVuGSeKSPA",
        "outputId": "34e1cfdd-fc1e-44fe-f469-99c000b01044"
      },
      "source": [
        "cc = test0.dtypes == 'object'\n",
        "cat_cols = list(cc[cc].index)\n",
        "cat_cols"
      ],
      "execution_count": null,
      "outputs": [
        {
          "output_type": "execute_result",
          "data": {
            "text/plain": [
              "['Gender', 'Travel', 'Mode of reservation', 'Class']"
            ]
          },
          "metadata": {
            "tags": []
          },
          "execution_count": 6
        }
      ]
    },
    {
      "cell_type": "code",
      "metadata": {
        "id": "RL-WcgSGKkdF"
      },
      "source": [
        "from sklearn.preprocessing import LabelEncoder\n",
        "label_train0 = train0.copy()\n",
        "label_test0 = test0.copy()\n",
        "\n",
        "label_encoder = LabelEncoder()\n",
        "for cols in cat_cols:\n",
        "  label_train0[cols] = label_encoder.fit_transform(label_train0[cols])\n",
        "  label_test0[cols] = label_encoder.transform(label_test0[cols])\n",
        "\n",
        "\n"
      ],
      "execution_count": null,
      "outputs": []
    },
    {
      "cell_type": "code",
      "metadata": {
        "id": "24WY9_AHObgO"
      },
      "source": [
        "to_scale = ['Distance Travelled','Ease of Online booking','Food Service','Railway service','Seat comfort','Ticket-collector service','Washroom service','Baggage security score',\n",
        " 'Compartment safety score','Cleanliness']"
      ],
      "execution_count": null,
      "outputs": []
    },
    {
      "cell_type": "code",
      "metadata": {
        "id": "Cc2f0GdFDET_"
      },
      "source": [
        "train0_scaled = label_train0.copy()\n",
        "test0_scaled = label_test0.copy()"
      ],
      "execution_count": null,
      "outputs": []
    },
    {
      "cell_type": "code",
      "metadata": {
        "colab": {
          "base_uri": "https://localhost:8080/"
        },
        "id": "NOF_YVM7ExqL",
        "outputId": "fcbe76ca-e03d-47d1-b4fd-eef9ab23276e"
      },
      "source": [
        "train0_scaled.columns"
      ],
      "execution_count": null,
      "outputs": [
        {
          "output_type": "execute_result",
          "data": {
            "text/plain": [
              "Index(['Gender', 'Travel', 'Mode of reservation', 'Class',\n",
              "       'Distance Travelled', 'Ease of Online booking', 'Food Service',\n",
              "       'Railway service', 'Seat comfort', 'Ticket-collector service',\n",
              "       'Washroom service', 'Baggage security score',\n",
              "       'Compartment safety score', 'Cleanliness', 'satisfaction'],\n",
              "      dtype='object')"
            ]
          },
          "metadata": {
            "tags": []
          },
          "execution_count": 34
        }
      ]
    },
    {
      "cell_type": "code",
      "metadata": {
        "id": "SC4bZVO4N1Ot"
      },
      "source": [
        "#scaling only numerical columns\n",
        "from sklearn.preprocessing import MinMaxScaler\n",
        "scaler = MinMaxScaler()\n",
        "train0_scaled[to_scale] = scaler.fit_transform(train0_scaled[to_scale])\n",
        "test0_scaled[to_scale] = scaler.transform(test0_scaled[to_scale])\n",
        "\n"
      ],
      "execution_count": null,
      "outputs": []
    },
    {
      "cell_type": "code",
      "metadata": {
        "colab": {
          "base_uri": "https://localhost:8080/"
        },
        "id": "dcupdjkeFnx0",
        "outputId": "8585587f-6566-4998-a5cc-ce82eed319d2"
      },
      "source": [
        "print(train0_scaled.shape,test0_scaled.shape)"
      ],
      "execution_count": null,
      "outputs": [
        {
          "output_type": "stream",
          "text": [
            "(54931, 15) (11834, 14)\n"
          ],
          "name": "stdout"
        }
      ]
    },
    {
      "cell_type": "code",
      "metadata": {
        "id": "e48uaQlgJdZK"
      },
      "source": [
        "corr_mat = train0[num_cols].corr()\n",
        "corr_target = abs(corr_mat['satisfaction'])\n",
        "selected_features = corr_target[corr_target>0.1]\n",
        "selected_features"
      ],
      "execution_count": null,
      "outputs": []
    },
    {
      "cell_type": "code",
      "metadata": {
        "id": "g0AhHKqEJzQY"
      },
      "source": [
        "mycols_train0 = ['Gender','Travel','Mode of reservation','Class','Distance Travelled','Ease of Online booking',\n",
        "          'Food Service','Railway service','Seat comfort','Ticket-collector service','Washroom service',\n",
        "          'Baggage security score','Compartment safety score','Cleanliness','satisfaction']\n",
        "mycols_test0 = ['Gender','Travel','Mode of reservation','Class','Distance Travelled','Ease of Online booking',\n",
        "          'Food Service','Railway service','Seat comfort','Ticket-collector service','Washroom service',\n",
        "          'Baggage security score','Compartment safety score','Cleanliness']\n",
        "label_train0 = label_train0[mycols_train0]\n",
        "label_test0 = label_test0[mycols_test0]"
      ],
      "execution_count": null,
      "outputs": []
    },
    {
      "cell_type": "code",
      "metadata": {
        "colab": {
          "base_uri": "https://localhost:8080/"
        },
        "id": "FrYN4H4ZNDx0",
        "outputId": "34004b26-2488-4828-fcf2-381cf2d2fef7"
      },
      "source": [
        "print(label_train0.shape,label_test0.shape)"
      ],
      "execution_count": null,
      "outputs": [
        {
          "output_type": "stream",
          "text": [
            "(54931, 15) (11834, 14)\n"
          ],
          "name": "stdout"
        }
      ]
    },
    {
      "cell_type": "code",
      "metadata": {
        "colab": {
          "base_uri": "https://localhost:8080/"
        },
        "id": "f7tqGY-4pzLh",
        "outputId": "b1f53b98-6baa-4358-8f6d-b0425cbf396b"
      },
      "source": [
        "from sklearn.model_selection import train_test_split\n",
        "X0 = label_train0.drop('satisfaction',axis=1)\n",
        "y0 = label_train0['satisfaction']\n",
        "print(X0.shape,y0.shape)"
      ],
      "execution_count": null,
      "outputs": [
        {
          "output_type": "stream",
          "text": [
            "(54931, 14) (54931,)\n"
          ],
          "name": "stdout"
        }
      ]
    },
    {
      "cell_type": "code",
      "metadata": {
        "id": "eetDYD1cF7eB"
      },
      "source": [
        "X0_scaled = train0_scaled.drop('satisfaction',axis=1)\n",
        "y0_scaled = train0_scaled['satisfaction']\n"
      ],
      "execution_count": null,
      "outputs": []
    },
    {
      "cell_type": "code",
      "metadata": {
        "colab": {
          "base_uri": "https://localhost:8080/"
        },
        "id": "wLmq8CnGqSS_",
        "outputId": "ec5ab370-eb1a-4ab4-8d5e-a8b6988d3205"
      },
      "source": [
        "y_label = np.asarray(y0).reshape(-1,1)\n",
        "y_label.shape "
      ],
      "execution_count": null,
      "outputs": [
        {
          "output_type": "execute_result",
          "data": {
            "text/plain": [
              "(54931, 1)"
            ]
          },
          "metadata": {
            "tags": []
          },
          "execution_count": 12
        }
      ]
    },
    {
      "cell_type": "code",
      "metadata": {
        "colab": {
          "base_uri": "https://localhost:8080/"
        },
        "id": "joQOM9D3w4Mi",
        "outputId": "406663a4-19f8-4a63-ff2d-e6c8e041d438"
      },
      "source": [
        "X_train,X_valid,y_train,y_valid = train_test_split(X0,y0,test_size=0.2,random_state=42)\n",
        "print(X_train.shape,X_valid.shape,y_train.shape,y_valid.shape)"
      ],
      "execution_count": null,
      "outputs": [
        {
          "output_type": "stream",
          "text": [
            "(43944, 14) (10987, 14) (43944,) (10987,)\n"
          ],
          "name": "stdout"
        }
      ]
    },
    {
      "cell_type": "code",
      "metadata": {
        "colab": {
          "base_uri": "https://localhost:8080/"
        },
        "id": "_Zc7wndKGSzP",
        "outputId": "0722a8dd-b80c-4653-af49-dcdbacb31959"
      },
      "source": [
        "X_train_scaled,X_valid_scaled,y_train_scaled,y_valid_scaled = train_test_split(X0_scaled,y0_scaled,test_size=0.2,random_state=42)\n",
        "print(X_train_scaled.shape,X_valid_scaled.shape,y_train_scaled.shape,y_valid_scaled.shape)"
      ],
      "execution_count": null,
      "outputs": [
        {
          "output_type": "stream",
          "text": [
            "(43944, 14) (10987, 14) (43944,) (10987,)\n"
          ],
          "name": "stdout"
        }
      ]
    },
    {
      "cell_type": "code",
      "metadata": {
        "id": "jZ42c4qoxfP9"
      },
      "source": [
        "X_train_features,X_valid_features = np.asarray(X_train),np.asarray(X_valid)\n",
        "y_train_features,y_valid_features = np.asarray(y_train).reshape(-1,1),np.asarray(y_valid).reshape(-1,1)"
      ],
      "execution_count": null,
      "outputs": []
    },
    {
      "cell_type": "code",
      "metadata": {
        "id": "88NJ8ZgUGsJH"
      },
      "source": [
        "X_train_scaled_features,X_valid_scaled_features = np.asarray(X_train_scaled),np.asarray(X_valid_scaled)\n",
        "y_train_scaled_features,y_valid_scaled_features = np.asarray(y_train_scaled).reshape(-1,1),np.asarray(y_valid_scaled).reshape(-1,1)"
      ],
      "execution_count": null,
      "outputs": []
    },
    {
      "cell_type": "code",
      "metadata": {
        "id": "Z04TwJLbzt2l"
      },
      "source": [
        "for i in range(3):\n",
        "  print(X_train_features[i],y_train_features[i])"
      ],
      "execution_count": null,
      "outputs": []
    },
    {
      "cell_type": "code",
      "metadata": {
        "id": "0heMoce511Hb"
      },
      "source": [
        "from sklearn.model_selection import RepeatedKFold,cross_val_score\n",
        "from keras.models import Sequential\n",
        "from keras.layers import Dense,Dropout\n",
        "from keras import optimizers\n",
        "from sklearn.metrics import accuracy_score,confusion_matrix"
      ],
      "execution_count": null,
      "outputs": []
    },
    {
      "cell_type": "code",
      "metadata": {
        "id": "saytsXOboyYf"
      },
      "source": [
        "#try a NN\n",
        "n_inputs0 = 14\n",
        "n_outputs0 = 1\n",
        "model05 = Sequential()\n",
        "model05.add(Dense(512,input_dim=n_inputs0,kernel_initializer='he_uniform',activation='relu'))\n",
        "#model01.add(Dense(256,activation='relu'))\n",
        "model05.add(Dense(256,activation='relu'))\n",
        "#model01.add(Dense(128,activation='relu'))\n",
        "model05.add(Dense(128,activation='relu'))\n",
        "#model01.add(Dense(64,activation='relu'))\n",
        "model05.add(Dense(64,activation='relu'))\n",
        "model05.add(Dense(32,activation='relu'))\n",
        "model05.add(Dense(n_outputs0,activation='sigmoid'))\n",
        "model05.compile(loss='binary_crossentropy',\n",
        "              optimizer=optimizers.RMSprop(lr=2e-5),\n",
        "              metrics=['accuracy'])\n",
        "model05.summary()"
      ],
      "execution_count": null,
      "outputs": []
    },
    {
      "cell_type": "code",
      "metadata": {
        "colab": {
          "base_uri": "https://localhost:8080/"
        },
        "id": "SgMjuT7REa5s",
        "outputId": "516cbc2e-2ff7-47fc-b15f-2f60709c6c24"
      },
      "source": [
        "X_train_features.shape"
      ],
      "execution_count": null,
      "outputs": [
        {
          "output_type": "execute_result",
          "data": {
            "text/plain": [
              "(43944, 14)"
            ]
          },
          "metadata": {
            "tags": []
          },
          "execution_count": 164
        }
      ]
    },
    {
      "cell_type": "code",
      "metadata": {
        "id": "WUdnlXrRCQ36"
      },
      "source": [
        "epochs = 50\n",
        "\n",
        "history = model05.fit(X_train_scaled_features,y_train_scaled_features,epochs = epochs,validation_data = (X_valid_scaled_features,y_valid_scaled_features),\n",
        "                    verbose = 1,batch_size=64)"
      ],
      "execution_count": null,
      "outputs": []
    },
    {
      "cell_type": "code",
      "metadata": {
        "colab": {
          "base_uri": "https://localhost:8080/"
        },
        "id": "XSMlyyWjFOut",
        "outputId": "a78d0b01-ca75-442e-dee5-19b48f073c71"
      },
      "source": [
        "history.history.keys()"
      ],
      "execution_count": null,
      "outputs": [
        {
          "output_type": "execute_result",
          "data": {
            "text/plain": [
              "dict_keys(['loss', 'accuracy', 'val_loss', 'val_accuracy'])"
            ]
          },
          "metadata": {
            "tags": []
          },
          "execution_count": 168
        }
      ]
    },
    {
      "cell_type": "code",
      "metadata": {
        "id": "ScRIk79hHE5S"
      },
      "source": [
        "history.history"
      ],
      "execution_count": null,
      "outputs": []
    },
    {
      "cell_type": "code",
      "metadata": {
        "colab": {
          "base_uri": "https://localhost:8080/",
          "height": 295
        },
        "id": "k4IDSxANCQ9X",
        "outputId": "02b2a1b0-f1b8-4e2d-f09e-557481ee6cec"
      },
      "source": [
        "plt.plot(history.history['accuracy'])\n",
        "plt.plot(history.history['val_accuracy'])\n",
        "plt.title('model accuracy')\n",
        "plt.ylabel('accuracy')\n",
        "plt.xlabel('epoch')\n",
        "plt.legend(['train_acc', 'valid_acc'], loc='upper left')\n",
        "plt.show()"
      ],
      "execution_count": null,
      "outputs": [
        {
          "output_type": "display_data",
          "data": {
            "image/png": "[encoded data removed]",
            "text/plain": [
              "<Figure size 432x288 with 1 Axes>"
            ]
          },
          "metadata": {
            "tags": [],
            "needs_background": "light"
          }
        }
      ]
    },
    {
      "cell_type": "code",
      "metadata": {
        "colab": {
          "base_uri": "https://localhost:8080/",
          "height": 295
        },
        "id": "OSrbVzd0CRBb",
        "outputId": "6cbff8b2-b954-4681-924f-cbe6d00ea034"
      },
      "source": [
        "# summarize history for loss\n",
        "plt.plot(history.history['loss'])\n",
        "plt.plot(history.history['val_loss'])\n",
        "plt.title('model loss')\n",
        "plt.ylabel('loss')\n",
        "plt.xlabel('epoch')\n",
        "plt.legend(['train_loss', 'valid_loss'], loc='upper left')\n",
        "plt.show()\n"
      ],
      "execution_count": null,
      "outputs": [
        {
          "output_type": "display_data",
          "data": {
            "image/png": "[encoded data removed]",
            "text/plain": [
              "<Figure size 432x288 with 1 Axes>"
            ]
          },
          "metadata": {
            "tags": [],
            "needs_background": "light"
          }
        }
      ]
    },
    {
      "cell_type": "code",
      "metadata": {
        "colab": {
          "base_uri": "https://localhost:8080/"
        },
        "id": "v8zBbWTfI_AY",
        "outputId": "e23f3328-fdd9-459f-8f2f-e1242a8a7056"
      },
      "source": [
        "test0_scaled.shape"
      ],
      "execution_count": null,
      "outputs": [
        {
          "output_type": "execute_result",
          "data": {
            "text/plain": [
              "(11834, 14)"
            ]
          },
          "metadata": {
            "tags": []
          },
          "execution_count": 48
        }
      ]
    },
    {
      "cell_type": "code",
      "metadata": {
        "id": "XinCd5fbNWgQ"
      },
      "source": [
        "test0_scaled.head()"
      ],
      "execution_count": null,
      "outputs": []
    },
    {
      "cell_type": "code",
      "metadata": {
        "colab": {
          "base_uri": "https://localhost:8080/"
        },
        "id": "hk8hpD1qCREw",
        "outputId": "6643014c-923b-4092-cba5-10aa2e0a9fbe"
      },
      "source": [
        "pred01 = model04.predict(test0_scaled)\n",
        "pred01"
      ],
      "execution_count": null,
      "outputs": [
        {
          "output_type": "execute_result",
          "data": {
            "text/plain": [
              "array([[0.931119  ],\n",
              "       [0.8449024 ],\n",
              "       [0.00628304],\n",
              "       ...,\n",
              "       [0.9891734 ],\n",
              "       [0.86696845],\n",
              "       [0.15848574]], dtype=float32)"
            ]
          },
          "metadata": {
            "tags": []
          },
          "execution_count": 58
        }
      ]
    },
    {
      "cell_type": "code",
      "metadata": {
        "colab": {
          "base_uri": "https://localhost:8080/"
        },
        "id": "utkCi16cJI75",
        "outputId": "ccd1ed4a-2c05-4e9a-bcec-4e4a90340753"
      },
      "source": [
        "pred01 = (pred01 > 0.5).astype(np.int32)\n",
        "pred01"
      ],
      "execution_count": null,
      "outputs": [
        {
          "output_type": "execute_result",
          "data": {
            "text/plain": [
              "array([[1],\n",
              "       [1],\n",
              "       [0],\n",
              "       ...,\n",
              "       [1],\n",
              "       [1],\n",
              "       [0]], dtype=int32)"
            ]
          },
          "metadata": {
            "tags": []
          },
          "execution_count": 60
        }
      ]
    },
    {
      "cell_type": "code",
      "metadata": {
        "colab": {
          "base_uri": "https://localhost:8080/"
        },
        "id": "WHFhDZaAJ3Ag",
        "outputId": "0ecad55f-7a95-4630-ac92-40dfa31bf9d4"
      },
      "source": [
        "len(pred01)"
      ],
      "execution_count": null,
      "outputs": [
        {
          "output_type": "execute_result",
          "data": {
            "text/plain": [
              "11834"
            ]
          },
          "metadata": {
            "tags": []
          },
          "execution_count": 61
        }
      ]
    },
    {
      "cell_type": "code",
      "metadata": {
        "colab": {
          "base_uri": "https://localhost:8080/"
        },
        "id": "R1h2vS30J61e",
        "outputId": "52eebde9-1122-44e9-f7c4-c8348e6a1fb7"
      },
      "source": [
        "sub0 = pd.DataFrame(pred01,columns=['satisfaction'])\n",
        "sub0.shape"
      ],
      "execution_count": null,
      "outputs": [
        {
          "output_type": "execute_result",
          "data": {
            "text/plain": [
              "(11834, 1)"
            ]
          },
          "metadata": {
            "tags": []
          },
          "execution_count": 62
        }
      ]
    },
    {
      "cell_type": "code",
      "metadata": {
        "colab": {
          "base_uri": "https://localhost:8080/",
          "height": 206
        },
        "id": "zKnzlfVBKqcs",
        "outputId": "59794200-1b62-4c3f-807c-f90695d4e6c2"
      },
      "source": [
        "sub0.head()"
      ],
      "execution_count": null,
      "outputs": [
        {
          "output_type": "execute_result",
          "data": {
            "text/html": [
              "<div>\n",
              "<style scoped>\n",
              "    .dataframe tbody tr th:only-of-type {\n",
              "        vertical-align: middle;\n",
              "    }\n",
              "\n",
              "    .dataframe tbody tr th {\n",
              "        vertical-align: top;\n",
              "    }\n",
              "\n",
              "    .dataframe thead th {\n",
              "        text-align: right;\n",
              "    }\n",
              "</style>\n",
              "<table border=\"1\" class=\"dataframe\">\n",
              "  <thead>\n",
              "    <tr style=\"text-align: right;\">\n",
              "      <th></th>\n",
              "      <th>satisfaction</th>\n",
              "    </tr>\n",
              "  </thead>\n",
              "  <tbody>\n",
              "    <tr>\n",
              "      <th>0</th>\n",
              "      <td>1</td>\n",
              "    </tr>\n",
              "    <tr>\n",
              "      <th>1</th>\n",
              "      <td>1</td>\n",
              "    </tr>\n",
              "    <tr>\n",
              "      <th>2</th>\n",
              "      <td>0</td>\n",
              "    </tr>\n",
              "    <tr>\n",
              "      <th>3</th>\n",
              "      <td>1</td>\n",
              "    </tr>\n",
              "    <tr>\n",
              "      <th>4</th>\n",
              "      <td>0</td>\n",
              "    </tr>\n",
              "  </tbody>\n",
              "</table>\n",
              "</div>"
            ],
            "text/plain": [
              "   satisfaction\n",
              "0             1\n",
              "1             1\n",
              "2             0\n",
              "3             1\n",
              "4             0"
            ]
          },
          "metadata": {
            "tags": []
          },
          "execution_count": 63
        }
      ]
    },
    {
      "cell_type": "code",
      "metadata": {
        "id": "V9SLUwGLKHUv"
      },
      "source": [
        "sub0.set_index('satisfaction',inplace=True)\n",
        "sub0.to_csv('submission.csv')"
      ],
      "execution_count": null,
      "outputs": []
    },
    {
      "cell_type": "code",
      "metadata": {
        "id": "1Kao3mfSbUNC"
      },
      "source": [
        "from pycaret import classification\n",
        "classification.setup(data=label_train0,target='satisfaction')"
      ],
      "execution_count": null,
      "outputs": []
    },
    {
      "cell_type": "code",
      "metadata": {
        "id": "Zi9fqfYEbghf"
      },
      "source": [
        "classification.compare_models()"
      ],
      "execution_count": null,
      "outputs": []
    },
    {
      "cell_type": "code",
      "metadata": {
        "id": "RAqwAyvSb7_b"
      },
      "source": [
        "model = classification.create_model('lightgbm') #0.9648"
      ],
      "execution_count": null,
      "outputs": []
    },
    {
      "cell_type": "code",
      "metadata": {
        "id": "giCDSv83sVnU"
      },
      "source": [
        "tuned_model = classification.tune_model(model, optimize='Accuracy')"
      ],
      "execution_count": null,
      "outputs": []
    },
    {
      "cell_type": "code",
      "metadata": {
        "id": "Mgj7TT-aTJUI"
      },
      "source": [
        "classification.plot_model(tuned_model,plot='confusion_matrix') #0.9598"
      ],
      "execution_count": null,
      "outputs": []
    },
    {
      "cell_type": "code",
      "metadata": {
        "colab": {
          "base_uri": "https://localhost:8080/",
          "height": 401
        },
        "id": "-NzkTCeZs2Nd",
        "outputId": "2c07a846-098b-4eb2-f786-b3220cc0e52d"
      },
      "source": [
        "classification.plot_model(tuned_model,plot='confusion_matrix') #0.96"
      ],
      "execution_count": null,
      "outputs": [
        {
          "output_type": "display_data",
          "data": {
            "image/png": "[encoded data removed]",
            "text/plain": [
              "<Figure size 576x396 with 1 Axes>"
            ]
          },
          "metadata": {
            "tags": []
          }
        }
      ]
    },
    {
      "cell_type": "code",
      "metadata": {
        "colab": {
          "base_uri": "https://localhost:8080/",
          "height": 401
        },
        "id": "CkiH3uWKtGDK",
        "outputId": "8da39033-f289-4c27-f36d-8e8eff47e52f"
      },
      "source": [
        "classification.plot_model(tuned_model,plot='error')"
      ],
      "execution_count": null,
      "outputs": [
        {
          "output_type": "display_data",
          "data": {
            "image/png": "[encoded data removed]",
            "text/plain": [
              "<Figure size 576x396 with 1 Axes>"
            ]
          },
          "metadata": {
            "tags": []
          }
        }
      ]
    },
    {
      "cell_type": "code",
      "metadata": {
        "id": "6lZgNxr6tScC"
      },
      "source": [
        "classification.predict_model(tuned_model)#calculate the test accuracy"
      ],
      "execution_count": null,
      "outputs": []
    },
    {
      "cell_type": "code",
      "metadata": {
        "id": "RcP9SpkytkLJ"
      },
      "source": [
        "final_model = classification.finalize_model(tuned_model)"
      ],
      "execution_count": null,
      "outputs": []
    },
    {
      "cell_type": "code",
      "metadata": {
        "colab": {
          "base_uri": "https://localhost:8080/"
        },
        "id": "u8I_JGWMdC6b",
        "outputId": "8c8acdc3-6998-447e-9e92-cea33b3c8886"
      },
      "source": [
        "predictions = classification.predict_model(final_model,data=label_test0)\n",
        "y_predicted = predictions['Label']\n",
        "len(y_predicted)"
      ],
      "execution_count": null,
      "outputs": [
        {
          "output_type": "execute_result",
          "data": {
            "text/plain": [
              "11834"
            ]
          },
          "metadata": {
            "tags": []
          },
          "execution_count": 62
        }
      ]
    },
    {
      "cell_type": "code",
      "metadata": {
        "colab": {
          "base_uri": "https://localhost:8080/"
        },
        "id": "I39HMfsadLfj",
        "outputId": "0c3c305c-022f-4b06-cf8b-422de0c9146d"
      },
      "source": [
        "submission_df = pd.DataFrame({'satisfaction':y_predicted})\n",
        "submission_df.shape"
      ],
      "execution_count": null,
      "outputs": [
        {
          "output_type": "execute_result",
          "data": {
            "text/plain": [
              "(11834, 1)"
            ]
          },
          "metadata": {
            "tags": []
          },
          "execution_count": 63
        }
      ]
    },
    {
      "cell_type": "code",
      "metadata": {
        "id": "1gstm4VkdYhZ"
      },
      "source": [
        "submission_df.set_index('satisfaction',inplace=True)\n",
        "submission_df.to_csv('submission.csv')"
      ],
      "execution_count": null,
      "outputs": []
    },
    {
      "cell_type": "code",
      "metadata": {
        "id": "U5ud-2DjEiYC"
      },
      "source": [
        ""
      ],
      "execution_count": null,
      "outputs": []
    },
    {
      "cell_type": "code",
      "metadata": {
        "colab": {
          "base_uri": "https://localhost:8080/"
        },
        "id": "1UJnlHyfeGn7",
        "outputId": "aa0a8f96-b121-4683-8256-bb9fe2f7af85"
      },
      "source": [
        "#level 2\n",
        "train2 = pd.read_csv('train2.csv')\n",
        "test2 = pd.read_csv('test2.csv')\n",
        "print(train2.shape,test2.shape)"
      ],
      "execution_count": null,
      "outputs": [
        {
          "output_type": "stream",
          "text": [
            "(742, 31) (318, 17)\n"
          ],
          "name": "stdout"
        }
      ]
    },
    {
      "cell_type": "code",
      "metadata": {
        "id": "tdN9dH_olHNh"
      },
      "source": [
        "train2.drop('ids',axis=1,inplace=True)\n",
        "test2.drop('ids',axis=1,inplace=True)"
      ],
      "execution_count": null,
      "outputs": []
    },
    {
      "cell_type": "code",
      "metadata": {
        "id": "UAtqbL28lb2Q"
      },
      "source": [
        "mylist = ['bod', 'ammonium', 'silicon_dixoide', 'potassium_dichromate',\n",
        "       'oxygen_saturation', 'conduct', 'nitrogen_dioxide', 'hardness',\n",
        "       'nitrate', 'carbon_dioxide', 'potassium_permanganate', 'chlorine',\n",
        "       'phosphate', 'oxygen', 'standard_ph', 'standard_temperature']\n",
        "for col in mylist:\n",
        "  train2.replace({0:train2[col].mean()},inplace=True)\n",
        "  test2.replace({0:test2[col].mean()},inplace=True)"
      ],
      "execution_count": null,
      "outputs": []
    },
    {
      "cell_type": "code",
      "metadata": {
        "id": "3bUWBIQinx5Q"
      },
      "source": [
        "targets = ['38100','57500','55800','59300','29600','33400','25400','19400','50390','37880','17300','49700','34500','30400']"
      ],
      "execution_count": null,
      "outputs": []
    },
    {
      "cell_type": "code",
      "metadata": {
        "colab": {
          "base_uri": "https://localhost:8080/"
        },
        "id": "cNlbwjisom_M",
        "outputId": "55dfc7a1-940d-4298-8d72-40f4b0a5aaf1"
      },
      "source": [
        "X,y = train2[mylist],train2[targets]\n",
        "print(X.shape,y.shape)"
      ],
      "execution_count": null,
      "outputs": [
        {
          "output_type": "stream",
          "text": [
            "(742, 16) (742, 14)\n"
          ],
          "name": "stdout"
        }
      ]
    },
    {
      "cell_type": "code",
      "metadata": {
        "id": "yDM4RgM2US2y"
      },
      "source": [
        "X_test = test2.copy()\n",
        "X_test.head()"
      ],
      "execution_count": null,
      "outputs": []
    },
    {
      "cell_type": "code",
      "metadata": {
        "id": "rZigMtOeT_L8"
      },
      "source": [
        "from sklearn.preprocessing import MinMaxScaler\n",
        "scaler = MinMaxScaler()\n",
        "X[mylist] = scaler.fit_transform(X[mylist])\n",
        "X_test[mylist] = scaler.transform(X_test[mylist])"
      ],
      "execution_count": null,
      "outputs": []
    },
    {
      "cell_type": "code",
      "metadata": {
        "colab": {
          "base_uri": "https://localhost:8080/",
          "height": 226
        },
        "id": "_H1ENrR0Ubw_",
        "outputId": "96cc933f-9dc1-412f-ea92-e25bbd370822"
      },
      "source": [
        "X_test.head()"
      ],
      "execution_count": null,
      "outputs": [
        {
          "output_type": "execute_result",
          "data": {
            "text/html": [
              "<div>\n",
              "<style scoped>\n",
              "    .dataframe tbody tr th:only-of-type {\n",
              "        vertical-align: middle;\n",
              "    }\n",
              "\n",
              "    .dataframe tbody tr th {\n",
              "        vertical-align: top;\n",
              "    }\n",
              "\n",
              "    .dataframe thead th {\n",
              "        text-align: right;\n",
              "    }\n",
              "</style>\n",
              "<table border=\"1\" class=\"dataframe\">\n",
              "  <thead>\n",
              "    <tr style=\"text-align: right;\">\n",
              "      <th></th>\n",
              "      <th>bod</th>\n",
              "      <th>ammonium</th>\n",
              "      <th>silicon_dixoide</th>\n",
              "      <th>potassium_dichromate</th>\n",
              "      <th>oxygen_saturation</th>\n",
              "      <th>conduct</th>\n",
              "      <th>nitrogen_dioxide</th>\n",
              "      <th>hardness</th>\n",
              "      <th>nitrate</th>\n",
              "      <th>carbon_dioxide</th>\n",
              "      <th>potassium_permanganate</th>\n",
              "      <th>chlorine</th>\n",
              "      <th>phosphate</th>\n",
              "      <th>oxygen</th>\n",
              "      <th>standard_ph</th>\n",
              "      <th>standard_temperature</th>\n",
              "    </tr>\n",
              "  </thead>\n",
              "  <tbody>\n",
              "    <tr>\n",
              "      <th>0</th>\n",
              "      <td>0.017316</td>\n",
              "      <td>0.001730</td>\n",
              "      <td>0.021164</td>\n",
              "      <td>0.006739</td>\n",
              "      <td>0.560017</td>\n",
              "      <td>0.129765</td>\n",
              "      <td>0.000000</td>\n",
              "      <td>0.196172</td>\n",
              "      <td>0.003268</td>\n",
              "      <td>0.025249</td>\n",
              "      <td>0.016277</td>\n",
              "      <td>0.022329</td>\n",
              "      <td>0.002907</td>\n",
              "      <td>0.534314</td>\n",
              "      <td>0.608696</td>\n",
              "      <td>0.939516</td>\n",
              "    </tr>\n",
              "    <tr>\n",
              "      <th>1</th>\n",
              "      <td>0.011544</td>\n",
              "      <td>0.008648</td>\n",
              "      <td>0.978836</td>\n",
              "      <td>0.065789</td>\n",
              "      <td>0.243026</td>\n",
              "      <td>0.082725</td>\n",
              "      <td>0.059603</td>\n",
              "      <td>0.043062</td>\n",
              "      <td>0.080065</td>\n",
              "      <td>0.785124</td>\n",
              "      <td>0.069356</td>\n",
              "      <td>0.175439</td>\n",
              "      <td>0.046512</td>\n",
              "      <td>0.254902</td>\n",
              "      <td>0.086957</td>\n",
              "      <td>0.725806</td>\n",
              "    </tr>\n",
              "    <tr>\n",
              "      <th>2</th>\n",
              "      <td>0.036075</td>\n",
              "      <td>0.015814</td>\n",
              "      <td>0.068783</td>\n",
              "      <td>0.031772</td>\n",
              "      <td>0.228656</td>\n",
              "      <td>0.267640</td>\n",
              "      <td>0.099338</td>\n",
              "      <td>0.401914</td>\n",
              "      <td>0.098039</td>\n",
              "      <td>0.173554</td>\n",
              "      <td>0.021939</td>\n",
              "      <td>0.306220</td>\n",
              "      <td>0.052326</td>\n",
              "      <td>0.264706</td>\n",
              "      <td>0.260870</td>\n",
              "      <td>0.532258</td>\n",
              "    </tr>\n",
              "    <tr>\n",
              "      <th>3</th>\n",
              "      <td>0.018759</td>\n",
              "      <td>0.003212</td>\n",
              "      <td>0.084656</td>\n",
              "      <td>0.004172</td>\n",
              "      <td>0.447168</td>\n",
              "      <td>0.111111</td>\n",
              "      <td>0.038553</td>\n",
              "      <td>0.186603</td>\n",
              "      <td>0.062092</td>\n",
              "      <td>0.025249</td>\n",
              "      <td>0.010616</td>\n",
              "      <td>0.020734</td>\n",
              "      <td>0.000000</td>\n",
              "      <td>0.627451</td>\n",
              "      <td>0.434783</td>\n",
              "      <td>0.209677</td>\n",
              "    </tr>\n",
              "    <tr>\n",
              "      <th>4</th>\n",
              "      <td>0.038961</td>\n",
              "      <td>0.000988</td>\n",
              "      <td>0.285714</td>\n",
              "      <td>0.029525</td>\n",
              "      <td>0.412511</td>\n",
              "      <td>0.197891</td>\n",
              "      <td>0.006623</td>\n",
              "      <td>0.358852</td>\n",
              "      <td>0.052288</td>\n",
              "      <td>0.025249</td>\n",
              "      <td>0.024062</td>\n",
              "      <td>0.065391</td>\n",
              "      <td>0.156977</td>\n",
              "      <td>0.470588</td>\n",
              "      <td>0.521739</td>\n",
              "      <td>0.560484</td>\n",
              "    </tr>\n",
              "  </tbody>\n",
              "</table>\n",
              "</div>"
            ],
            "text/plain": [
              "        bod  ammonium  ...  standard_ph  standard_temperature\n",
              "0  0.017316  0.001730  ...     0.608696              0.939516\n",
              "1  0.011544  0.008648  ...     0.086957              0.725806\n",
              "2  0.036075  0.015814  ...     0.260870              0.532258\n",
              "3  0.018759  0.003212  ...     0.434783              0.209677\n",
              "4  0.038961  0.000988  ...     0.521739              0.560484\n",
              "\n",
              "[5 rows x 16 columns]"
            ]
          },
          "metadata": {
            "tags": []
          },
          "execution_count": 31
        }
      ]
    },
    {
      "cell_type": "code",
      "metadata": {
        "colab": {
          "base_uri": "https://localhost:8080/"
        },
        "id": "iifNvybk5JLh",
        "outputId": "a30d90e6-1b39-4984-bfce-f7a4df5a11fb"
      },
      "source": [
        "test2.shape"
      ],
      "execution_count": null,
      "outputs": [
        {
          "output_type": "execute_result",
          "data": {
            "text/plain": [
              "(318, 16)"
            ]
          },
          "metadata": {
            "tags": []
          },
          "execution_count": 26
        }
      ]
    },
    {
      "cell_type": "code",
      "metadata": {
        "id": "mAfsEc2PhuKn"
      },
      "source": [
        "X_ = np.asarray(X)\n",
        "y_ = np.asarray(y)"
      ],
      "execution_count": null,
      "outputs": []
    },
    {
      "cell_type": "code",
      "metadata": {
        "id": "OFju-w3Nh3s_"
      },
      "source": [
        "y_ = y_.round()"
      ],
      "execution_count": null,
      "outputs": []
    },
    {
      "cell_type": "code",
      "metadata": {
        "colab": {
          "base_uri": "https://localhost:8080/"
        },
        "id": "eSGwx2Cp6MoI",
        "outputId": "f33fdbe8-aa26-4d14-cafe-d04b29dd862d"
      },
      "source": [
        "#summarize the first few sample:\n",
        "for i in range(3):\n",
        "  print(X_[i],y_[i])"
      ],
      "execution_count": null,
      "outputs": [
        {
          "output_type": "stream",
          "text": [
            "[0.02886003 0.01284902 0.24338624 0.05198973 0.41758242 0.17518248\n",
            " 0.0397351  0.22488038 0.12418301 0.01869177 0.05307856 0.21371611\n",
            " 0.02325581 0.62745098 0.39130435 0.10483871] [0. 1. 1. 1. 0. 0. 1. 1. 1. 1. 0. 1. 1. 0.]\n",
            "[0.03607504 0.00494193 0.47619048 0.04300385 0.39010989 0.15490673\n",
            " 0.04635762 0.15311005 0.16339869 0.05785124 0.04387827 0.10845295\n",
            " 0.04069767 0.42647059 0.34782609 0.64112903] [0. 0. 1. 1. 1. 0. 1. 0. 1. 1. 1. 1. 1. 0.]\n",
            "[0.0995671  0.00790709 0.32804233 0.05840822 0.3567202  0.16301703\n",
            " 0.01986755 0.24401914 0.10784314 0.07024793 0.06157113 0.215311\n",
            " 0.05232558 0.40686275 0.34782609 0.56048387] [0. 0. 1. 0. 0. 0. 0. 1. 0. 0. 0. 1. 0. 0.]\n"
          ],
          "name": "stdout"
        }
      ]
    },
    {
      "cell_type": "code",
      "metadata": {
        "id": "YgQaac2m6ysF"
      },
      "source": [
        "#get the model\n",
        "def get_model(n_inputs,n_outputs):\n",
        "  model = Sequential()\n",
        "  model.add(Dense(20,input_dim=n_inputs,kernel_initializer='he_uniform',activation='relu'))\n",
        "  model.add(Dense(n_outputs,activation='sigmoid'))\n",
        "  model.compile(loss='binary_crossentropy',optimizer='adam')\n",
        "  return model"
      ],
      "execution_count": null,
      "outputs": []
    },
    {
      "cell_type": "code",
      "metadata": {
        "id": "VWVB3zpa9MAd"
      },
      "source": [
        "#evaluate the model using k-fold cross-validation\n",
        "def evaluate_model(X,y):\n",
        "  results = []\n",
        "  n_inputs,n_outputs = X.shape[1],y.shape[1]\n",
        "  cv = RepeatedKFold(n_splits=10,n_repeats=3,random_state=1)\n",
        "\n",
        "  #enumerate the folds\n",
        "  for train_ix,test_ix in cv.split(X):\n",
        "    X_train, X_test = X[train_ix],X[test_ix]\n",
        "    y_train,y_test = y[train_ix],y[test_ix]\n",
        "\n",
        "    #define model\n",
        "    model = get_model(n_inputs,n_outputs)\n",
        "    model.fit(X_train,y_train,verbose=0,epochs=50)\n",
        "\n",
        "    #make a prediction\n",
        "    yhat = model.predict(X_test)\n",
        "    yhat = yhat.round()\n",
        "\n",
        "    #calcualte the accuracy\n",
        "    acc = accuracy_score(y_test,yhat)\n",
        "    results.append(acc)\n",
        "  return results\n",
        "\n"
      ],
      "execution_count": null,
      "outputs": []
    },
    {
      "cell_type": "code",
      "metadata": {
        "id": "dDGsDDKl_AKH"
      },
      "source": [
        "results = evaluate_model(X_,y_)"
      ],
      "execution_count": null,
      "outputs": []
    },
    {
      "cell_type": "code",
      "metadata": {
        "id": "XnLCODyDjoJK",
        "colab": {
          "base_uri": "https://localhost:8080/"
        },
        "outputId": "d5101bdb-5a1d-4ab5-9232-f0d14a33bc7b"
      },
      "source": [
        "n_inputs,n_outputs = X_.shape[1],y_.shape[1]\n",
        "\n",
        "model0 = Sequential()\n",
        "model0.add(Dense(300,input_dim=n_inputs,kernel_initializer='he_uniform',activation='relu'))\n",
        "model0.add(Dense(250,activation='relu'))\n",
        "model0.add(Dense(200,activation='relu'))\n",
        "model0.add(Dense(150,activation='relu'))\n",
        "model0.add(Dense(100,activation='relu'))\n",
        "model0.add(Dense(50,activation='relu'))\n",
        "model0.add(Dense(n_outputs,activation='sigmoid'))\n",
        "model0.compile(loss='binary_crossentropy',optimizer='adam',metrics=['accuracy'])\n",
        "model0.fit(X_,y_,verbose=1,epochs=150)"
      ],
      "execution_count": null,
      "outputs": [
        {
          "output_type": "stream",
          "text": [
            "Epoch 1/150\n",
            "24/24 [==============================] - 1s 4ms/step - loss: 0.6602 - accuracy: 0.0175\n",
            "Epoch 2/150\n",
            "24/24 [==============================] - 0s 4ms/step - loss: 0.6225 - accuracy: 0.0251\n",
            "Epoch 3/150\n",
            "24/24 [==============================] - 0s 4ms/step - loss: 0.5967 - accuracy: 0.0309\n",
            "Epoch 4/150\n",
            "24/24 [==============================] - 0s 4ms/step - loss: 0.5890 - accuracy: 0.0352\n",
            "Epoch 5/150\n",
            "24/24 [==============================] - 0s 4ms/step - loss: 0.5885 - accuracy: 0.1440\n",
            "Epoch 6/150\n",
            "24/24 [==============================] - 0s 4ms/step - loss: 0.5746 - accuracy: 0.0643\n",
            "Epoch 7/150\n",
            "24/24 [==============================] - 0s 4ms/step - loss: 0.5788 - accuracy: 0.0778\n",
            "Epoch 8/150\n",
            "24/24 [==============================] - 0s 4ms/step - loss: 0.5541 - accuracy: 0.0863\n",
            "Epoch 9/150\n",
            "24/24 [==============================] - 0s 4ms/step - loss: 0.5554 - accuracy: 0.1149\n",
            "Epoch 10/150\n",
            "24/24 [==============================] - 0s 4ms/step - loss: 0.5512 - accuracy: 0.0871\n",
            "Epoch 11/150\n",
            "24/24 [==============================] - 0s 4ms/step - loss: 0.5636 - accuracy: 0.1221\n",
            "Epoch 12/150\n",
            "24/24 [==============================] - 0s 4ms/step - loss: 0.5438 - accuracy: 0.1181\n",
            "Epoch 13/150\n",
            "24/24 [==============================] - 0s 3ms/step - loss: 0.5398 - accuracy: 0.1107\n",
            "Epoch 14/150\n",
            "24/24 [==============================] - 0s 4ms/step - loss: 0.5494 - accuracy: 0.1071\n",
            "Epoch 15/150\n",
            "24/24 [==============================] - 0s 3ms/step - loss: 0.5265 - accuracy: 0.1057\n",
            "Epoch 16/150\n",
            "24/24 [==============================] - 0s 4ms/step - loss: 0.5379 - accuracy: 0.1106\n",
            "Epoch 17/150\n",
            "24/24 [==============================] - 0s 3ms/step - loss: 0.5287 - accuracy: 0.1201\n",
            "Epoch 18/150\n",
            "24/24 [==============================] - 0s 3ms/step - loss: 0.5305 - accuracy: 0.1510\n",
            "Epoch 19/150\n",
            "24/24 [==============================] - 0s 4ms/step - loss: 0.5313 - accuracy: 0.1135\n",
            "Epoch 20/150\n",
            "24/24 [==============================] - 0s 4ms/step - loss: 0.5150 - accuracy: 0.1604\n",
            "Epoch 21/150\n",
            "24/24 [==============================] - 0s 4ms/step - loss: 0.5247 - accuracy: 0.1100\n",
            "Epoch 22/150\n",
            "24/24 [==============================] - 0s 4ms/step - loss: 0.5182 - accuracy: 0.1049\n",
            "Epoch 23/150\n",
            "24/24 [==============================] - 0s 4ms/step - loss: 0.5153 - accuracy: 0.1190\n",
            "Epoch 24/150\n",
            "24/24 [==============================] - 0s 4ms/step - loss: 0.5042 - accuracy: 0.1444\n",
            "Epoch 25/150\n",
            "24/24 [==============================] - 0s 4ms/step - loss: 0.5067 - accuracy: 0.1299\n",
            "Epoch 26/150\n",
            "24/24 [==============================] - 0s 4ms/step - loss: 0.5086 - accuracy: 0.1398\n",
            "Epoch 27/150\n",
            "24/24 [==============================] - 0s 3ms/step - loss: 0.5043 - accuracy: 0.1528\n",
            "Epoch 28/150\n",
            "24/24 [==============================] - 0s 4ms/step - loss: 0.5009 - accuracy: 0.1472\n",
            "Epoch 29/150\n",
            "24/24 [==============================] - 0s 4ms/step - loss: 0.4892 - accuracy: 0.1604\n",
            "Epoch 30/150\n",
            "24/24 [==============================] - 0s 4ms/step - loss: 0.4876 - accuracy: 0.1070\n",
            "Epoch 31/150\n",
            "24/24 [==============================] - 0s 4ms/step - loss: 0.4905 - accuracy: 0.1560\n",
            "Epoch 32/150\n",
            "24/24 [==============================] - 0s 4ms/step - loss: 0.4865 - accuracy: 0.1396\n",
            "Epoch 33/150\n",
            "24/24 [==============================] - 0s 4ms/step - loss: 0.4859 - accuracy: 0.1233\n",
            "Epoch 34/150\n",
            "24/24 [==============================] - 0s 4ms/step - loss: 0.4960 - accuracy: 0.1285\n",
            "Epoch 35/150\n",
            "24/24 [==============================] - 0s 4ms/step - loss: 0.4778 - accuracy: 0.1243\n",
            "Epoch 36/150\n",
            "24/24 [==============================] - 0s 4ms/step - loss: 0.4824 - accuracy: 0.1465\n",
            "Epoch 37/150\n",
            "24/24 [==============================] - 0s 4ms/step - loss: 0.4780 - accuracy: 0.1483\n",
            "Epoch 38/150\n",
            "24/24 [==============================] - 0s 4ms/step - loss: 0.4645 - accuracy: 0.1354\n",
            "Epoch 39/150\n",
            "24/24 [==============================] - 0s 4ms/step - loss: 0.4751 - accuracy: 0.1300\n",
            "Epoch 40/150\n",
            "24/24 [==============================] - 0s 4ms/step - loss: 0.4658 - accuracy: 0.1040\n",
            "Epoch 41/150\n",
            "24/24 [==============================] - 0s 4ms/step - loss: 0.4551 - accuracy: 0.1430\n",
            "Epoch 42/150\n",
            "24/24 [==============================] - 0s 4ms/step - loss: 0.4571 - accuracy: 0.1666\n",
            "Epoch 43/150\n",
            "24/24 [==============================] - 0s 4ms/step - loss: 0.4485 - accuracy: 0.1302\n",
            "Epoch 44/150\n",
            "24/24 [==============================] - 0s 4ms/step - loss: 0.4486 - accuracy: 0.1186\n",
            "Epoch 45/150\n",
            "24/24 [==============================] - 0s 4ms/step - loss: 0.4494 - accuracy: 0.1318\n",
            "Epoch 46/150\n",
            "24/24 [==============================] - 0s 4ms/step - loss: 0.4438 - accuracy: 0.0981\n",
            "Epoch 47/150\n",
            "24/24 [==============================] - 0s 4ms/step - loss: 0.4441 - accuracy: 0.1458\n",
            "Epoch 48/150\n",
            "24/24 [==============================] - 0s 4ms/step - loss: 0.4335 - accuracy: 0.1374\n",
            "Epoch 49/150\n",
            "24/24 [==============================] - 0s 4ms/step - loss: 0.4371 - accuracy: 0.1153\n",
            "Epoch 50/150\n",
            "24/24 [==============================] - 0s 4ms/step - loss: 0.4283 - accuracy: 0.1407\n",
            "Epoch 51/150\n",
            "24/24 [==============================] - 0s 4ms/step - loss: 0.4216 - accuracy: 0.1312\n",
            "Epoch 52/150\n",
            "24/24 [==============================] - 0s 4ms/step - loss: 0.4318 - accuracy: 0.1194\n",
            "Epoch 53/150\n",
            "24/24 [==============================] - 0s 4ms/step - loss: 0.4182 - accuracy: 0.1379\n",
            "Epoch 54/150\n",
            "24/24 [==============================] - 0s 4ms/step - loss: 0.4219 - accuracy: 0.1363\n",
            "Epoch 55/150\n",
            "24/24 [==============================] - 0s 3ms/step - loss: 0.4288 - accuracy: 0.1410\n",
            "Epoch 56/150\n",
            "24/24 [==============================] - 0s 4ms/step - loss: 0.4209 - accuracy: 0.1022\n",
            "Epoch 57/150\n",
            "24/24 [==============================] - 0s 4ms/step - loss: 0.4180 - accuracy: 0.1493\n",
            "Epoch 58/150\n",
            "24/24 [==============================] - 0s 4ms/step - loss: 0.4036 - accuracy: 0.1330\n",
            "Epoch 59/150\n",
            "24/24 [==============================] - 0s 4ms/step - loss: 0.4068 - accuracy: 0.1617\n",
            "Epoch 60/150\n",
            "24/24 [==============================] - 0s 4ms/step - loss: 0.4016 - accuracy: 0.1461\n",
            "Epoch 61/150\n",
            "24/24 [==============================] - 0s 4ms/step - loss: 0.4046 - accuracy: 0.1495\n",
            "Epoch 62/150\n",
            "24/24 [==============================] - 0s 4ms/step - loss: 0.3986 - accuracy: 0.1356\n",
            "Epoch 63/150\n",
            "24/24 [==============================] - 0s 4ms/step - loss: 0.3921 - accuracy: 0.1493\n",
            "Epoch 64/150\n",
            "24/24 [==============================] - 0s 4ms/step - loss: 0.3852 - accuracy: 0.1456\n",
            "Epoch 65/150\n",
            "24/24 [==============================] - 0s 3ms/step - loss: 0.3834 - accuracy: 0.1487\n",
            "Epoch 66/150\n",
            "24/24 [==============================] - 0s 3ms/step - loss: 0.3864 - accuracy: 0.1718\n",
            "Epoch 67/150\n",
            "24/24 [==============================] - 0s 3ms/step - loss: 0.3656 - accuracy: 0.1723\n",
            "Epoch 68/150\n",
            "24/24 [==============================] - 0s 3ms/step - loss: 0.3776 - accuracy: 0.1688\n",
            "Epoch 69/150\n",
            "24/24 [==============================] - 0s 4ms/step - loss: 0.3833 - accuracy: 0.1554\n",
            "Epoch 70/150\n",
            "24/24 [==============================] - 0s 3ms/step - loss: 0.3760 - accuracy: 0.1601\n",
            "Epoch 71/150\n",
            "24/24 [==============================] - 0s 3ms/step - loss: 0.3744 - accuracy: 0.1635\n",
            "Epoch 72/150\n",
            "24/24 [==============================] - 0s 4ms/step - loss: 0.3615 - accuracy: 0.1751\n",
            "Epoch 73/150\n",
            "24/24 [==============================] - 0s 4ms/step - loss: 0.3631 - accuracy: 0.1573\n",
            "Epoch 74/150\n",
            "24/24 [==============================] - 0s 4ms/step - loss: 0.3847 - accuracy: 0.1620\n",
            "Epoch 75/150\n",
            "24/24 [==============================] - 0s 4ms/step - loss: 0.3680 - accuracy: 0.1430\n",
            "Epoch 76/150\n",
            "24/24 [==============================] - 0s 4ms/step - loss: 0.3507 - accuracy: 0.1850\n",
            "Epoch 77/150\n",
            "24/24 [==============================] - 0s 4ms/step - loss: 0.3508 - accuracy: 0.1320\n",
            "Epoch 78/150\n",
            "24/24 [==============================] - 0s 3ms/step - loss: 0.3699 - accuracy: 0.1650\n",
            "Epoch 79/150\n",
            "24/24 [==============================] - 0s 4ms/step - loss: 0.3402 - accuracy: 0.1528\n",
            "Epoch 80/150\n",
            "24/24 [==============================] - 0s 4ms/step - loss: 0.3391 - accuracy: 0.1742\n",
            "Epoch 81/150\n",
            "24/24 [==============================] - 0s 4ms/step - loss: 0.3293 - accuracy: 0.1762\n",
            "Epoch 82/150\n",
            "24/24 [==============================] - 0s 4ms/step - loss: 0.3328 - accuracy: 0.1848\n",
            "Epoch 83/150\n",
            "24/24 [==============================] - 0s 4ms/step - loss: 0.3278 - accuracy: 0.1829\n",
            "Epoch 84/150\n",
            "24/24 [==============================] - 0s 4ms/step - loss: 0.3283 - accuracy: 0.1762\n",
            "Epoch 85/150\n",
            "24/24 [==============================] - 0s 4ms/step - loss: 0.3323 - accuracy: 0.1673\n",
            "Epoch 86/150\n",
            "24/24 [==============================] - 0s 4ms/step - loss: 0.3238 - accuracy: 0.1611\n",
            "Epoch 87/150\n",
            "24/24 [==============================] - 0s 4ms/step - loss: 0.3346 - accuracy: 0.1617\n",
            "Epoch 88/150\n",
            "24/24 [==============================] - 0s 4ms/step - loss: 0.3097 - accuracy: 0.1820\n",
            "Epoch 89/150\n",
            "24/24 [==============================] - 0s 4ms/step - loss: 0.3160 - accuracy: 0.1690\n",
            "Epoch 90/150\n",
            "24/24 [==============================] - 0s 4ms/step - loss: 0.3099 - accuracy: 0.2030\n",
            "Epoch 91/150\n",
            "24/24 [==============================] - 0s 4ms/step - loss: 0.3292 - accuracy: 0.1762\n",
            "Epoch 92/150\n",
            "24/24 [==============================] - 0s 4ms/step - loss: 0.3700 - accuracy: 0.1524\n",
            "Epoch 93/150\n",
            "24/24 [==============================] - 0s 4ms/step - loss: 0.3277 - accuracy: 0.1894\n",
            "Epoch 94/150\n",
            "24/24 [==============================] - 0s 4ms/step - loss: 0.3210 - accuracy: 0.1605\n",
            "Epoch 95/150\n",
            "24/24 [==============================] - 0s 4ms/step - loss: 0.3059 - accuracy: 0.1839\n",
            "Epoch 96/150\n",
            "24/24 [==============================] - 0s 4ms/step - loss: 0.3051 - accuracy: 0.1764\n",
            "Epoch 97/150\n",
            "24/24 [==============================] - 0s 4ms/step - loss: 0.2959 - accuracy: 0.1585\n",
            "Epoch 98/150\n",
            "24/24 [==============================] - 0s 4ms/step - loss: 0.2998 - accuracy: 0.1763\n",
            "Epoch 99/150\n",
            "24/24 [==============================] - 0s 4ms/step - loss: 0.2728 - accuracy: 0.1784\n",
            "Epoch 100/150\n",
            "24/24 [==============================] - 0s 4ms/step - loss: 0.2674 - accuracy: 0.2045\n",
            "Epoch 101/150\n",
            "24/24 [==============================] - 0s 4ms/step - loss: 0.2822 - accuracy: 0.1771\n",
            "Epoch 102/150\n",
            "24/24 [==============================] - 0s 4ms/step - loss: 0.2754 - accuracy: 0.1788\n",
            "Epoch 103/150\n",
            "24/24 [==============================] - 0s 4ms/step - loss: 0.2765 - accuracy: 0.1772\n",
            "Epoch 104/150\n",
            "24/24 [==============================] - 0s 4ms/step - loss: 0.2705 - accuracy: 0.1555\n",
            "Epoch 105/150\n",
            "24/24 [==============================] - 0s 4ms/step - loss: 0.2679 - accuracy: 0.1943\n",
            "Epoch 106/150\n",
            "24/24 [==============================] - 0s 4ms/step - loss: 0.2611 - accuracy: 0.1795\n",
            "Epoch 107/150\n",
            "24/24 [==============================] - 0s 4ms/step - loss: 0.2608 - accuracy: 0.1885\n",
            "Epoch 108/150\n",
            "24/24 [==============================] - 0s 4ms/step - loss: 0.2630 - accuracy: 0.1923\n",
            "Epoch 109/150\n",
            "24/24 [==============================] - 0s 4ms/step - loss: 0.2633 - accuracy: 0.1561\n",
            "Epoch 110/150\n",
            "24/24 [==============================] - 0s 4ms/step - loss: 0.2538 - accuracy: 0.1992\n",
            "Epoch 111/150\n",
            "24/24 [==============================] - 0s 4ms/step - loss: 0.2564 - accuracy: 0.1926\n",
            "Epoch 112/150\n",
            "24/24 [==============================] - 0s 4ms/step - loss: 0.2470 - accuracy: 0.2074\n",
            "Epoch 113/150\n",
            "24/24 [==============================] - 0s 4ms/step - loss: 0.2455 - accuracy: 0.1804\n",
            "Epoch 114/150\n",
            "24/24 [==============================] - 0s 3ms/step - loss: 0.2438 - accuracy: 0.1921\n",
            "Epoch 115/150\n",
            "24/24 [==============================] - 0s 4ms/step - loss: 0.2224 - accuracy: 0.2254\n",
            "Epoch 116/150\n",
            "24/24 [==============================] - 0s 4ms/step - loss: 0.2401 - accuracy: 0.2162\n",
            "Epoch 117/150\n",
            "24/24 [==============================] - 0s 4ms/step - loss: 0.2445 - accuracy: 0.2169\n",
            "Epoch 118/150\n",
            "24/24 [==============================] - 0s 4ms/step - loss: 0.2468 - accuracy: 0.2075\n",
            "Epoch 119/150\n",
            "24/24 [==============================] - 0s 4ms/step - loss: 0.2508 - accuracy: 0.2357\n",
            "Epoch 120/150\n",
            "24/24 [==============================] - 0s 4ms/step - loss: 0.2278 - accuracy: 0.2078\n",
            "Epoch 121/150\n",
            "24/24 [==============================] - 0s 4ms/step - loss: 0.2197 - accuracy: 0.2028\n",
            "Epoch 122/150\n",
            "24/24 [==============================] - 0s 4ms/step - loss: 0.2170 - accuracy: 0.2100\n",
            "Epoch 123/150\n",
            "24/24 [==============================] - 0s 4ms/step - loss: 0.2195 - accuracy: 0.1974\n",
            "Epoch 124/150\n",
            "24/24 [==============================] - 0s 4ms/step - loss: 0.2103 - accuracy: 0.2304\n",
            "Epoch 125/150\n",
            "24/24 [==============================] - 0s 4ms/step - loss: 0.2134 - accuracy: 0.2120\n",
            "Epoch 126/150\n",
            "24/24 [==============================] - 0s 4ms/step - loss: 0.2015 - accuracy: 0.2051\n",
            "Epoch 127/150\n",
            "24/24 [==============================] - 0s 4ms/step - loss: 0.1956 - accuracy: 0.1925\n",
            "Epoch 128/150\n",
            "24/24 [==============================] - 0s 4ms/step - loss: 0.2102 - accuracy: 0.2195\n",
            "Epoch 129/150\n",
            "24/24 [==============================] - 0s 4ms/step - loss: 0.2014 - accuracy: 0.2222\n",
            "Epoch 130/150\n",
            "24/24 [==============================] - 0s 4ms/step - loss: 0.2057 - accuracy: 0.2084\n",
            "Epoch 131/150\n",
            "24/24 [==============================] - 0s 4ms/step - loss: 0.1912 - accuracy: 0.1934\n",
            "Epoch 132/150\n",
            "24/24 [==============================] - 0s 4ms/step - loss: 0.1897 - accuracy: 0.2008\n",
            "Epoch 133/150\n",
            "24/24 [==============================] - 0s 4ms/step - loss: 0.1899 - accuracy: 0.1820\n",
            "Epoch 134/150\n",
            "24/24 [==============================] - 0s 4ms/step - loss: 0.1920 - accuracy: 0.2045\n",
            "Epoch 135/150\n",
            "24/24 [==============================] - 0s 4ms/step - loss: 0.1813 - accuracy: 0.2034\n",
            "Epoch 136/150\n",
            "24/24 [==============================] - 0s 4ms/step - loss: 0.2088 - accuracy: 0.2134\n",
            "Epoch 137/150\n",
            "24/24 [==============================] - 0s 4ms/step - loss: 0.2014 - accuracy: 0.1894\n",
            "Epoch 138/150\n",
            "24/24 [==============================] - 0s 4ms/step - loss: 0.2026 - accuracy: 0.2019\n",
            "Epoch 139/150\n",
            "24/24 [==============================] - 0s 4ms/step - loss: 0.2166 - accuracy: 0.1811\n",
            "Epoch 140/150\n",
            "24/24 [==============================] - 0s 4ms/step - loss: 0.1923 - accuracy: 0.1709\n",
            "Epoch 141/150\n",
            "24/24 [==============================] - 0s 4ms/step - loss: 0.1944 - accuracy: 0.2115\n",
            "Epoch 142/150\n",
            "24/24 [==============================] - 0s 4ms/step - loss: 0.2154 - accuracy: 0.1846\n",
            "Epoch 143/150\n",
            "24/24 [==============================] - 0s 4ms/step - loss: 0.2188 - accuracy: 0.2140\n",
            "Epoch 144/150\n",
            "24/24 [==============================] - 0s 4ms/step - loss: 0.1901 - accuracy: 0.1853\n",
            "Epoch 145/150\n",
            "24/24 [==============================] - 0s 4ms/step - loss: 0.1838 - accuracy: 0.2034\n",
            "Epoch 146/150\n",
            "24/24 [==============================] - 0s 4ms/step - loss: 0.1871 - accuracy: 0.2038\n",
            "Epoch 147/150\n",
            "24/24 [==============================] - 0s 4ms/step - loss: 0.1716 - accuracy: 0.1894\n",
            "Epoch 148/150\n",
            "24/24 [==============================] - 0s 4ms/step - loss: 0.1599 - accuracy: 0.2059\n",
            "Epoch 149/150\n",
            "24/24 [==============================] - 0s 4ms/step - loss: 0.1594 - accuracy: 0.2120\n",
            "Epoch 150/150\n",
            "24/24 [==============================] - 0s 4ms/step - loss: 0.1544 - accuracy: 0.2092\n"
          ],
          "name": "stdout"
        },
        {
          "output_type": "execute_result",
          "data": {
            "text/plain": [
              "<tensorflow.python.keras.callbacks.History at 0x7ff0f7ddced0>"
            ]
          },
          "metadata": {
            "tags": []
          },
          "execution_count": 35
        }
      ]
    },
    {
      "cell_type": "code",
      "metadata": {
        "id": "1mu0N5ooIpRO"
      },
      "source": [
        "input_test = np.asarray(X_test)\n",
        "input_test"
      ],
      "execution_count": null,
      "outputs": []
    },
    {
      "cell_type": "code",
      "metadata": {
        "id": "7GuwbPmZIW5B"
      },
      "source": [
        "predictions_new = model0.predict(input_test)\n",
        "pred_new = predictions_new.round()"
      ],
      "execution_count": null,
      "outputs": []
    },
    {
      "cell_type": "code",
      "metadata": {
        "colab": {
          "base_uri": "https://localhost:8080/"
        },
        "id": "Tce5TOS19nel",
        "outputId": "82abc587-5a47-4ace-8ca6-560839de7607"
      },
      "source": [
        "pred_new"
      ],
      "execution_count": null,
      "outputs": [
        {
          "output_type": "execute_result",
          "data": {
            "text/plain": [
              "array([[0., 0., 1., ..., 0., 0., 1.],\n",
              "       [1., 0., 0., ..., 1., 1., 0.],\n",
              "       [0., 0., 0., ..., 0., 0., 0.],\n",
              "       ...,\n",
              "       [0., 0., 0., ..., 0., 0., 0.],\n",
              "       [0., 0., 0., ..., 1., 1., 0.],\n",
              "       [0., 0., 0., ..., 0., 0., 0.]], dtype=float32)"
            ]
          },
          "metadata": {
            "tags": []
          },
          "execution_count": 38
        }
      ]
    },
    {
      "cell_type": "code",
      "metadata": {
        "colab": {
          "base_uri": "https://localhost:8080/"
        },
        "id": "V3BTXRbLaEnz",
        "outputId": "1d29c87b-e4c7-43ae-ef7c-96b82e0b5392"
      },
      "source": [
        "scores = model0.predict(X_)#0.1320754716981132 #0.3221024258760108 #0.49865229110512127 #0.5983827493261455\n",
        "accuracy_score(y_,scores.round())"
      ],
      "execution_count": null,
      "outputs": [
        {
          "output_type": "execute_result",
          "data": {
            "text/plain": [
              "0.5983827493261455"
            ]
          },
          "metadata": {
            "tags": []
          },
          "execution_count": 39
        }
      ]
    },
    {
      "cell_type": "code",
      "metadata": {
        "colab": {
          "base_uri": "https://localhost:8080/"
        },
        "id": "NGs09Wj0kvU4",
        "outputId": "85b82465-b423-4ea5-ff1d-35065ee5fee3"
      },
      "source": [
        "metrics = model0.evaluate(X_,y_)#loss: 0.4226 #0.2952 # 0.1811"
      ],
      "execution_count": null,
      "outputs": [
        {
          "output_type": "stream",
          "text": [
            "24/24 [==============================] - 0s 1ms/step - loss: 0.1433 - accuracy: 0.2210\n"
          ],
          "name": "stdout"
        }
      ]
    },
    {
      "cell_type": "code",
      "metadata": {
        "colab": {
          "base_uri": "https://localhost:8080/"
        },
        "id": "AM7REPQmaynZ",
        "outputId": "bd4da07e-eab5-4738-d2a4-e12a904ac110"
      },
      "source": [
        "print(metrics)"
      ],
      "execution_count": null,
      "outputs": [
        {
          "output_type": "stream",
          "text": [
            "[0.18113607168197632, 0.18867924809455872]\n"
          ],
          "name": "stdout"
        }
      ]
    },
    {
      "cell_type": "code",
      "metadata": {
        "colab": {
          "base_uri": "https://localhost:8080/",
          "height": 206
        },
        "id": "X2vaT6MnlDFu",
        "outputId": "16a74a5e-f8eb-4cba-ff7e-f67068ace996"
      },
      "source": [
        "sub_df = pd.DataFrame(pred_new,columns=['38100','57500','55800','59300','29600','33400','25400','19400','50390','37880','17300','49700','34500','30400'])\n",
        "sub_df.head()"
      ],
      "execution_count": null,
      "outputs": [
        {
          "output_type": "execute_result",
          "data": {
            "text/html": [
              "<div>\n",
              "<style scoped>\n",
              "    .dataframe tbody tr th:only-of-type {\n",
              "        vertical-align: middle;\n",
              "    }\n",
              "\n",
              "    .dataframe tbody tr th {\n",
              "        vertical-align: top;\n",
              "    }\n",
              "\n",
              "    .dataframe thead th {\n",
              "        text-align: right;\n",
              "    }\n",
              "</style>\n",
              "<table border=\"1\" class=\"dataframe\">\n",
              "  <thead>\n",
              "    <tr style=\"text-align: right;\">\n",
              "      <th></th>\n",
              "      <th>38100</th>\n",
              "      <th>57500</th>\n",
              "      <th>55800</th>\n",
              "      <th>59300</th>\n",
              "      <th>29600</th>\n",
              "      <th>33400</th>\n",
              "      <th>25400</th>\n",
              "      <th>19400</th>\n",
              "      <th>50390</th>\n",
              "      <th>37880</th>\n",
              "      <th>17300</th>\n",
              "      <th>49700</th>\n",
              "      <th>34500</th>\n",
              "      <th>30400</th>\n",
              "    </tr>\n",
              "  </thead>\n",
              "  <tbody>\n",
              "    <tr>\n",
              "      <th>0</th>\n",
              "      <td>0.0</td>\n",
              "      <td>0.0</td>\n",
              "      <td>1.0</td>\n",
              "      <td>1.0</td>\n",
              "      <td>0.0</td>\n",
              "      <td>0.0</td>\n",
              "      <td>0.0</td>\n",
              "      <td>0.0</td>\n",
              "      <td>0.0</td>\n",
              "      <td>0.0</td>\n",
              "      <td>0.0</td>\n",
              "      <td>0.0</td>\n",
              "      <td>0.0</td>\n",
              "      <td>1.0</td>\n",
              "    </tr>\n",
              "    <tr>\n",
              "      <th>1</th>\n",
              "      <td>1.0</td>\n",
              "      <td>0.0</td>\n",
              "      <td>0.0</td>\n",
              "      <td>1.0</td>\n",
              "      <td>0.0</td>\n",
              "      <td>0.0</td>\n",
              "      <td>0.0</td>\n",
              "      <td>0.0</td>\n",
              "      <td>0.0</td>\n",
              "      <td>0.0</td>\n",
              "      <td>1.0</td>\n",
              "      <td>1.0</td>\n",
              "      <td>1.0</td>\n",
              "      <td>0.0</td>\n",
              "    </tr>\n",
              "    <tr>\n",
              "      <th>2</th>\n",
              "      <td>0.0</td>\n",
              "      <td>0.0</td>\n",
              "      <td>0.0</td>\n",
              "      <td>0.0</td>\n",
              "      <td>0.0</td>\n",
              "      <td>0.0</td>\n",
              "      <td>0.0</td>\n",
              "      <td>1.0</td>\n",
              "      <td>0.0</td>\n",
              "      <td>1.0</td>\n",
              "      <td>0.0</td>\n",
              "      <td>0.0</td>\n",
              "      <td>0.0</td>\n",
              "      <td>0.0</td>\n",
              "    </tr>\n",
              "    <tr>\n",
              "      <th>3</th>\n",
              "      <td>0.0</td>\n",
              "      <td>1.0</td>\n",
              "      <td>1.0</td>\n",
              "      <td>1.0</td>\n",
              "      <td>0.0</td>\n",
              "      <td>0.0</td>\n",
              "      <td>0.0</td>\n",
              "      <td>0.0</td>\n",
              "      <td>1.0</td>\n",
              "      <td>0.0</td>\n",
              "      <td>0.0</td>\n",
              "      <td>0.0</td>\n",
              "      <td>0.0</td>\n",
              "      <td>0.0</td>\n",
              "    </tr>\n",
              "    <tr>\n",
              "      <th>4</th>\n",
              "      <td>0.0</td>\n",
              "      <td>0.0</td>\n",
              "      <td>1.0</td>\n",
              "      <td>1.0</td>\n",
              "      <td>0.0</td>\n",
              "      <td>0.0</td>\n",
              "      <td>0.0</td>\n",
              "      <td>1.0</td>\n",
              "      <td>0.0</td>\n",
              "      <td>1.0</td>\n",
              "      <td>0.0</td>\n",
              "      <td>0.0</td>\n",
              "      <td>0.0</td>\n",
              "      <td>1.0</td>\n",
              "    </tr>\n",
              "  </tbody>\n",
              "</table>\n",
              "</div>"
            ],
            "text/plain": [
              "   38100  57500  55800  59300  29600  ...  37880  17300  49700  34500  30400\n",
              "0    0.0    0.0    1.0    1.0    0.0  ...    0.0    0.0    0.0    0.0    1.0\n",
              "1    1.0    0.0    0.0    1.0    0.0  ...    0.0    1.0    1.0    1.0    0.0\n",
              "2    0.0    0.0    0.0    0.0    0.0  ...    1.0    0.0    0.0    0.0    0.0\n",
              "3    0.0    1.0    1.0    1.0    0.0  ...    0.0    0.0    0.0    0.0    0.0\n",
              "4    0.0    0.0    1.0    1.0    0.0  ...    1.0    0.0    0.0    0.0    1.0\n",
              "\n",
              "[5 rows x 14 columns]"
            ]
          },
          "metadata": {
            "tags": []
          },
          "execution_count": 41
        }
      ]
    },
    {
      "cell_type": "code",
      "metadata": {
        "colab": {
          "base_uri": "https://localhost:8080/"
        },
        "id": "e2-H4QbU98Ri",
        "outputId": "71597488-69bb-4dc2-dd18-9169fde52e8a"
      },
      "source": [
        "sub_df.shape"
      ],
      "execution_count": null,
      "outputs": [
        {
          "output_type": "execute_result",
          "data": {
            "text/plain": [
              "(318, 14)"
            ]
          },
          "metadata": {
            "tags": []
          },
          "execution_count": 53
        }
      ]
    },
    {
      "cell_type": "code",
      "metadata": {
        "id": "gsrJJfvymSN2"
      },
      "source": [
        "sub_df.to_csv('sub.csv',index=False)"
      ],
      "execution_count": null,
      "outputs": []
    },
    {
      "cell_type": "code",
      "metadata": {
        "id": "2FWkvnpvmS2A",
        "colab": {
          "base_uri": "https://localhost:8080/"
        },
        "outputId": "577901e0-5cc7-46b9-ce36-d645c996b619"
      },
      "source": [
        "#using binary relevance\n",
        "print(train2.shape,test2.shape)"
      ],
      "execution_count": null,
      "outputs": [
        {
          "output_type": "stream",
          "text": [
            "(742, 30) (318, 16)\n"
          ],
          "name": "stdout"
        }
      ]
    },
    {
      "cell_type": "code",
      "metadata": {
        "colab": {
          "base_uri": "https://localhost:8080/"
        },
        "id": "jaeEbCCf6Tqm",
        "outputId": "631e64bc-942e-404e-c045-77e4c8749b57"
      },
      "source": [
        "X_bin,y_bin = train2[mylist],train2[targets]\n",
        "print(X_bin.shape,y_bin.shape)"
      ],
      "execution_count": null,
      "outputs": [
        {
          "output_type": "stream",
          "text": [
            "(742, 16) (742, 14)\n"
          ],
          "name": "stdout"
        }
      ]
    },
    {
      "cell_type": "code",
      "metadata": {
        "id": "Y3gKdTak6wG9"
      },
      "source": [
        "pip install scikit-multilearn"
      ],
      "execution_count": null,
      "outputs": []
    },
    {
      "cell_type": "code",
      "metadata": {
        "id": "C_E4FwQD6heD"
      },
      "source": [
        "from skmultilearn.problem_transform import BinaryRelevance,LabelPowerset\n",
        "from sklearn.naive_bayes import GaussianNB"
      ],
      "execution_count": null,
      "outputs": []
    },
    {
      "cell_type": "code",
      "metadata": {
        "colab": {
          "base_uri": "https://localhost:8080/",
          "height": 206
        },
        "id": "7Lwk8gQm7mVl",
        "outputId": "dac144d2-32cd-4168-b26d-9369867cb2d6"
      },
      "source": [
        "y_bin = y_bin.round()\n",
        "y_bin.head()"
      ],
      "execution_count": null,
      "outputs": [
        {
          "output_type": "execute_result",
          "data": {
            "text/html": [
              "<div>\n",
              "<style scoped>\n",
              "    .dataframe tbody tr th:only-of-type {\n",
              "        vertical-align: middle;\n",
              "    }\n",
              "\n",
              "    .dataframe tbody tr th {\n",
              "        vertical-align: top;\n",
              "    }\n",
              "\n",
              "    .dataframe thead th {\n",
              "        text-align: right;\n",
              "    }\n",
              "</style>\n",
              "<table border=\"1\" class=\"dataframe\">\n",
              "  <thead>\n",
              "    <tr style=\"text-align: right;\">\n",
              "      <th></th>\n",
              "      <th>38100</th>\n",
              "      <th>57500</th>\n",
              "      <th>55800</th>\n",
              "      <th>59300</th>\n",
              "      <th>29600</th>\n",
              "      <th>33400</th>\n",
              "      <th>25400</th>\n",
              "      <th>19400</th>\n",
              "      <th>50390</th>\n",
              "      <th>37880</th>\n",
              "      <th>17300</th>\n",
              "      <th>49700</th>\n",
              "      <th>34500</th>\n",
              "      <th>30400</th>\n",
              "    </tr>\n",
              "  </thead>\n",
              "  <tbody>\n",
              "    <tr>\n",
              "      <th>0</th>\n",
              "      <td>0.0</td>\n",
              "      <td>1.0</td>\n",
              "      <td>1.0</td>\n",
              "      <td>1.0</td>\n",
              "      <td>0.0</td>\n",
              "      <td>0.0</td>\n",
              "      <td>1.0</td>\n",
              "      <td>1.0</td>\n",
              "      <td>1.0</td>\n",
              "      <td>1.0</td>\n",
              "      <td>0.0</td>\n",
              "      <td>1.0</td>\n",
              "      <td>1.0</td>\n",
              "      <td>0.0</td>\n",
              "    </tr>\n",
              "    <tr>\n",
              "      <th>1</th>\n",
              "      <td>0.0</td>\n",
              "      <td>0.0</td>\n",
              "      <td>1.0</td>\n",
              "      <td>1.0</td>\n",
              "      <td>1.0</td>\n",
              "      <td>0.0</td>\n",
              "      <td>1.0</td>\n",
              "      <td>0.0</td>\n",
              "      <td>1.0</td>\n",
              "      <td>1.0</td>\n",
              "      <td>1.0</td>\n",
              "      <td>1.0</td>\n",
              "      <td>1.0</td>\n",
              "      <td>0.0</td>\n",
              "    </tr>\n",
              "    <tr>\n",
              "      <th>2</th>\n",
              "      <td>0.0</td>\n",
              "      <td>0.0</td>\n",
              "      <td>1.0</td>\n",
              "      <td>0.0</td>\n",
              "      <td>0.0</td>\n",
              "      <td>0.0</td>\n",
              "      <td>0.0</td>\n",
              "      <td>1.0</td>\n",
              "      <td>0.0</td>\n",
              "      <td>0.0</td>\n",
              "      <td>0.0</td>\n",
              "      <td>1.0</td>\n",
              "      <td>0.0</td>\n",
              "      <td>0.0</td>\n",
              "    </tr>\n",
              "    <tr>\n",
              "      <th>3</th>\n",
              "      <td>0.0</td>\n",
              "      <td>0.0</td>\n",
              "      <td>1.0</td>\n",
              "      <td>1.0</td>\n",
              "      <td>0.0</td>\n",
              "      <td>0.0</td>\n",
              "      <td>0.0</td>\n",
              "      <td>1.0</td>\n",
              "      <td>0.0</td>\n",
              "      <td>1.0</td>\n",
              "      <td>0.0</td>\n",
              "      <td>1.0</td>\n",
              "      <td>0.0</td>\n",
              "      <td>0.0</td>\n",
              "    </tr>\n",
              "    <tr>\n",
              "      <th>4</th>\n",
              "      <td>0.0</td>\n",
              "      <td>0.0</td>\n",
              "      <td>1.0</td>\n",
              "      <td>1.0</td>\n",
              "      <td>1.0</td>\n",
              "      <td>0.0</td>\n",
              "      <td>0.0</td>\n",
              "      <td>1.0</td>\n",
              "      <td>1.0</td>\n",
              "      <td>0.0</td>\n",
              "      <td>0.0</td>\n",
              "      <td>1.0</td>\n",
              "      <td>0.0</td>\n",
              "      <td>0.0</td>\n",
              "    </tr>\n",
              "  </tbody>\n",
              "</table>\n",
              "</div>"
            ],
            "text/plain": [
              "   38100  57500  55800  59300  29600  ...  37880  17300  49700  34500  30400\n",
              "0    0.0    1.0    1.0    1.0    0.0  ...    1.0    0.0    1.0    1.0    0.0\n",
              "1    0.0    0.0    1.0    1.0    1.0  ...    1.0    1.0    1.0    1.0    0.0\n",
              "2    0.0    0.0    1.0    0.0    0.0  ...    0.0    0.0    1.0    0.0    0.0\n",
              "3    0.0    0.0    1.0    1.0    0.0  ...    1.0    0.0    1.0    0.0    0.0\n",
              "4    0.0    0.0    1.0    1.0    1.0  ...    0.0    0.0    1.0    0.0    0.0\n",
              "\n",
              "[5 rows x 14 columns]"
            ]
          },
          "metadata": {
            "tags": []
          },
          "execution_count": 13
        }
      ]
    },
    {
      "cell_type": "code",
      "metadata": {
        "id": "5qObwHfZTasg"
      },
      "source": [
        "X_bin,y_bin = np.asarray(X_bin),np.asarray(y_bin)\n",
        "test_bin = np.asarray(test2)"
      ],
      "execution_count": null,
      "outputs": []
    },
    {
      "cell_type": "code",
      "metadata": {
        "id": "BPcyFvHv6uZL"
      },
      "source": [
        "# initialize binary relevance multi-label classifier\n",
        "# with a gaussian naive bayes base classifier\n",
        "classifier = LabelPowerset(GaussianNB(),require_dense=[False,True])\n",
        "classifier.fit(X_bin,y_bin)\n",
        "predictions_bin = classifier.predict(test_bin)"
      ],
      "execution_count": null,
      "outputs": []
    },
    {
      "cell_type": "code",
      "metadata": {
        "colab": {
          "base_uri": "https://localhost:8080/"
        },
        "id": "m2JWHYmx7eQD",
        "outputId": "e3d7a6e0-a476-4869-a575-10cf484fe1b3"
      },
      "source": [
        "temp = classifier.predict(X_bin)\n",
        "accuracy_score(y_bin,temp)"
      ],
      "execution_count": null,
      "outputs": [
        {
          "output_type": "execute_result",
          "data": {
            "text/plain": [
              "0.9460916442048517"
            ]
          },
          "metadata": {
            "tags": []
          },
          "execution_count": 15
        }
      ]
    },
    {
      "cell_type": "code",
      "metadata": {
        "colab": {
          "base_uri": "https://localhost:8080/"
        },
        "id": "wfC7PmFk7rF5",
        "outputId": "eaf32a1b-3af3-45d4-84d3-76549eeecd4e"
      },
      "source": [
        "predictions_bin"
      ],
      "execution_count": null,
      "outputs": [
        {
          "output_type": "execute_result",
          "data": {
            "text/plain": [
              "<318x14 sparse matrix of type '<class 'numpy.int64'>'\n",
              "\twith 901 stored elements in List of Lists format>"
            ]
          },
          "metadata": {
            "tags": []
          },
          "execution_count": 18
        }
      ]
    },
    {
      "cell_type": "code",
      "metadata": {
        "id": "T2OCHRKv8mqF"
      },
      "source": [
        "outer = []\n",
        "for i in range(318):\n",
        "  inner = []\n",
        "  for j in range(14):\n",
        "    if predictions_bin[i][j]!=0:\n",
        "      inner.append(predictions[i][j])\n",
        "    else:\n",
        "      inner.append(0)\n",
        "  outer.append(inner)"
      ],
      "execution_count": null,
      "outputs": []
    },
    {
      "cell_type": "code",
      "metadata": {
        "id": "pZM75VbRAHnX"
      },
      "source": [
        "ex = classifier.inverse_transform(predictions_bin)\n",
        "ex"
      ],
      "execution_count": null,
      "outputs": []
    },
    {
      "cell_type": "code",
      "metadata": {
        "id": "hmlw3WRQIimx"
      },
      "source": [
        ""
      ],
      "execution_count": null,
      "outputs": []
    }
  ]
}