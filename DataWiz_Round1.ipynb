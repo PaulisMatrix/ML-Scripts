{
  "nbformat": 4,
  "nbformat_minor": 0,
  "metadata": {
    "colab": {
      "name": "DataWiz.ipynb",
      "provenance": []
    },
    "kernelspec": {
      "name": "python3",
      "display_name": "Python 3"
    },
    "widgets": {
      "application/vnd.jupyter.widget-state+json": {
        "cac824ae0db04ea8b9b4a57ec5e39982": {
          "model_module": "@jupyter-widgets/controls",
          "model_name": "IntProgressModel",
          "model_module_version": "1.5.0",
          "state": {
            "_view_name": "ProgressView",
            "style": "IPY_MODEL_48042a7844984d6d8ceacee0fa922cea",
            "_dom_classes": [],
            "description": "Processing: ",
            "_model_name": "IntProgressModel",
            "bar_style": "",
            "max": 79,
            "_view_module": "@jupyter-widgets/controls",
            "_model_module_version": "1.5.0",
            "value": 79,
            "_view_count": null,
            "_view_module_version": "1.5.0",
            "orientation": "horizontal",
            "min": 0,
            "description_tooltip": null,
            "_model_module": "@jupyter-widgets/controls",
            "layout": "IPY_MODEL_2471427cf3b74f958fb6fb04a53526c0"
          }
        },
        "48042a7844984d6d8ceacee0fa922cea": {
          "model_module": "@jupyter-widgets/controls",
          "model_name": "ProgressStyleModel",
          "model_module_version": "1.5.0",
          "state": {
            "_view_name": "StyleView",
            "_model_name": "ProgressStyleModel",
            "description_width": "",
            "_view_module": "@jupyter-widgets/base",
            "_model_module_version": "1.5.0",
            "_view_count": null,
            "_view_module_version": "1.2.0",
            "bar_color": null,
            "_model_module": "@jupyter-widgets/controls"
          }
        },
        "2471427cf3b74f958fb6fb04a53526c0": {
          "model_module": "@jupyter-widgets/base",
          "model_name": "LayoutModel",
          "model_module_version": "1.2.0",
          "state": {
            "_view_name": "LayoutView",
            "grid_template_rows": null,
            "right": null,
            "justify_content": null,
            "_view_module": "@jupyter-widgets/base",
            "overflow": null,
            "_model_module_version": "1.2.0",
            "_view_count": null,
            "flex_flow": null,
            "width": null,
            "min_width": null,
            "border": null,
            "align_items": null,
            "bottom": null,
            "_model_module": "@jupyter-widgets/base",
            "top": null,
            "grid_column": null,
            "overflow_y": null,
            "overflow_x": null,
            "grid_auto_flow": null,
            "grid_area": null,
            "grid_template_columns": null,
            "flex": null,
            "_model_name": "LayoutModel",
            "justify_items": null,
            "grid_row": null,
            "max_height": null,
            "align_content": null,
            "visibility": null,
            "align_self": null,
            "height": null,
            "min_height": null,
            "padding": null,
            "grid_auto_rows": null,
            "grid_gap": null,
            "max_width": null,
            "order": null,
            "_view_module_version": "1.2.0",
            "grid_template_areas": null,
            "object_position": null,
            "object_fit": null,
            "grid_auto_columns": null,
            "margin": null,
            "display": null,
            "left": null
          }
        },
        "6ac089ffc99b4ee1a2484ba44675959e": {
          "model_module": "@jupyter-widgets/controls",
          "model_name": "IntProgressModel",
          "model_module_version": "1.5.0",
          "state": {
            "_view_name": "ProgressView",
            "style": "IPY_MODEL_9bd6c904723245378e57b1d296be41c2",
            "_dom_classes": [],
            "description": "Processing: ",
            "_model_name": "IntProgressModel",
            "bar_style": "",
            "max": 4,
            "_view_module": "@jupyter-widgets/controls",
            "_model_module_version": "1.5.0",
            "value": 4,
            "_view_count": null,
            "_view_module_version": "1.5.0",
            "orientation": "horizontal",
            "min": 0,
            "description_tooltip": null,
            "_model_module": "@jupyter-widgets/controls",
            "layout": "IPY_MODEL_1b48dab980e640a48a1db3c6c3ed6c8f"
          }
        },
        "9bd6c904723245378e57b1d296be41c2": {
          "model_module": "@jupyter-widgets/controls",
          "model_name": "ProgressStyleModel",
          "model_module_version": "1.5.0",
          "state": {
            "_view_name": "StyleView",
            "_model_name": "ProgressStyleModel",
            "description_width": "",
            "_view_module": "@jupyter-widgets/base",
            "_model_module_version": "1.5.0",
            "_view_count": null,
            "_view_module_version": "1.2.0",
            "bar_color": null,
            "_model_module": "@jupyter-widgets/controls"
          }
        },
        "1b48dab980e640a48a1db3c6c3ed6c8f": {
          "model_module": "@jupyter-widgets/base",
          "model_name": "LayoutModel",
          "model_module_version": "1.2.0",
          "state": {
            "_view_name": "LayoutView",
            "grid_template_rows": null,
            "right": null,
            "justify_content": null,
            "_view_module": "@jupyter-widgets/base",
            "overflow": null,
            "_model_module_version": "1.2.0",
            "_view_count": null,
            "flex_flow": null,
            "width": null,
            "min_width": null,
            "border": null,
            "align_items": null,
            "bottom": null,
            "_model_module": "@jupyter-widgets/base",
            "top": null,
            "grid_column": null,
            "overflow_y": null,
            "overflow_x": null,
            "grid_auto_flow": null,
            "grid_area": null,
            "grid_template_columns": null,
            "flex": null,
            "_model_name": "LayoutModel",
            "justify_items": null,
            "grid_row": null,
            "max_height": null,
            "align_content": null,
            "visibility": null,
            "align_self": null,
            "height": null,
            "min_height": null,
            "padding": null,
            "grid_auto_rows": null,
            "grid_gap": null,
            "max_width": null,
            "order": null,
            "_view_module_version": "1.2.0",
            "grid_template_areas": null,
            "object_position": null,
            "object_fit": null,
            "grid_auto_columns": null,
            "margin": null,
            "display": null,
            "left": null
          }
        }
      }
    }
  },
  "cells": [
    {
      "cell_type": "code",
      "metadata": {
        "colab": {
          "base_uri": "https://localhost:8080/"
        },
        "id": "lkmDpzjAiB5r",
        "outputId": "309d9e9a-6f2a-4df8-c86f-a5e3448cf84a"
      },
      "source": [
        "import os\n",
        "os.getcwd()\n",
        "os.listdir()"
      ],
      "execution_count": null,
      "outputs": [
        {
          "output_type": "execute_result",
          "data": {
            "text/plain": [
              "['.config', 'sample_data']"
            ]
          },
          "metadata": {
            "tags": []
          },
          "execution_count": 1
        }
      ]
    },
    {
      "cell_type": "code",
      "metadata": {
        "id": "gVKn3bKVi5Qt"
      },
      "source": [
        "import pandas as pd\n",
        "import numpy as np\n",
        "from sklearn.model_selection import train_test_split,RandomizedSearchCV\n",
        "from sklearn.base import TransformerMixin\n",
        "from sklearn.preprocessing import LabelEncoder\n",
        "from sklearn.metrics import confusion_matrix \n",
        "from sklearn.tree import DecisionTreeClassifier\n",
        "from sklearn.ensemble import RandomForestClassifier\n",
        "from sklearn.metrics import accuracy_score,r2_score\n",
        "from sklearn.metrics import precision_score,recall_score \n",
        "from sklearn.preprocessing import OneHotEncoder\n",
        "import matplotlib.pyplot as plt"
      ],
      "execution_count": null,
      "outputs": []
    },
    {
      "cell_type": "code",
      "metadata": {
        "colab": {
          "base_uri": "https://localhost:8080/"
        },
        "id": "k6Tzxll5jJ_k",
        "outputId": "8c4e047d-466a-42f4-af7f-8cb4cddb00c8"
      },
      "source": [
        "df = pd.read_csv('train.csv')\n",
        "X_features = df.copy()\n",
        "'''\n",
        "features = ['Age','Gender','Education_Duration','Housing','Loan Status',\n",
        "            'Working_Hours','Investment','Loan','Dependents','Marital_Status',\n",
        "            'Employer_Kind','Income','Debt_Paid','Yearly_Breaks','Answer']\n",
        "X_features = X_features[features]\n",
        "\n",
        "test_features = ['Age','Gender','Education_Duration','Housing','Loan Status',\n",
        "            'Working_Hours','Investment','Loan','Dependents','Marital_Status',\n",
        "            'Employer_Kind','Income','Debt_Paid','Yearly_Breaks']\n",
        "'''\n",
        "df_test = pd.read_csv('test.csv')\n",
        "user_id = df_test.Id.values\n",
        "X_test = df_test.copy()\n",
        "\n",
        "print(X_features.columns,X_test.columns)"
      ],
      "execution_count": null,
      "outputs": [
        {
          "output_type": "stream",
          "text": [
            "Index(['Age', 'SSec_Category', 'Gender', 'Hobby', 'Education_Duration',\n",
            "       'Housing', 'Profession', 'Loan Status', 'Working_Hours', 'Investment',\n",
            "       'Loan', 'Dependents', 'Marital_Status', 'Yearly_Breaks',\n",
            "       'Number_of_Siblings', 'Employer_Kind', 'City', 'Income', 'Answer',\n",
            "       'Country', 'Debt_Paid', 'Id'],\n",
            "      dtype='object') Index(['Age', 'SSec_Category', 'Gender', 'Hobby', 'Education_Duration',\n",
            "       'Housing', 'Profession', 'Loan Status', 'Working_Hours', 'Investment',\n",
            "       'Loan', 'Dependents', 'Marital_Status', 'Yearly_Breaks',\n",
            "       'Number_of_Siblings', 'Employer_Kind', 'City', 'Income', 'Country',\n",
            "       'Debt_Paid', 'Id'],\n",
            "      dtype='object')\n"
          ],
          "name": "stdout"
        }
      ]
    },
    {
      "cell_type": "code",
      "metadata": {
        "colab": {
          "base_uri": "https://localhost:8080/"
        },
        "id": "K6Ez37NFbSlz",
        "outputId": "9a7af9d6-beed-4e4e-df87-6a20a28b9740"
      },
      "source": [
        "corr_mat = df.corr()\n",
        "cor_target = abs(corr_mat['Answer'])\n",
        "selected_features = cor_target[cor_target > 0.01]\n",
        "selected_features"
      ],
      "execution_count": null,
      "outputs": [
        {
          "output_type": "execute_result",
          "data": {
            "text/plain": [
              "Age                   0.231185\n",
              "SSec_Category         0.071286\n",
              "Hobby                 0.080234\n",
              "Education_Duration    0.333579\n",
              "Profession            0.032068\n",
              "Working_Hours         0.231490\n",
              "Investment            0.222582\n",
              "Loan                  0.155595\n",
              "Dependents            0.254639\n",
              "City                  0.019552\n",
              "Answer                1.000000\n",
              "Name: Answer, dtype: float64"
            ]
          },
          "metadata": {
            "tags": []
          },
          "execution_count": 4
        }
      ]
    },
    {
      "cell_type": "code",
      "metadata": {
        "colab": {
          "base_uri": "https://localhost:8080/",
          "height": 206
        },
        "id": "T_Th_-oabxQM",
        "outputId": "bdf2c9fe-b928-46ff-f0d8-18c5759b5251"
      },
      "source": [
        "correlated_features = ['Age','SSec_Category','Hobby','Education_Duration','Profession','Working_Hours',\n",
        "                       'Investment','Loan','Dependents','City','Answer']\n",
        "X_correlated = df.copy()\n",
        "X_correlated = X_correlated[correlated_features]\n",
        "X_correlated.head()"
      ],
      "execution_count": null,
      "outputs": [
        {
          "output_type": "execute_result",
          "data": {
            "text/html": [
              "<div>\n",
              "<style scoped>\n",
              "    .dataframe tbody tr th:only-of-type {\n",
              "        vertical-align: middle;\n",
              "    }\n",
              "\n",
              "    .dataframe tbody tr th {\n",
              "        vertical-align: top;\n",
              "    }\n",
              "\n",
              "    .dataframe thead th {\n",
              "        text-align: right;\n",
              "    }\n",
              "</style>\n",
              "<table border=\"1\" class=\"dataframe\">\n",
              "  <thead>\n",
              "    <tr style=\"text-align: right;\">\n",
              "      <th></th>\n",
              "      <th>Age</th>\n",
              "      <th>SSec_Category</th>\n",
              "      <th>Hobby</th>\n",
              "      <th>Education_Duration</th>\n",
              "      <th>Profession</th>\n",
              "      <th>Working_Hours</th>\n",
              "      <th>Investment</th>\n",
              "      <th>Loan</th>\n",
              "      <th>Dependents</th>\n",
              "      <th>City</th>\n",
              "      <th>Answer</th>\n",
              "    </tr>\n",
              "  </thead>\n",
              "  <tbody>\n",
              "    <tr>\n",
              "      <th>0</th>\n",
              "      <td>37.0</td>\n",
              "      <td>4</td>\n",
              "      <td>9</td>\n",
              "      <td>14.0</td>\n",
              "      <td>0</td>\n",
              "      <td>NaN</td>\n",
              "      <td>2194.0</td>\n",
              "      <td>2000.0</td>\n",
              "      <td>2</td>\n",
              "      <td>38</td>\n",
              "      <td>0</td>\n",
              "    </tr>\n",
              "    <tr>\n",
              "      <th>1</th>\n",
              "      <td>48.0</td>\n",
              "      <td>4</td>\n",
              "      <td>9</td>\n",
              "      <td>14.0</td>\n",
              "      <td>3</td>\n",
              "      <td>15.0</td>\n",
              "      <td>20.0</td>\n",
              "      <td>2000.0</td>\n",
              "      <td>1</td>\n",
              "      <td>38</td>\n",
              "      <td>0</td>\n",
              "    </tr>\n",
              "    <tr>\n",
              "      <th>2</th>\n",
              "      <td>36.0</td>\n",
              "      <td>4</td>\n",
              "      <td>11</td>\n",
              "      <td>10.0</td>\n",
              "      <td>5</td>\n",
              "      <td>42.0</td>\n",
              "      <td>20.0</td>\n",
              "      <td>2000.0</td>\n",
              "      <td>2</td>\n",
              "      <td>38</td>\n",
              "      <td>0</td>\n",
              "    </tr>\n",
              "    <tr>\n",
              "      <th>3</th>\n",
              "      <td>51.0</td>\n",
              "      <td>2</td>\n",
              "      <td>1</td>\n",
              "      <td>8.0</td>\n",
              "      <td>5</td>\n",
              "      <td>42.0</td>\n",
              "      <td>20.0</td>\n",
              "      <td>2000.0</td>\n",
              "      <td>1</td>\n",
              "      <td>38</td>\n",
              "      <td>0</td>\n",
              "    </tr>\n",
              "    <tr>\n",
              "      <th>4</th>\n",
              "      <td>26.0</td>\n",
              "      <td>2</td>\n",
              "      <td>9</td>\n",
              "      <td>14.0</td>\n",
              "      <td>9</td>\n",
              "      <td>42.0</td>\n",
              "      <td>20.0</td>\n",
              "      <td>2000.0</td>\n",
              "      <td>6</td>\n",
              "      <td>4</td>\n",
              "      <td>0</td>\n",
              "    </tr>\n",
              "  </tbody>\n",
              "</table>\n",
              "</div>"
            ],
            "text/plain": [
              "    Age  SSec_Category  Hobby  ...  Dependents  City  Answer\n",
              "0  37.0              4      9  ...           2    38       0\n",
              "1  48.0              4      9  ...           1    38       0\n",
              "2  36.0              4     11  ...           2    38       0\n",
              "3  51.0              2      1  ...           1    38       0\n",
              "4  26.0              2      9  ...           6     4       0\n",
              "\n",
              "[5 rows x 11 columns]"
            ]
          },
          "metadata": {
            "tags": []
          },
          "execution_count": 5
        }
      ]
    },
    {
      "cell_type": "code",
      "metadata": {
        "colab": {
          "base_uri": "https://localhost:8080/",
          "height": 206
        },
        "id": "vBnGkXascRTI",
        "outputId": "3833c4ab-2e0e-4993-ce06-8a74ef101991"
      },
      "source": [
        "correlated_features_test = ['Age','SSec_Category','Hobby','Education_Duration','Profession','Working_Hours',\n",
        "                       'Investment','Loan','Dependents','City']\n",
        "X_correlated_test = df_test.copy()\n",
        "X_correlated_test = X_correlated_test[correlated_features_test]\n",
        "X_correlated_test.head()"
      ],
      "execution_count": null,
      "outputs": [
        {
          "output_type": "execute_result",
          "data": {
            "text/html": [
              "<div>\n",
              "<style scoped>\n",
              "    .dataframe tbody tr th:only-of-type {\n",
              "        vertical-align: middle;\n",
              "    }\n",
              "\n",
              "    .dataframe tbody tr th {\n",
              "        vertical-align: top;\n",
              "    }\n",
              "\n",
              "    .dataframe thead th {\n",
              "        text-align: right;\n",
              "    }\n",
              "</style>\n",
              "<table border=\"1\" class=\"dataframe\">\n",
              "  <thead>\n",
              "    <tr style=\"text-align: right;\">\n",
              "      <th></th>\n",
              "      <th>Age</th>\n",
              "      <th>SSec_Category</th>\n",
              "      <th>Hobby</th>\n",
              "      <th>Education_Duration</th>\n",
              "      <th>Profession</th>\n",
              "      <th>Working_Hours</th>\n",
              "      <th>Investment</th>\n",
              "      <th>Loan</th>\n",
              "      <th>Dependents</th>\n",
              "      <th>City</th>\n",
              "    </tr>\n",
              "  </thead>\n",
              "  <tbody>\n",
              "    <tr>\n",
              "      <th>0</th>\n",
              "      <td>47.0</td>\n",
              "      <td>2</td>\n",
              "      <td>6</td>\n",
              "      <td>6.0</td>\n",
              "      <td>7</td>\n",
              "      <td>18.0</td>\n",
              "      <td>20.0</td>\n",
              "      <td>2000.0</td>\n",
              "      <td>2</td>\n",
              "      <td>22</td>\n",
              "    </tr>\n",
              "    <tr>\n",
              "      <th>1</th>\n",
              "      <td>28.0</td>\n",
              "      <td>1</td>\n",
              "      <td>9</td>\n",
              "      <td>14.0</td>\n",
              "      <td>9</td>\n",
              "      <td>42.0</td>\n",
              "      <td>20.0</td>\n",
              "      <td>2000.0</td>\n",
              "      <td>1</td>\n",
              "      <td>18</td>\n",
              "    </tr>\n",
              "    <tr>\n",
              "      <th>2</th>\n",
              "      <td>52.0</td>\n",
              "      <td>2</td>\n",
              "      <td>11</td>\n",
              "      <td>10.0</td>\n",
              "      <td>7</td>\n",
              "      <td>NaN</td>\n",
              "      <td>20.0</td>\n",
              "      <td>2000.0</td>\n",
              "      <td>5</td>\n",
              "      <td>38</td>\n",
              "    </tr>\n",
              "    <tr>\n",
              "      <th>3</th>\n",
              "      <td>41.0</td>\n",
              "      <td>4</td>\n",
              "      <td>1</td>\n",
              "      <td>8.0</td>\n",
              "      <td>13</td>\n",
              "      <td>42.0</td>\n",
              "      <td>20.0</td>\n",
              "      <td>4042.0</td>\n",
              "      <td>1</td>\n",
              "      <td>38</td>\n",
              "    </tr>\n",
              "    <tr>\n",
              "      <th>4</th>\n",
              "      <td>52.0</td>\n",
              "      <td>1</td>\n",
              "      <td>15</td>\n",
              "      <td>11.0</td>\n",
              "      <td>9</td>\n",
              "      <td>62.0</td>\n",
              "      <td>20.0</td>\n",
              "      <td>2000.0</td>\n",
              "      <td>1</td>\n",
              "      <td>34</td>\n",
              "    </tr>\n",
              "  </tbody>\n",
              "</table>\n",
              "</div>"
            ],
            "text/plain": [
              "    Age  SSec_Category  Hobby  ...    Loan  Dependents  City\n",
              "0  47.0              2      6  ...  2000.0           2    22\n",
              "1  28.0              1      9  ...  2000.0           1    18\n",
              "2  52.0              2     11  ...  2000.0           5    38\n",
              "3  41.0              4      1  ...  4042.0           1    38\n",
              "4  52.0              1     15  ...  2000.0           1    34\n",
              "\n",
              "[5 rows x 10 columns]"
            ]
          },
          "metadata": {
            "tags": []
          },
          "execution_count": 6
        }
      ]
    },
    {
      "cell_type": "code",
      "metadata": {
        "colab": {
          "base_uri": "https://localhost:8080/",
          "height": 72
        },
        "id": "9CQHQPGpjzlr",
        "outputId": "5ad6f92c-5674-451a-c17d-cd970cb92d0f"
      },
      "source": [
        "X_features = X_features.select_dtypes(exclude=['object'])\n",
        "X_test = X_test.select_dtypes(exclude=['object'])\n",
        "print(X_features.shape,X_test.shape)\n",
        "\n",
        "'''\n",
        "#try label encoding the categorical columns\n",
        "s = (X_features.dtypes == 'object')\n",
        "object_cols = list(s[s].index)\n",
        "print(object_cols)\n",
        "'''"
      ],
      "execution_count": null,
      "outputs": [
        {
          "output_type": "stream",
          "text": [
            "(34308, 6) (14537, 6)\n"
          ],
          "name": "stdout"
        },
        {
          "output_type": "execute_result",
          "data": {
            "application/vnd.google.colaboratory.intrinsic+json": {
              "type": "string"
            },
            "text/plain": [
              "\"\\n#try label encoding the categorical columns\\ns = (X_features.dtypes == 'object')\\nobject_cols = list(s[s].index)\\nprint(object_cols)\\n\""
            ]
          },
          "metadata": {
            "tags": []
          },
          "execution_count": 52
        }
      ]
    },
    {
      "cell_type": "code",
      "metadata": {
        "id": "vGZdkKKlJw5U"
      },
      "source": [
        "y = df.Answer\n",
        "X_train, X_valid, y_train, y_valid = train_test_split(X_features, y, train_size=0.8, test_size=0.2,\n",
        "                                                      random_state=0)"
      ],
      "execution_count": null,
      "outputs": []
    },
    {
      "cell_type": "code",
      "metadata": {
        "id": "JhDnGybkkMx4"
      },
      "source": [
        "class CustomImputer(TransformerMixin):\n",
        "    def __init__(self):\n",
        "        '''\n",
        "        Replace numerical,float missing values to mean values.\n",
        "        Replace categorical missing values to most frequent\n",
        "        '''\n",
        "    def fit(self,X,y=None):\n",
        "        self.impute_values = pd.Series([X[cols].value_counts().index[0]\n",
        "                                        if X[cols].dtype == np.dtype('O') else X[cols].mean() for cols in X],\n",
        "                                        index = X.columns\n",
        "                                        )\n",
        "        return self\n",
        "    \n",
        "    def transform(self,X,y=None):\n",
        "        return X.fillna(self.impute_values)    \n"
      ],
      "execution_count": null,
      "outputs": []
    },
    {
      "cell_type": "code",
      "metadata": {
        "id": "-zHkRZ7TkTmX"
      },
      "source": [
        "imputer_obj = CustomImputer()\n",
        "imputer_obj.fit(X_train)\n",
        "X_train_Imputed = imputer_obj.transform(X_train)\n",
        "X_valid_Imputed = imputer_obj.transform(X_valid)\n",
        "X_test_Imputed = imputer_obj.transform(X_test)\n",
        "\n",
        "X_features_Imputed = imputer_obj.fit_transform(X_features)\n"
      ],
      "execution_count": null,
      "outputs": []
    },
    {
      "cell_type": "code",
      "metadata": {
        "colab": {
          "base_uri": "https://localhost:8080/",
          "height": 206
        },
        "id": "0T8oh8s2KWMH",
        "outputId": "4e796642-464f-4834-e090-acd6e03f5453"
      },
      "source": [
        "#X_test_Imputed['Housing'].replace({'Treehouse':'Condo'},inplace = True)\n",
        "X_train_Imputed.head()"
      ],
      "execution_count": null,
      "outputs": [
        {
          "output_type": "execute_result",
          "data": {
            "text/html": [
              "<div>\n",
              "<style scoped>\n",
              "    .dataframe tbody tr th:only-of-type {\n",
              "        vertical-align: middle;\n",
              "    }\n",
              "\n",
              "    .dataframe tbody tr th {\n",
              "        vertical-align: top;\n",
              "    }\n",
              "\n",
              "    .dataframe thead th {\n",
              "        text-align: right;\n",
              "    }\n",
              "</style>\n",
              "<table border=\"1\" class=\"dataframe\">\n",
              "  <thead>\n",
              "    <tr style=\"text-align: right;\">\n",
              "      <th></th>\n",
              "      <th>Age</th>\n",
              "      <th>Education_Duration</th>\n",
              "      <th>Working_Hours</th>\n",
              "      <th>Investment</th>\n",
              "      <th>Loan</th>\n",
              "      <th>Dependents</th>\n",
              "    </tr>\n",
              "  </thead>\n",
              "  <tbody>\n",
              "    <tr>\n",
              "      <th>9683</th>\n",
              "      <td>18.0</td>\n",
              "      <td>11.0</td>\n",
              "      <td>42.0</td>\n",
              "      <td>20.0</td>\n",
              "      <td>2000.0</td>\n",
              "      <td>4</td>\n",
              "    </tr>\n",
              "    <tr>\n",
              "      <th>18682</th>\n",
              "      <td>56.0</td>\n",
              "      <td>10.0</td>\n",
              "      <td>42.0</td>\n",
              "      <td>20.0</td>\n",
              "      <td>2000.0</td>\n",
              "      <td>2</td>\n",
              "    </tr>\n",
              "    <tr>\n",
              "      <th>18908</th>\n",
              "      <td>32.0</td>\n",
              "      <td>10.0</td>\n",
              "      <td>42.0</td>\n",
              "      <td>20.0</td>\n",
              "      <td>2000.0</td>\n",
              "      <td>4</td>\n",
              "    </tr>\n",
              "    <tr>\n",
              "      <th>23131</th>\n",
              "      <td>17.0</td>\n",
              "      <td>10.0</td>\n",
              "      <td>42.0</td>\n",
              "      <td>20.0</td>\n",
              "      <td>2000.0</td>\n",
              "      <td>5</td>\n",
              "    </tr>\n",
              "    <tr>\n",
              "      <th>14821</th>\n",
              "      <td>20.0</td>\n",
              "      <td>14.0</td>\n",
              "      <td>42.0</td>\n",
              "      <td>20.0</td>\n",
              "      <td>2000.0</td>\n",
              "      <td>4</td>\n",
              "    </tr>\n",
              "  </tbody>\n",
              "</table>\n",
              "</div>"
            ],
            "text/plain": [
              "        Age  Education_Duration  Working_Hours  Investment    Loan  Dependents\n",
              "9683   18.0                11.0           42.0        20.0  2000.0           4\n",
              "18682  56.0                10.0           42.0        20.0  2000.0           2\n",
              "18908  32.0                10.0           42.0        20.0  2000.0           4\n",
              "23131  17.0                10.0           42.0        20.0  2000.0           5\n",
              "14821  20.0                14.0           42.0        20.0  2000.0           4"
            ]
          },
          "metadata": {
            "tags": []
          },
          "execution_count": 68
        }
      ]
    },
    {
      "cell_type": "code",
      "metadata": {
        "id": "rDo1_iJsKglR"
      },
      "source": [
        "#X_valid_Imputed['Employer_Kind'].replace({'Startup':'Self-employed'},inplace = True)\n"
      ],
      "execution_count": null,
      "outputs": []
    },
    {
      "cell_type": "code",
      "metadata": {
        "id": "07A4mU_8JZ13"
      },
      "source": [
        "'''\n",
        "#try label encoding\n",
        "label_X_train = X_train_Imputed.copy()\n",
        "label_X_valid = X_valid_Imputed.copy()\n",
        "label_X_test = X_test_Imputed.copy()\n",
        "\n",
        "label_encoder = LabelEncoder()\n",
        "\n",
        "for cols in object_cols:\n",
        "     label_X_train[cols] = label_encoder.fit_transform(X_train_Imputed[cols])\n",
        "    label_X_valid[cols] = label_encoder.transform(X_valid_Imputed[cols])\n",
        "    label_X_test[cols] = label_encoder.transform(X_test_Imputed[cols])\n",
        "'''"
      ],
      "execution_count": null,
      "outputs": []
    },
    {
      "cell_type": "code",
      "metadata": {
        "colab": {
          "base_uri": "https://localhost:8080/"
        },
        "id": "UnCk5gPuGFsu",
        "outputId": "d7620d38-fd16-4c0a-b7ae-aa40011102d8"
      },
      "source": [
        "#try Standard Scaling\n",
        "#X_features_Norm = X_features_Imputed.copy()\n",
        "X_train_Norm = X_train_Imputed.copy()\n",
        "X_valid_Norm = X_valid_Imputed.copy()\n",
        "X_test_Norm = X_test_Imputed.copy()\n",
        "\n",
        "s = (X_train_Imputed.dtypes !='Object')\n",
        "num_cols = list(s[s].index)\n",
        "print(num_cols)\n"
      ],
      "execution_count": null,
      "outputs": [
        {
          "output_type": "stream",
          "text": [
            "['Age', 'Education_Duration', 'Working_Hours', 'Investment', 'Loan', 'Dependents', 'Income', 'Debt_Paid']\n"
          ],
          "name": "stdout"
        }
      ]
    },
    {
      "cell_type": "code",
      "metadata": {
        "id": "x0MIp0fsGqSN"
      },
      "source": [
        "\n",
        "from sklearn.preprocessing import MinMaxScaler,StandardScaler\n",
        "norm = StandardScaler()\n",
        "#X_features_Norm[num_cols] = norm.fit_transform(X_features_Norm[num_cols])\n",
        "X_train_Norm[num_cols] = norm.fit_transform(X_train_Norm[num_cols])\n",
        "X_valid_Norm[num_cols] = norm.transform(X_valid_Norm[num_cols])\n",
        "X_test_Norm[num_cols] = norm.transform(X_test_Norm[num_cols])\n"
      ],
      "execution_count": null,
      "outputs": []
    },
    {
      "cell_type": "code",
      "metadata": {
        "colab": {
          "base_uri": "https://localhost:8080/"
        },
        "id": "qtahC4Likl88",
        "outputId": "46370d13-d084-4fa4-991b-ff18a358ee43"
      },
      "source": [
        "from pprint import pprint\n",
        "rf = RandomForestClassifier(random_state=42)\n",
        "pprint(rf.get_params())"
      ],
      "execution_count": null,
      "outputs": [
        {
          "output_type": "stream",
          "text": [
            "{'bootstrap': True,\n",
            " 'ccp_alpha': 0.0,\n",
            " 'class_weight': None,\n",
            " 'criterion': 'gini',\n",
            " 'max_depth': None,\n",
            " 'max_features': 'auto',\n",
            " 'max_leaf_nodes': None,\n",
            " 'max_samples': None,\n",
            " 'min_impurity_decrease': 0.0,\n",
            " 'min_impurity_split': None,\n",
            " 'min_samples_leaf': 1,\n",
            " 'min_samples_split': 2,\n",
            " 'min_weight_fraction_leaf': 0.0,\n",
            " 'n_estimators': 100,\n",
            " 'n_jobs': None,\n",
            " 'oob_score': False,\n",
            " 'random_state': 42,\n",
            " 'verbose': 0,\n",
            " 'warm_start': False}\n"
          ],
          "name": "stdout"
        }
      ]
    },
    {
      "cell_type": "code",
      "metadata": {
        "colab": {
          "base_uri": "https://localhost:8080/"
        },
        "id": "au6AVwzskvF5",
        "outputId": "f972ff78-401a-49c7-dec8-2aa60e6a3238"
      },
      "source": [
        "# Number of trees in random forest\n",
        "n_estimators = [int(x) for x in np.linspace(start =100, stop =1000 , num = 10)]\n",
        "\n",
        "# Number of features to consider at every split\n",
        "max_features = ['auto', 'sqrt']\n",
        "\n",
        "# Maximum number of levels in tree\n",
        "max_depth = [int(x) for x in np.linspace(10, 110, num = 11)]\n",
        "max_depth.append(None)\n",
        "\n",
        "# Minimum number of samples required to split a node\n",
        "min_samples_split = [5, 10, 15, 20, 25, 30]\n",
        "\n",
        "# Minimum number of samples required at each leaf node\n",
        "min_samples_leaf = [2, 4, 6, 8, 10]\n",
        "\n",
        "# Method of selecting samples for training each tree\n",
        "bootstrap = [True, False]# Create the random grid\n",
        "\n",
        "random_grid = {\n",
        "               'n_estimators': n_estimators,\n",
        "               'max_features': max_features,\n",
        "               'max_depth': max_depth,\n",
        "               'min_samples_split': min_samples_split,\n",
        "               'min_samples_leaf': min_samples_leaf,\n",
        "               'bootstrap': bootstrap\n",
        "               }\n",
        "pprint(random_grid)\n"
      ],
      "execution_count": null,
      "outputs": [
        {
          "output_type": "stream",
          "text": [
            "{'bootstrap': [True, False],\n",
            " 'max_depth': [10, 20, 30, 40, 50, 60, 70, 80, 90, 100, 110, None],\n",
            " 'max_features': ['auto', 'sqrt'],\n",
            " 'min_samples_leaf': [2, 4, 6, 8, 10],\n",
            " 'min_samples_split': [5, 10, 15, 20, 25, 30],\n",
            " 'n_estimators': [100, 200, 300, 400, 500, 600, 700, 800, 900, 1000]}\n"
          ],
          "name": "stdout"
        }
      ]
    },
    {
      "cell_type": "code",
      "metadata": {
        "id": "wwE4LFaMlFKh"
      },
      "source": [
        "y = df['Answer']\n",
        "\n",
        "rf_random = RandomizedSearchCV(estimator = rf, param_distributions = random_grid, n_iter = 50, \n",
        "                               cv = 3, verbose=2, random_state=42)\n",
        "\n",
        "rf_random.fit(X_features_Imputed,y)"
      ],
      "execution_count": null,
      "outputs": []
    },
    {
      "cell_type": "code",
      "metadata": {
        "colab": {
          "base_uri": "https://localhost:8080/"
        },
        "id": "0MVqmZEelqSp",
        "outputId": "20b01a99-741a-48eb-e8cb-d9694d3c4e22"
      },
      "source": [
        "rf_random.best_params_"
      ],
      "execution_count": null,
      "outputs": [
        {
          "output_type": "execute_result",
          "data": {
            "text/plain": [
              "{'bootstrap': True,\n",
              " 'max_depth': 90,\n",
              " 'max_features': 'auto',\n",
              " 'min_samples_leaf': 10,\n",
              " 'min_samples_split': 10,\n",
              " 'n_estimators': 200}"
            ]
          },
          "metadata": {
            "tags": []
          },
          "execution_count": 39
        }
      ]
    },
    {
      "cell_type": "code",
      "metadata": {
        "id": "MEeVv3UmENRA"
      },
      "source": [
        "#try PCA\n",
        "from sklearn.decomposition import PCA\n",
        "pca = PCA(n_components=0.95) #I wish to preserve 0.95 variance\n",
        "X_train_reduced = pca.fit_transform(X_train_Norm)\n",
        "X_valid_reduced = pca.transform(X_valid_Norm)\n",
        "X_test_reduced = pca.transform(X_test_Norm)\n"
      ],
      "execution_count": null,
      "outputs": []
    },
    {
      "cell_type": "code",
      "metadata": {
        "colab": {
          "base_uri": "https://localhost:8080/"
        },
        "id": "ZPXqmsjit_SE",
        "outputId": "4071a1e2-c88a-43ff-a0be-832a4ca82e25"
      },
      "source": [
        "model = RandomForestClassifier(n_estimators=200,max_depth=90,max_features='auto',min_samples_leaf=10,min_samples_split=10,bootstrap=True,n_jobs=-1)\n",
        "model.fit(X_train_Imputed,y_train)\n",
        "compare_y_valid = model.predict(X_valid_Imputed)\n",
        "print(accuracy_score(y_valid,compare_y_valid))\n",
        "#0.8590789857184494"
      ],
      "execution_count": null,
      "outputs": [
        {
          "output_type": "stream",
          "text": [
            "0.8582046050714077\n"
          ],
          "name": "stdout"
        }
      ]
    },
    {
      "cell_type": "code",
      "metadata": {
        "colab": {
          "base_uri": "https://localhost:8080/"
        },
        "id": "EI4DIkFKLuVZ",
        "outputId": "c9545963-a3ca-415e-894a-3d939561e5dc"
      },
      "source": [
        "compare_y_valid"
      ],
      "execution_count": null,
      "outputs": [
        {
          "output_type": "execute_result",
          "data": {
            "text/plain": [
              "array([0, 0, 0, ..., 0, 0, 0])"
            ]
          },
          "metadata": {
            "tags": []
          },
          "execution_count": 38
        }
      ]
    },
    {
      "cell_type": "code",
      "metadata": {
        "id": "SuR9lZwqHkib"
      },
      "source": [
        "pip install pycaret"
      ],
      "execution_count": null,
      "outputs": []
    },
    {
      "cell_type": "code",
      "metadata": {
        "id": "Z0AZa2DTsPxq"
      },
      "source": [
        "pip install shap"
      ],
      "execution_count": null,
      "outputs": []
    },
    {
      "cell_type": "code",
      "metadata": {
        "id": "ko5-0_VIO6S6"
      },
      "source": [
        "from pycaret import classification"
      ],
      "execution_count": null,
      "outputs": []
    },
    {
      "cell_type": "code",
      "metadata": {
        "id": "5vTGh0iIPoLv"
      },
      "source": [
        "classification.setup(data = X_correlated,target = 'Answer')"
      ],
      "execution_count": null,
      "outputs": []
    },
    {
      "cell_type": "code",
      "metadata": {
        "id": "1A4i-blrYDcp"
      },
      "source": [
        ""
      ],
      "execution_count": null,
      "outputs": []
    },
    {
      "cell_type": "code",
      "metadata": {
        "colab": {
          "base_uri": "https://localhost:8080/",
          "height": 629,
          "referenced_widgets": [
            "cac824ae0db04ea8b9b4a57ec5e39982",
            "48042a7844984d6d8ceacee0fa922cea",
            "2471427cf3b74f958fb6fb04a53526c0"
          ]
        },
        "id": "5tsaL52AQb6v",
        "outputId": "3f129f22-57e8-42eb-99f7-d0c0348534e0"
      },
      "source": [
        "classification.compare_models()"
      ],
      "execution_count": null,
      "outputs": [
        {
          "output_type": "display_data",
          "data": {
            "text/html": [
              "<div>\n",
              "<style scoped>\n",
              "    .dataframe tbody tr th:only-of-type {\n",
              "        vertical-align: middle;\n",
              "    }\n",
              "\n",
              "    .dataframe tbody tr th {\n",
              "        vertical-align: top;\n",
              "    }\n",
              "\n",
              "    .dataframe thead th {\n",
              "        text-align: right;\n",
              "    }\n",
              "</style>\n",
              "<table border=\"1\" class=\"dataframe\">\n",
              "  <thead>\n",
              "    <tr style=\"text-align: right;\">\n",
              "      <th></th>\n",
              "      <th>Model</th>\n",
              "      <th>Accuracy</th>\n",
              "      <th>AUC</th>\n",
              "      <th>Recall</th>\n",
              "      <th>Prec.</th>\n",
              "      <th>F1</th>\n",
              "      <th>Kappa</th>\n",
              "      <th>MCC</th>\n",
              "      <th>TT (Sec)</th>\n",
              "    </tr>\n",
              "  </thead>\n",
              "  <tbody>\n",
              "    <tr>\n",
              "      <th>lightgbm</th>\n",
              "      <td>Light Gradient Boosting Machine</td>\n",
              "      <td>0.8702</td>\n",
              "      <td>0.9233</td>\n",
              "      <td>0.6398</td>\n",
              "      <td>0.7781</td>\n",
              "      <td>0.7022</td>\n",
              "      <td>0.6202</td>\n",
              "      <td>0.6251</td>\n",
              "      <td>0.323</td>\n",
              "    </tr>\n",
              "    <tr>\n",
              "      <th>xgboost</th>\n",
              "      <td>Extreme Gradient Boosting</td>\n",
              "      <td>0.8692</td>\n",
              "      <td>0.9218</td>\n",
              "      <td>0.6419</td>\n",
              "      <td>0.7729</td>\n",
              "      <td>0.7012</td>\n",
              "      <td>0.6184</td>\n",
              "      <td>0.6229</td>\n",
              "      <td>7.275</td>\n",
              "    </tr>\n",
              "    <tr>\n",
              "      <th>catboost</th>\n",
              "      <td>CatBoost Classifier</td>\n",
              "      <td>0.8692</td>\n",
              "      <td>0.9234</td>\n",
              "      <td>0.6337</td>\n",
              "      <td>0.7783</td>\n",
              "      <td>0.6986</td>\n",
              "      <td>0.6162</td>\n",
              "      <td>0.6215</td>\n",
              "      <td>11.944</td>\n",
              "    </tr>\n",
              "    <tr>\n",
              "      <th>gbc</th>\n",
              "      <td>Gradient Boosting Classifier</td>\n",
              "      <td>0.8644</td>\n",
              "      <td>0.9181</td>\n",
              "      <td>0.5913</td>\n",
              "      <td>0.7890</td>\n",
              "      <td>0.6759</td>\n",
              "      <td>0.5924</td>\n",
              "      <td>0.6023</td>\n",
              "      <td>2.449</td>\n",
              "    </tr>\n",
              "    <tr>\n",
              "      <th>ada</th>\n",
              "      <td>Ada Boost Classifier</td>\n",
              "      <td>0.8598</td>\n",
              "      <td>0.9124</td>\n",
              "      <td>0.5987</td>\n",
              "      <td>0.7637</td>\n",
              "      <td>0.6712</td>\n",
              "      <td>0.5837</td>\n",
              "      <td>0.5907</td>\n",
              "      <td>0.752</td>\n",
              "    </tr>\n",
              "    <tr>\n",
              "      <th>lr</th>\n",
              "      <td>Logistic Regression</td>\n",
              "      <td>0.8474</td>\n",
              "      <td>0.8952</td>\n",
              "      <td>0.5756</td>\n",
              "      <td>0.7294</td>\n",
              "      <td>0.6430</td>\n",
              "      <td>0.5478</td>\n",
              "      <td>0.5542</td>\n",
              "      <td>4.231</td>\n",
              "    </tr>\n",
              "    <tr>\n",
              "      <th>rf</th>\n",
              "      <td>Random Forest Classifier</td>\n",
              "      <td>0.8417</td>\n",
              "      <td>0.8834</td>\n",
              "      <td>0.6130</td>\n",
              "      <td>0.6904</td>\n",
              "      <td>0.6493</td>\n",
              "      <td>0.5475</td>\n",
              "      <td>0.5492</td>\n",
              "      <td>2.423</td>\n",
              "    </tr>\n",
              "    <tr>\n",
              "      <th>knn</th>\n",
              "      <td>K Neighbors Classifier</td>\n",
              "      <td>0.8404</td>\n",
              "      <td>0.8650</td>\n",
              "      <td>0.6064</td>\n",
              "      <td>0.6891</td>\n",
              "      <td>0.6451</td>\n",
              "      <td>0.5427</td>\n",
              "      <td>0.5446</td>\n",
              "      <td>3.121</td>\n",
              "    </tr>\n",
              "    <tr>\n",
              "      <th>lda</th>\n",
              "      <td>Linear Discriminant Analysis</td>\n",
              "      <td>0.8401</td>\n",
              "      <td>0.8883</td>\n",
              "      <td>0.5455</td>\n",
              "      <td>0.7186</td>\n",
              "      <td>0.6200</td>\n",
              "      <td>0.5212</td>\n",
              "      <td>0.5292</td>\n",
              "      <td>0.189</td>\n",
              "    </tr>\n",
              "    <tr>\n",
              "      <th>ridge</th>\n",
              "      <td>Ridge Classifier</td>\n",
              "      <td>0.8394</td>\n",
              "      <td>0.0000</td>\n",
              "      <td>0.4918</td>\n",
              "      <td>0.7505</td>\n",
              "      <td>0.5940</td>\n",
              "      <td>0.4993</td>\n",
              "      <td>0.5167</td>\n",
              "      <td>0.048</td>\n",
              "    </tr>\n",
              "    <tr>\n",
              "      <th>nb</th>\n",
              "      <td>Naive Bayes</td>\n",
              "      <td>0.8311</td>\n",
              "      <td>0.8813</td>\n",
              "      <td>0.6358</td>\n",
              "      <td>0.6503</td>\n",
              "      <td>0.6428</td>\n",
              "      <td>0.5322</td>\n",
              "      <td>0.5324</td>\n",
              "      <td>0.051</td>\n",
              "    </tr>\n",
              "    <tr>\n",
              "      <th>et</th>\n",
              "      <td>Extra Trees Classifier</td>\n",
              "      <td>0.8268</td>\n",
              "      <td>0.8376</td>\n",
              "      <td>0.5909</td>\n",
              "      <td>0.6523</td>\n",
              "      <td>0.6199</td>\n",
              "      <td>0.5082</td>\n",
              "      <td>0.5093</td>\n",
              "      <td>2.813</td>\n",
              "    </tr>\n",
              "    <tr>\n",
              "      <th>dt</th>\n",
              "      <td>Decision Tree Classifier</td>\n",
              "      <td>0.8207</td>\n",
              "      <td>0.7710</td>\n",
              "      <td>0.6073</td>\n",
              "      <td>0.6295</td>\n",
              "      <td>0.6181</td>\n",
              "      <td>0.5010</td>\n",
              "      <td>0.5012</td>\n",
              "      <td>0.147</td>\n",
              "    </tr>\n",
              "    <tr>\n",
              "      <th>svm</th>\n",
              "      <td>SVM - Linear Kernel</td>\n",
              "      <td>0.6939</td>\n",
              "      <td>0.0000</td>\n",
              "      <td>0.3644</td>\n",
              "      <td>0.5028</td>\n",
              "      <td>0.3200</td>\n",
              "      <td>0.1752</td>\n",
              "      <td>0.2227</td>\n",
              "      <td>0.236</td>\n",
              "    </tr>\n",
              "    <tr>\n",
              "      <th>qda</th>\n",
              "      <td>Quadratic Discriminant Analysis</td>\n",
              "      <td>0.2407</td>\n",
              "      <td>0.5010</td>\n",
              "      <td>0.9998</td>\n",
              "      <td>0.2395</td>\n",
              "      <td>0.3864</td>\n",
              "      <td>0.0010</td>\n",
              "      <td>0.0202</td>\n",
              "      <td>0.085</td>\n",
              "    </tr>\n",
              "  </tbody>\n",
              "</table>\n",
              "</div>"
            ],
            "text/plain": [
              "                                    Model  Accuracy     AUC  Recall   Prec.  \\\n",
              "lightgbm  Light Gradient Boosting Machine    0.8702  0.9233  0.6398  0.7781   \n",
              "xgboost         Extreme Gradient Boosting    0.8692  0.9218  0.6419  0.7729   \n",
              "catboost              CatBoost Classifier    0.8692  0.9234  0.6337  0.7783   \n",
              "gbc          Gradient Boosting Classifier    0.8644  0.9181  0.5913  0.7890   \n",
              "ada                  Ada Boost Classifier    0.8598  0.9124  0.5987  0.7637   \n",
              "lr                    Logistic Regression    0.8474  0.8952  0.5756  0.7294   \n",
              "rf               Random Forest Classifier    0.8417  0.8834  0.6130  0.6904   \n",
              "knn                K Neighbors Classifier    0.8404  0.8650  0.6064  0.6891   \n",
              "lda          Linear Discriminant Analysis    0.8401  0.8883  0.5455  0.7186   \n",
              "ridge                    Ridge Classifier    0.8394  0.0000  0.4918  0.7505   \n",
              "nb                            Naive Bayes    0.8311  0.8813  0.6358  0.6503   \n",
              "et                 Extra Trees Classifier    0.8268  0.8376  0.5909  0.6523   \n",
              "dt               Decision Tree Classifier    0.8207  0.7710  0.6073  0.6295   \n",
              "svm                   SVM - Linear Kernel    0.6939  0.0000  0.3644  0.5028   \n",
              "qda       Quadratic Discriminant Analysis    0.2407  0.5010  0.9998  0.2395   \n",
              "\n",
              "              F1   Kappa     MCC  TT (Sec)  \n",
              "lightgbm  0.7022  0.6202  0.6251     0.323  \n",
              "xgboost   0.7012  0.6184  0.6229     7.275  \n",
              "catboost  0.6986  0.6162  0.6215    11.944  \n",
              "gbc       0.6759  0.5924  0.6023     2.449  \n",
              "ada       0.6712  0.5837  0.5907     0.752  \n",
              "lr        0.6430  0.5478  0.5542     4.231  \n",
              "rf        0.6493  0.5475  0.5492     2.423  \n",
              "knn       0.6451  0.5427  0.5446     3.121  \n",
              "lda       0.6200  0.5212  0.5292     0.189  \n",
              "ridge     0.5940  0.4993  0.5167     0.048  \n",
              "nb        0.6428  0.5322  0.5324     0.051  \n",
              "et        0.6199  0.5082  0.5093     2.813  \n",
              "dt        0.6181  0.5010  0.5012     0.147  \n",
              "svm       0.3200  0.1752  0.2227     0.236  \n",
              "qda       0.3864  0.0010  0.0202     0.085  "
            ]
          },
          "metadata": {
            "tags": []
          }
        },
        {
          "output_type": "execute_result",
          "data": {
            "text/plain": [
              "LGBMClassifier(boosting_type='gbdt', class_weight=None, colsample_bytree=1.0,\n",
              "               importance_type='split', learning_rate=0.1, max_depth=-1,\n",
              "               min_child_samples=20, min_child_weight=0.001, min_split_gain=0.0,\n",
              "               n_estimators=100, n_jobs=-1, num_leaves=31, objective=None,\n",
              "               random_state=6007, reg_alpha=0.0, reg_lambda=0.0, silent=True,\n",
              "               subsample=1.0, subsample_for_bin=200000, subsample_freq=0)"
            ]
          },
          "metadata": {
            "tags": []
          },
          "execution_count": 25
        }
      ]
    },
    {
      "cell_type": "code",
      "metadata": {
        "colab": {
          "base_uri": "https://localhost:8080/",
          "height": 426,
          "referenced_widgets": [
            "6ac089ffc99b4ee1a2484ba44675959e",
            "9bd6c904723245378e57b1d296be41c2",
            "1b48dab980e640a48a1db3c6c3ed6c8f"
          ]
        },
        "id": "H6Owdz4WQv2q",
        "outputId": "7718b1fe-fee2-4aa2-bb42-5cd58e1cee27"
      },
      "source": [
        "#built the model\n",
        "classification_model = classification.create_model('lightgbm')"
      ],
      "execution_count": null,
      "outputs": [
        {
          "output_type": "display_data",
          "data": {
            "text/html": [
              "<div>\n",
              "<style scoped>\n",
              "    .dataframe tbody tr th:only-of-type {\n",
              "        vertical-align: middle;\n",
              "    }\n",
              "\n",
              "    .dataframe tbody tr th {\n",
              "        vertical-align: top;\n",
              "    }\n",
              "\n",
              "    .dataframe thead th {\n",
              "        text-align: right;\n",
              "    }\n",
              "</style>\n",
              "<table border=\"1\" class=\"dataframe\">\n",
              "  <thead>\n",
              "    <tr style=\"text-align: right;\">\n",
              "      <th></th>\n",
              "      <th>Accuracy</th>\n",
              "      <th>AUC</th>\n",
              "      <th>Recall</th>\n",
              "      <th>Prec.</th>\n",
              "      <th>F1</th>\n",
              "      <th>Kappa</th>\n",
              "      <th>MCC</th>\n",
              "    </tr>\n",
              "  </thead>\n",
              "  <tbody>\n",
              "    <tr>\n",
              "      <th>0</th>\n",
              "      <td>0.8843</td>\n",
              "      <td>0.9293</td>\n",
              "      <td>0.6655</td>\n",
              "      <td>0.8162</td>\n",
              "      <td>0.7332</td>\n",
              "      <td>0.6603</td>\n",
              "      <td>0.6659</td>\n",
              "    </tr>\n",
              "    <tr>\n",
              "      <th>1</th>\n",
              "      <td>0.8651</td>\n",
              "      <td>0.9160</td>\n",
              "      <td>0.6411</td>\n",
              "      <td>0.7572</td>\n",
              "      <td>0.6943</td>\n",
              "      <td>0.6086</td>\n",
              "      <td>0.6120</td>\n",
              "    </tr>\n",
              "    <tr>\n",
              "      <th>2</th>\n",
              "      <td>0.8659</td>\n",
              "      <td>0.9150</td>\n",
              "      <td>0.6376</td>\n",
              "      <td>0.7625</td>\n",
              "      <td>0.6945</td>\n",
              "      <td>0.6095</td>\n",
              "      <td>0.6135</td>\n",
              "    </tr>\n",
              "    <tr>\n",
              "      <th>3</th>\n",
              "      <td>0.8768</td>\n",
              "      <td>0.9307</td>\n",
              "      <td>0.6574</td>\n",
              "      <td>0.7925</td>\n",
              "      <td>0.7186</td>\n",
              "      <td>0.6406</td>\n",
              "      <td>0.6452</td>\n",
              "    </tr>\n",
              "    <tr>\n",
              "      <th>4</th>\n",
              "      <td>0.8643</td>\n",
              "      <td>0.9164</td>\n",
              "      <td>0.6365</td>\n",
              "      <td>0.7578</td>\n",
              "      <td>0.6919</td>\n",
              "      <td>0.6057</td>\n",
              "      <td>0.6095</td>\n",
              "    </tr>\n",
              "    <tr>\n",
              "      <th>5</th>\n",
              "      <td>0.8626</td>\n",
              "      <td>0.9184</td>\n",
              "      <td>0.6132</td>\n",
              "      <td>0.7652</td>\n",
              "      <td>0.6809</td>\n",
              "      <td>0.5946</td>\n",
              "      <td>0.6005</td>\n",
              "    </tr>\n",
              "    <tr>\n",
              "      <th>6</th>\n",
              "      <td>0.8709</td>\n",
              "      <td>0.9261</td>\n",
              "      <td>0.6463</td>\n",
              "      <td>0.7762</td>\n",
              "      <td>0.7053</td>\n",
              "      <td>0.6235</td>\n",
              "      <td>0.6278</td>\n",
              "    </tr>\n",
              "    <tr>\n",
              "      <th>7</th>\n",
              "      <td>0.8709</td>\n",
              "      <td>0.9229</td>\n",
              "      <td>0.6289</td>\n",
              "      <td>0.7882</td>\n",
              "      <td>0.6996</td>\n",
              "      <td>0.6187</td>\n",
              "      <td>0.6251</td>\n",
              "    </tr>\n",
              "    <tr>\n",
              "      <th>8</th>\n",
              "      <td>0.8692</td>\n",
              "      <td>0.9257</td>\n",
              "      <td>0.6341</td>\n",
              "      <td>0.7778</td>\n",
              "      <td>0.6987</td>\n",
              "      <td>0.6162</td>\n",
              "      <td>0.6215</td>\n",
              "    </tr>\n",
              "    <tr>\n",
              "      <th>9</th>\n",
              "      <td>0.8721</td>\n",
              "      <td>0.9324</td>\n",
              "      <td>0.6376</td>\n",
              "      <td>0.7871</td>\n",
              "      <td>0.7045</td>\n",
              "      <td>0.6241</td>\n",
              "      <td>0.6297</td>\n",
              "    </tr>\n",
              "    <tr>\n",
              "      <th>Mean</th>\n",
              "      <td>0.8702</td>\n",
              "      <td>0.9233</td>\n",
              "      <td>0.6398</td>\n",
              "      <td>0.7781</td>\n",
              "      <td>0.7022</td>\n",
              "      <td>0.6202</td>\n",
              "      <td>0.6251</td>\n",
              "    </tr>\n",
              "    <tr>\n",
              "      <th>SD</th>\n",
              "      <td>0.0062</td>\n",
              "      <td>0.0062</td>\n",
              "      <td>0.0137</td>\n",
              "      <td>0.0176</td>\n",
              "      <td>0.0140</td>\n",
              "      <td>0.0178</td>\n",
              "      <td>0.0181</td>\n",
              "    </tr>\n",
              "  </tbody>\n",
              "</table>\n",
              "</div>"
            ],
            "text/plain": [
              "      Accuracy     AUC  Recall   Prec.      F1   Kappa     MCC\n",
              "0       0.8843  0.9293  0.6655  0.8162  0.7332  0.6603  0.6659\n",
              "1       0.8651  0.9160  0.6411  0.7572  0.6943  0.6086  0.6120\n",
              "2       0.8659  0.9150  0.6376  0.7625  0.6945  0.6095  0.6135\n",
              "3       0.8768  0.9307  0.6574  0.7925  0.7186  0.6406  0.6452\n",
              "4       0.8643  0.9164  0.6365  0.7578  0.6919  0.6057  0.6095\n",
              "5       0.8626  0.9184  0.6132  0.7652  0.6809  0.5946  0.6005\n",
              "6       0.8709  0.9261  0.6463  0.7762  0.7053  0.6235  0.6278\n",
              "7       0.8709  0.9229  0.6289  0.7882  0.6996  0.6187  0.6251\n",
              "8       0.8692  0.9257  0.6341  0.7778  0.6987  0.6162  0.6215\n",
              "9       0.8721  0.9324  0.6376  0.7871  0.7045  0.6241  0.6297\n",
              "Mean    0.8702  0.9233  0.6398  0.7781  0.7022  0.6202  0.6251\n",
              "SD      0.0062  0.0062  0.0137  0.0176  0.0140  0.0178  0.0181"
            ]
          },
          "metadata": {
            "tags": []
          }
        }
      ]
    },
    {
      "cell_type": "code",
      "metadata": {
        "colab": {
          "base_uri": "https://localhost:8080/",
          "height": 581
        },
        "id": "Ar5vLl5IfdBO",
        "outputId": "06a6683a-dc7b-4695-bb67-73048d494a7b"
      },
      "source": [
        "#interpret the model\n",
        "classification.interpret_model(classification_model)"
      ],
      "execution_count": null,
      "outputs": [
        {
          "output_type": "display_data",
          "data": {
            "image/png": "[encoded data removed]",
            "text/plain": [
              "<Figure size 576x684 with 1 Axes>"
            ]
          },
          "metadata": {
            "tags": [],
            "needs_background": "light"
          }
        }
      ]
    },
    {
      "cell_type": "code",
      "metadata": {
        "id": "JkarDsx-SKbQ"
      },
      "source": [
        "predictions = classification.predict_model(classification_model,data=X_test)"
      ],
      "execution_count": null,
      "outputs": []
    },
    {
      "cell_type": "code",
      "metadata": {
        "id": "d-Ng-ek3Syzy"
      },
      "source": [
        "y_predicted = predictions['Label']"
      ],
      "execution_count": null,
      "outputs": []
    },
    {
      "cell_type": "code",
      "metadata": {
        "colab": {
          "base_uri": "https://localhost:8080/"
        },
        "id": "O6GfifI0S0pw",
        "outputId": "e7faeb8a-7ba2-44b3-ab63-be45efc2b49b"
      },
      "source": [
        "submission_df = pd.DataFrame({'Id':user_id,'Answer':y_predicted})\n",
        "submission_df.set_index('Id',inplace=True)\n",
        "len(submission_df)"
      ],
      "execution_count": null,
      "outputs": [
        {
          "output_type": "execute_result",
          "data": {
            "text/plain": [
              "14537"
            ]
          },
          "metadata": {
            "tags": []
          },
          "execution_count": 15
        }
      ]
    },
    {
      "cell_type": "code",
      "metadata": {
        "id": "bAqJuy9lTFR2"
      },
      "source": [
        "submission_df.to_csv('submission.csv')"
      ],
      "execution_count": null,
      "outputs": []
    },
    {
      "cell_type": "code",
      "metadata": {
        "colab": {
          "base_uri": "https://localhost:8080/",
          "height": 206
        },
        "id": "rOAL2N6AkKmB",
        "outputId": "2f63b20c-4142-4e4a-ce66-27961ce1aa1e"
      },
      "source": [
        "to_submit = pd.read_csv('submission5.csv')\n",
        "to_submit.head()"
      ],
      "execution_count": null,
      "outputs": [
        {
          "output_type": "execute_result",
          "data": {
            "text/html": [
              "<div>\n",
              "<style scoped>\n",
              "    .dataframe tbody tr th:only-of-type {\n",
              "        vertical-align: middle;\n",
              "    }\n",
              "\n",
              "    .dataframe tbody tr th {\n",
              "        vertical-align: top;\n",
              "    }\n",
              "\n",
              "    .dataframe thead th {\n",
              "        text-align: right;\n",
              "    }\n",
              "</style>\n",
              "<table border=\"1\" class=\"dataframe\">\n",
              "  <thead>\n",
              "    <tr style=\"text-align: right;\">\n",
              "      <th></th>\n",
              "      <th>Unnamed: 0</th>\n",
              "      <th>Id</th>\n",
              "      <th>Answer</th>\n",
              "    </tr>\n",
              "  </thead>\n",
              "  <tbody>\n",
              "    <tr>\n",
              "      <th>0</th>\n",
              "      <td>0</td>\n",
              "      <td>6</td>\n",
              "      <td>0.0</td>\n",
              "    </tr>\n",
              "    <tr>\n",
              "      <th>1</th>\n",
              "      <td>1</td>\n",
              "      <td>11</td>\n",
              "      <td>0.0</td>\n",
              "    </tr>\n",
              "    <tr>\n",
              "      <th>2</th>\n",
              "      <td>2</td>\n",
              "      <td>21</td>\n",
              "      <td>0.0</td>\n",
              "    </tr>\n",
              "    <tr>\n",
              "      <th>3</th>\n",
              "      <td>3</td>\n",
              "      <td>23</td>\n",
              "      <td>0.0</td>\n",
              "    </tr>\n",
              "    <tr>\n",
              "      <th>4</th>\n",
              "      <td>4</td>\n",
              "      <td>27</td>\n",
              "      <td>0.0</td>\n",
              "    </tr>\n",
              "  </tbody>\n",
              "</table>\n",
              "</div>"
            ],
            "text/plain": [
              "   Unnamed: 0  Id  Answer\n",
              "0           0   6     0.0\n",
              "1           1  11     0.0\n",
              "2           2  21     0.0\n",
              "3           3  23     0.0\n",
              "4           4  27     0.0"
            ]
          },
          "metadata": {
            "tags": []
          },
          "execution_count": 39
        }
      ]
    },
    {
      "cell_type": "code",
      "metadata": {
        "colab": {
          "base_uri": "https://localhost:8080/",
          "height": 237
        },
        "id": "J5KdVERf0VyY",
        "outputId": "edd26385-7d94-495a-9303-1d466c1573ee"
      },
      "source": [
        "del to_submit['Unnamed: 0']\n",
        "to_submit.set_index('Id',inplace=True)\n",
        "to_submit.head()"
      ],
      "execution_count": null,
      "outputs": [
        {
          "output_type": "execute_result",
          "data": {
            "text/html": [
              "<div>\n",
              "<style scoped>\n",
              "    .dataframe tbody tr th:only-of-type {\n",
              "        vertical-align: middle;\n",
              "    }\n",
              "\n",
              "    .dataframe tbody tr th {\n",
              "        vertical-align: top;\n",
              "    }\n",
              "\n",
              "    .dataframe thead th {\n",
              "        text-align: right;\n",
              "    }\n",
              "</style>\n",
              "<table border=\"1\" class=\"dataframe\">\n",
              "  <thead>\n",
              "    <tr style=\"text-align: right;\">\n",
              "      <th></th>\n",
              "      <th>Answer</th>\n",
              "    </tr>\n",
              "    <tr>\n",
              "      <th>Id</th>\n",
              "      <th></th>\n",
              "    </tr>\n",
              "  </thead>\n",
              "  <tbody>\n",
              "    <tr>\n",
              "      <th>6</th>\n",
              "      <td>0.0</td>\n",
              "    </tr>\n",
              "    <tr>\n",
              "      <th>11</th>\n",
              "      <td>0.0</td>\n",
              "    </tr>\n",
              "    <tr>\n",
              "      <th>21</th>\n",
              "      <td>0.0</td>\n",
              "    </tr>\n",
              "    <tr>\n",
              "      <th>23</th>\n",
              "      <td>0.0</td>\n",
              "    </tr>\n",
              "    <tr>\n",
              "      <th>27</th>\n",
              "      <td>0.0</td>\n",
              "    </tr>\n",
              "  </tbody>\n",
              "</table>\n",
              "</div>"
            ],
            "text/plain": [
              "    Answer\n",
              "Id        \n",
              "6      0.0\n",
              "11     0.0\n",
              "21     0.0\n",
              "23     0.0\n",
              "27     0.0"
            ]
          },
          "metadata": {
            "tags": []
          },
          "execution_count": 40
        }
      ]
    },
    {
      "cell_type": "code",
      "metadata": {
        "id": "ESn9ED2l0gL3"
      },
      "source": [
        "to_submit.to_csv('submission.csv')"
      ],
      "execution_count": null,
      "outputs": []
    },
    {
      "cell_type": "code",
      "metadata": {
        "id": "bpaDamIF0kdo"
      },
      "source": [
        ""
      ],
      "execution_count": null,
      "outputs": []
    }
  ]
}