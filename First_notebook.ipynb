{
  "nbformat": 4,
  "nbformat_minor": 0,
  "metadata": {
    "colab": {
      "name": "NLP.ipynb",
      "provenance": [],
      "collapsed_sections": []
    },
    "kernelspec": {
      "name": "python3",
      "display_name": "Python 3"
    }
  },
  "cells": [
    {
      "cell_type": "code",
      "metadata": {
        "id": "n1BCfCWRcdsL"
      },
      "source": [
        "import pandas as pd\n",
        "import re\n",
        "import spacy\n",
        "from collections import Counter"
      ],
      "execution_count": null,
      "outputs": []
    },
    {
      "cell_type": "code",
      "metadata": {
        "colab": {
          "base_uri": "https://localhost:8080/"
        },
        "id": "7AHJC5-k_fEl",
        "outputId": "5730736b-c0e5-49d8-a952-8101e25392d0"
      },
      "source": [
        "df1 = pd.read_csv(\"Dataset1.csv\")\n",
        "df1.columns"
      ],
      "execution_count": null,
      "outputs": [
        {
          "output_type": "execute_result",
          "data": {
            "text/plain": [
              "Index(['Tell me about yourself',\n",
              "       'Tell me about a time you demonstrated leadership',\n",
              "       'Tell me about a time when your working on a team and faced with a challenge how did you solve that problem?',\n",
              "       'tell me about one of your weaknesses and how you plan to overcome it.',\n",
              "       'Now why do you think we should hire you?', 'Label'],\n",
              "      dtype='object')"
            ]
          },
          "metadata": {
            "tags": []
          },
          "execution_count": 2
        }
      ]
    },
    {
      "cell_type": "code",
      "metadata": {
        "id": "3LMY6MJscZU1"
      },
      "source": [
        "df2 = pd.read_csv(\"Dataset2.csv\")\n",
        "df2.drop('Timestamp',axis=1,inplace=True)\n",
        "df2.columns = ['Tell me about yourself',\n",
        "       'Tell me about a time you demonstrated leadership',\n",
        "       'Tell me about a time when your working on a team and faced with a challenge how did you solve that problem?',\n",
        "       'tell me about one of your weaknesses and how you plan to overcome it.',\n",
        "       'Now why do you think we should hire you?', 'Label']"
      ],
      "execution_count": null,
      "outputs": []
    },
    {
      "cell_type": "code",
      "metadata": {
        "colab": {
          "base_uri": "https://localhost:8080/"
        },
        "id": "7cjMC1rHdkmS",
        "outputId": "04cf6f2a-dba9-4910-9ea5-be62208cbfa4"
      },
      "source": [
        "df = df1.append(df2,ignore_index=True)\n",
        "df.shape"
      ],
      "execution_count": null,
      "outputs": [
        {
          "output_type": "execute_result",
          "data": {
            "text/plain": [
              "(162, 6)"
            ]
          },
          "metadata": {
            "tags": []
          },
          "execution_count": 15
        }
      ]
    },
    {
      "cell_type": "code",
      "metadata": {
        "colab": {
          "base_uri": "https://localhost:8080/"
        },
        "id": "wuiiqpfN_234",
        "outputId": "807189db-e4be-42d4-c250-fbf9002e6f4e"
      },
      "source": [
        "df['Label'].value_counts()"
      ],
      "execution_count": null,
      "outputs": [
        {
          "output_type": "execute_result",
          "data": {
            "text/plain": [
              "4    80\n",
              "3    52\n",
              "2    20\n",
              "5    10\n",
              "Name: Label, dtype: int64"
            ]
          },
          "metadata": {
            "tags": []
          },
          "execution_count": 17
        }
      ]
    },
    {
      "cell_type": "code",
      "metadata": {
        "id": "rEWznuIJCKkk"
      },
      "source": [
        "test = df.groupby('Label')['Now why do you think we should hire you?']"
      ],
      "execution_count": null,
      "outputs": []
    },
    {
      "cell_type": "code",
      "metadata": {
        "colab": {
          "base_uri": "https://localhost:8080/"
        },
        "id": "bygGKu5JP8mF",
        "outputId": "2d04b18f-0bee-42f0-967c-66f1d066d743"
      },
      "source": [
        "labels = [1,2,3,4,5]\n",
        "#mylist = list(test.get_group(5).index.values)\n",
        "fifthQuestion = []\n",
        "\n",
        "for i in labels:\n",
        "  try:\n",
        "    result2 = ''\n",
        "    for j in list(test.get_group(i).index.values):\n",
        "      result1 = ''\n",
        "      result1+=re.sub(r'(u|U)(h|m)+',' ',df.iloc[i]['Now why do you think we should hire you?'],flags=re.IGNORECASE)\n",
        "      result2+=re.sub(r'\\|Interviewe(r|e): | \\[.*\\] | \\(.*\\) | \\{.*\\}',' ',result1,flags=re.IGNORECASE)\n",
        "      #mytest.append(df.iloc[i]['Tell me about yourself'])\n",
        "    fifthQuestion.append(result2)\n",
        "  except:\n",
        "    continue\n",
        "\n",
        "fifthQuestion"
      ],
      "execution_count": null,
      "outputs": [
        {
          "output_type": "execute_result",
          "data": {
            "text/plain": [
              "['  I think my different leadership positions as well as my academic experience   would allow me to perform well on the job. I think I’ve worked   both individually in a project as well as in a team-focused environment which   I think is key for consulting and investment banking positions. I also feel that my MIT background   the quantitative analysis that I’ve done in classes as well as my internship experiences would help perform well on the job as well so  I think my different leadership positions as well as my academic experience   would allow me to perform well on the job. I think I’ve worked   both individually in a project as well as in a team-focused environment which   I think is key for consulting and investment banking positions. I also feel that my MIT background   the quantitative analysis that I’ve done in classes as well as my internship experiences would help perform well on the job as well so  I think my different leadership positions as well as my academic experience   would allow me to perform well on the job. I think I’ve worked   both individually in a project as well as in a team-focused environment which   I think is key for consulting and investment banking positions. I also feel that my MIT background   the quantitative analysis that I’ve done in classes as well as my internship experiences would help perform well on the job as well so  I think my different leadership positions as well as my academic experience   would allow me to perform well on the job. I think I’ve worked   both individually in a project as well as in a team-focused environment which   I think is key for consulting and investment banking positions. I also feel that my MIT background   the quantitative analysis that I’ve done in classes as well as my internship experiences would help perform well on the job as well so  I think my different leadership positions as well as my academic experience   would allow me to perform well on the job. I think I’ve worked   both individually in a project as well as in a team-focused environment which   I think is key for consulting and investment banking positions. I also feel that my MIT background   the quantitative analysis that I’ve done in classes as well as my internship experiences would help perform well on the job as well so  I think my different leadership positions as well as my academic experience   would allow me to perform well on the job. I think I’ve worked   both individually in a project as well as in a team-focused environment which   I think is key for consulting and investment banking positions. I also feel that my MIT background   the quantitative analysis that I’ve done in classes as well as my internship experiences would help perform well on the job as well so  I think my different leadership positions as well as my academic experience   would allow me to perform well on the job. I think I’ve worked   both individually in a project as well as in a team-focused environment which   I think is key for consulting and investment banking positions. I also feel that my MIT background   the quantitative analysis that I’ve done in classes as well as my internship experiences would help perform well on the job as well so  I think my different leadership positions as well as my academic experience   would allow me to perform well on the job. I think I’ve worked   both individually in a project as well as in a team-focused environment which   I think is key for consulting and investment banking positions. I also feel that my MIT background   the quantitative analysis that I’ve done in classes as well as my internship experiences would help perform well on the job as well so  I think my different leadership positions as well as my academic experience   would allow me to perform well on the job. I think I’ve worked   both individually in a project as well as in a team-focused environment which   I think is key for consulting and investment banking positions. I also feel that my MIT background   the quantitative analysis that I’ve done in classes as well as my internship experiences would help perform well on the job as well so  I think my different leadership positions as well as my academic experience   would allow me to perform well on the job. I think I’ve worked   both individually in a project as well as in a team-focused environment which   I think is key for consulting and investment banking positions. I also feel that my MIT background   the quantitative analysis that I’ve done in classes as well as my internship experiences would help perform well on the job as well so',\n",
              " '  I think you should hire me because your company   is a great would be a great opportunity for me to learn and improve as an Engineer   and I think I could just add a lot to the team in general in terms of like like my wide interests and and education background.  I think you should hire me because your company   is a great would be a great opportunity for me to learn and improve as an Engineer   and I think I could just add a lot to the team in general in terms of like like my wide interests and and education background.  I think you should hire me because your company   is a great would be a great opportunity for me to learn and improve as an Engineer   and I think I could just add a lot to the team in general in terms of like like my wide interests and and education background.  I think you should hire me because your company   is a great would be a great opportunity for me to learn and improve as an Engineer   and I think I could just add a lot to the team in general in terms of like like my wide interests and and education background.  I think you should hire me because your company   is a great would be a great opportunity for me to learn and improve as an Engineer   and I think I could just add a lot to the team in general in terms of like like my wide interests and and education background.  I think you should hire me because your company   is a great would be a great opportunity for me to learn and improve as an Engineer   and I think I could just add a lot to the team in general in terms of like like my wide interests and and education background.  I think you should hire me because your company   is a great would be a great opportunity for me to learn and improve as an Engineer   and I think I could just add a lot to the team in general in terms of like like my wide interests and and education background.  I think you should hire me because your company   is a great would be a great opportunity for me to learn and improve as an Engineer   and I think I could just add a lot to the team in general in terms of like like my wide interests and and education background.  I think you should hire me because your company   is a great would be a great opportunity for me to learn and improve as an Engineer   and I think I could just add a lot to the team in general in terms of like like my wide interests and and education background.  I think you should hire me because your company   is a great would be a great opportunity for me to learn and improve as an Engineer   and I think I could just add a lot to the team in general in terms of like like my wide interests and and education background.  I think you should hire me because your company   is a great would be a great opportunity for me to learn and improve as an Engineer   and I think I could just add a lot to the team in general in terms of like like my wide interests and and education background.  I think you should hire me because your company   is a great would be a great opportunity for me to learn and improve as an Engineer   and I think I could just add a lot to the team in general in terms of like like my wide interests and and education background.  I think you should hire me because your company   is a great would be a great opportunity for me to learn and improve as an Engineer   and I think I could just add a lot to the team in general in terms of like like my wide interests and and education background.  I think you should hire me because your company   is a great would be a great opportunity for me to learn and improve as an Engineer   and I think I could just add a lot to the team in general in terms of like like my wide interests and and education background.  I think you should hire me because your company   is a great would be a great opportunity for me to learn and improve as an Engineer   and I think I could just add a lot to the team in general in terms of like like my wide interests and and education background.  I think you should hire me because your company   is a great would be a great opportunity for me to learn and improve as an Engineer   and I think I could just add a lot to the team in general in terms of like like my wide interests and and education background.  I think you should hire me because your company   is a great would be a great opportunity for me to learn and improve as an Engineer   and I think I could just add a lot to the team in general in terms of like like my wide interests and and education background.  I think you should hire me because your company   is a great would be a great opportunity for me to learn and improve as an Engineer   and I think I could just add a lot to the team in general in terms of like like my wide interests and and education background.  I think you should hire me because your company   is a great would be a great opportunity for me to learn and improve as an Engineer   and I think I could just add a lot to the team in general in terms of like like my wide interests and and education background.  I think you should hire me because your company   is a great would be a great opportunity for me to learn and improve as an Engineer   and I think I could just add a lot to the team in general in terms of like like my wide interests and and education background.  I think you should hire me because your company   is a great would be a great opportunity for me to learn and improve as an Engineer   and I think I could just add a lot to the team in general in terms of like like my wide interests and and education background.  I think you should hire me because your company   is a great would be a great opportunity for me to learn and improve as an Engineer   and I think I could just add a lot to the team in general in terms of like like my wide interests and and education background.  I think you should hire me because your company   is a great would be a great opportunity for me to learn and improve as an Engineer   and I think I could just add a lot to the team in general in terms of like like my wide interests and and education background.  I think you should hire me because your company   is a great would be a great opportunity for me to learn and improve as an Engineer   and I think I could just add a lot to the team in general in terms of like like my wide interests and and education background.  I think you should hire me because your company   is a great would be a great opportunity for me to learn and improve as an Engineer   and I think I could just add a lot to the team in general in terms of like like my wide interests and and education background.  I think you should hire me because your company   is a great would be a great opportunity for me to learn and improve as an Engineer   and I think I could just add a lot to the team in general in terms of like like my wide interests and and education background.  I think you should hire me because your company   is a great would be a great opportunity for me to learn and improve as an Engineer   and I think I could just add a lot to the team in general in terms of like like my wide interests and and education background.  I think you should hire me because your company   is a great would be a great opportunity for me to learn and improve as an Engineer   and I think I could just add a lot to the team in general in terms of like like my wide interests and and education background.  I think you should hire me because your company   is a great would be a great opportunity for me to learn and improve as an Engineer   and I think I could just add a lot to the team in general in terms of like like my wide interests and and education background.  I think you should hire me because your company   is a great would be a great opportunity for me to learn and improve as an Engineer   and I think I could just add a lot to the team in general in terms of like like my wide interests and and education background.  I think you should hire me because your company   is a great would be a great opportunity for me to learn and improve as an Engineer   and I think I could just add a lot to the team in general in terms of like like my wide interests and and education background.  I think you should hire me because your company   is a great would be a great opportunity for me to learn and improve as an Engineer   and I think I could just add a lot to the team in general in terms of like like my wide interests and and education background.  I think you should hire me because your company   is a great would be a great opportunity for me to learn and improve as an Engineer   and I think I could just add a lot to the team in general in terms of like like my wide interests and and education background.  I think you should hire me because your company   is a great would be a great opportunity for me to learn and improve as an Engineer   and I think I could just add a lot to the team in general in terms of like like my wide interests and and education background.  I think you should hire me because your company   is a great would be a great opportunity for me to learn and improve as an Engineer   and I think I could just add a lot to the team in general in terms of like like my wide interests and and education background.  I think you should hire me because your company   is a great would be a great opportunity for me to learn and improve as an Engineer   and I think I could just add a lot to the team in general in terms of like like my wide interests and and education background.  I think you should hire me because your company   is a great would be a great opportunity for me to learn and improve as an Engineer   and I think I could just add a lot to the team in general in terms of like like my wide interests and and education background.  I think you should hire me because your company   is a great would be a great opportunity for me to learn and improve as an Engineer   and I think I could just add a lot to the team in general in terms of like like my wide interests and and education background.  I think you should hire me because your company   is a great would be a great opportunity for me to learn and improve as an Engineer   and I think I could just add a lot to the team in general in terms of like like my wide interests and and education background.  I think you should hire me because your company   is a great would be a great opportunity for me to learn and improve as an Engineer   and I think I could just add a lot to the team in general in terms of like like my wide interests and and education background.  I think you should hire me because your company   is a great would be a great opportunity for me to learn and improve as an Engineer   and I think I could just add a lot to the team in general in terms of like like my wide interests and and education background.  I think you should hire me because your company   is a great would be a great opportunity for me to learn and improve as an Engineer   and I think I could just add a lot to the team in general in terms of like like my wide interests and and education background.  I think you should hire me because your company   is a great would be a great opportunity for me to learn and improve as an Engineer   and I think I could just add a lot to the team in general in terms of like like my wide interests and and education background.  I think you should hire me because your company   is a great would be a great opportunity for me to learn and improve as an Engineer   and I think I could just add a lot to the team in general in terms of like like my wide interests and and education background.  I think you should hire me because your company   is a great would be a great opportunity for me to learn and improve as an Engineer   and I think I could just add a lot to the team in general in terms of like like my wide interests and and education background.',\n",
              " \"Well I have the I have the quantitative and qualitative skills necessary to accomplish   accomplish project goals and get things done.   I can solve problems and and can work pretty well in a team. Ok I'm also very interested in what this company does and   I'd really like to work there.Well I have the I have the quantitative and qualitative skills necessary to accomplish   accomplish project goals and get things done.   I can solve problems and and can work pretty well in a team. Ok I'm also very interested in what this company does and   I'd really like to work there.Well I have the I have the quantitative and qualitative skills necessary to accomplish   accomplish project goals and get things done.   I can solve problems and and can work pretty well in a team. Ok I'm also very interested in what this company does and   I'd really like to work there.Well I have the I have the quantitative and qualitative skills necessary to accomplish   accomplish project goals and get things done.   I can solve problems and and can work pretty well in a team. Ok I'm also very interested in what this company does and   I'd really like to work there.Well I have the I have the quantitative and qualitative skills necessary to accomplish   accomplish project goals and get things done.   I can solve problems and and can work pretty well in a team. Ok I'm also very interested in what this company does and   I'd really like to work there.Well I have the I have the quantitative and qualitative skills necessary to accomplish   accomplish project goals and get things done.   I can solve problems and and can work pretty well in a team. Ok I'm also very interested in what this company does and   I'd really like to work there.Well I have the I have the quantitative and qualitative skills necessary to accomplish   accomplish project goals and get things done.   I can solve problems and and can work pretty well in a team. Ok I'm also very interested in what this company does and   I'd really like to work there.Well I have the I have the quantitative and qualitative skills necessary to accomplish   accomplish project goals and get things done.   I can solve problems and and can work pretty well in a team. Ok I'm also very interested in what this company does and   I'd really like to work there.Well I have the I have the quantitative and qualitative skills necessary to accomplish   accomplish project goals and get things done.   I can solve problems and and can work pretty well in a team. Ok I'm also very interested in what this company does and   I'd really like to work there.Well I have the I have the quantitative and qualitative skills necessary to accomplish   accomplish project goals and get things done.   I can solve problems and and can work pretty well in a team. Ok I'm also very interested in what this company does and   I'd really like to work there.Well I have the I have the quantitative and qualitative skills necessary to accomplish   accomplish project goals and get things done.   I can solve problems and and can work pretty well in a team. Ok I'm also very interested in what this company does and   I'd really like to work there.Well I have the I have the quantitative and qualitative skills necessary to accomplish   accomplish project goals and get things done.   I can solve problems and and can work pretty well in a team. Ok I'm also very interested in what this company does and   I'd really like to work there.Well I have the I have the quantitative and qualitative skills necessary to accomplish   accomplish project goals and get things done.   I can solve problems and and can work pretty well in a team. Ok I'm also very interested in what this company does and   I'd really like to work there.Well I have the I have the quantitative and qualitative skills necessary to accomplish   accomplish project goals and get things done.   I can solve problems and and can work pretty well in a team. Ok I'm also very interested in what this company does and   I'd really like to work there.Well I have the I have the quantitative and qualitative skills necessary to accomplish   accomplish project goals and get things done.   I can solve problems and and can work pretty well in a team. Ok I'm also very interested in what this company does and   I'd really like to work there.Well I have the I have the quantitative and qualitative skills necessary to accomplish   accomplish project goals and get things done.   I can solve problems and and can work pretty well in a team. Ok I'm also very interested in what this company does and   I'd really like to work there.Well I have the I have the quantitative and qualitative skills necessary to accomplish   accomplish project goals and get things done.   I can solve problems and and can work pretty well in a team. Ok I'm also very interested in what this company does and   I'd really like to work there.Well I have the I have the quantitative and qualitative skills necessary to accomplish   accomplish project goals and get things done.   I can solve problems and and can work pretty well in a team. Ok I'm also very interested in what this company does and   I'd really like to work there.Well I have the I have the quantitative and qualitative skills necessary to accomplish   accomplish project goals and get things done.   I can solve problems and and can work pretty well in a team. Ok I'm also very interested in what this company does and   I'd really like to work there.Well I have the I have the quantitative and qualitative skills necessary to accomplish   accomplish project goals and get things done.   I can solve problems and and can work pretty well in a team. Ok I'm also very interested in what this company does and   I'd really like to work there.Well I have the I have the quantitative and qualitative skills necessary to accomplish   accomplish project goals and get things done.   I can solve problems and and can work pretty well in a team. Ok I'm also very interested in what this company does and   I'd really like to work there.Well I have the I have the quantitative and qualitative skills necessary to accomplish   accomplish project goals and get things done.   I can solve problems and and can work pretty well in a team. Ok I'm also very interested in what this company does and   I'd really like to work there.Well I have the I have the quantitative and qualitative skills necessary to accomplish   accomplish project goals and get things done.   I can solve problems and and can work pretty well in a team. Ok I'm also very interested in what this company does and   I'd really like to work there.Well I have the I have the quantitative and qualitative skills necessary to accomplish   accomplish project goals and get things done.   I can solve problems and and can work pretty well in a team. Ok I'm also very interested in what this company does and   I'd really like to work there.Well I have the I have the quantitative and qualitative skills necessary to accomplish   accomplish project goals and get things done.   I can solve problems and and can work pretty well in a team. Ok I'm also very interested in what this company does and   I'd really like to work there.Well I have the I have the quantitative and qualitative skills necessary to accomplish   accomplish project goals and get things done.   I can solve problems and and can work pretty well in a team. Ok I'm also very interested in what this company does and   I'd really like to work there.Well I have the I have the quantitative and qualitative skills necessary to accomplish   accomplish project goals and get things done.   I can solve problems and and can work pretty well in a team. Ok I'm also very interested in what this company does and   I'd really like to work there.Well I have the I have the quantitative and qualitative skills necessary to accomplish   accomplish project goals and get things done.   I can solve problems and and can work pretty well in a team. Ok I'm also very interested in what this company does and   I'd really like to work there.Well I have the I have the quantitative and qualitative skills necessary to accomplish   accomplish project goals and get things done.   I can solve problems and and can work pretty well in a team. Ok I'm also very interested in what this company does and   I'd really like to work there.Well I have the I have the quantitative and qualitative skills necessary to accomplish   accomplish project goals and get things done.   I can solve problems and and can work pretty well in a team. Ok I'm also very interested in what this company does and   I'd really like to work there.Well I have the I have the quantitative and qualitative skills necessary to accomplish   accomplish project goals and get things done.   I can solve problems and and can work pretty well in a team. Ok I'm also very interested in what this company does and   I'd really like to work there.Well I have the I have the quantitative and qualitative skills necessary to accomplish   accomplish project goals and get things done.   I can solve problems and and can work pretty well in a team. Ok I'm also very interested in what this company does and   I'd really like to work there.Well I have the I have the quantitative and qualitative skills necessary to accomplish   accomplish project goals and get things done.   I can solve problems and and can work pretty well in a team. Ok I'm also very interested in what this company does and   I'd really like to work there.Well I have the I have the quantitative and qualitative skills necessary to accomplish   accomplish project goals and get things done.   I can solve problems and and can work pretty well in a team. Ok I'm also very interested in what this company does and   I'd really like to work there.Well I have the I have the quantitative and qualitative skills necessary to accomplish   accomplish project goals and get things done.   I can solve problems and and can work pretty well in a team. Ok I'm also very interested in what this company does and   I'd really like to work there.Well I have the I have the quantitative and qualitative skills necessary to accomplish   accomplish project goals and get things done.   I can solve problems and and can work pretty well in a team. Ok I'm also very interested in what this company does and   I'd really like to work there.Well I have the I have the quantitative and qualitative skills necessary to accomplish   accomplish project goals and get things done.   I can solve problems and and can work pretty well in a team. Ok I'm also very interested in what this company does and   I'd really like to work there.Well I have the I have the quantitative and qualitative skills necessary to accomplish   accomplish project goals and get things done.   I can solve problems and and can work pretty well in a team. Ok I'm also very interested in what this company does and   I'd really like to work there.Well I have the I have the quantitative and qualitative skills necessary to accomplish   accomplish project goals and get things done.   I can solve problems and and can work pretty well in a team. Ok I'm also very interested in what this company does and   I'd really like to work there.Well I have the I have the quantitative and qualitative skills necessary to accomplish   accomplish project goals and get things done.   I can solve problems and and can work pretty well in a team. Ok I'm also very interested in what this company does and   I'd really like to work there.Well I have the I have the quantitative and qualitative skills necessary to accomplish   accomplish project goals and get things done.   I can solve problems and and can work pretty well in a team. Ok I'm also very interested in what this company does and   I'd really like to work there.Well I have the I have the quantitative and qualitative skills necessary to accomplish   accomplish project goals and get things done.   I can solve problems and and can work pretty well in a team. Ok I'm also very interested in what this company does and   I'd really like to work there.Well I have the I have the quantitative and qualitative skills necessary to accomplish   accomplish project goals and get things done.   I can solve problems and and can work pretty well in a team. Ok I'm also very interested in what this company does and   I'd really like to work there.Well I have the I have the quantitative and qualitative skills necessary to accomplish   accomplish project goals and get things done.   I can solve problems and and can work pretty well in a team. Ok I'm also very interested in what this company does and   I'd really like to work there.Well I have the I have the quantitative and qualitative skills necessary to accomplish   accomplish project goals and get things done.   I can solve problems and and can work pretty well in a team. Ok I'm also very interested in what this company does and   I'd really like to work there.Well I have the I have the quantitative and qualitative skills necessary to accomplish   accomplish project goals and get things done.   I can solve problems and and can work pretty well in a team. Ok I'm also very interested in what this company does and   I'd really like to work there.Well I have the I have the quantitative and qualitative skills necessary to accomplish   accomplish project goals and get things done.   I can solve problems and and can work pretty well in a team. Ok I'm also very interested in what this company does and   I'd really like to work there.Well I have the I have the quantitative and qualitative skills necessary to accomplish   accomplish project goals and get things done.   I can solve problems and and can work pretty well in a team. Ok I'm also very interested in what this company does and   I'd really like to work there.Well I have the I have the quantitative and qualitative skills necessary to accomplish   accomplish project goals and get things done.   I can solve problems and and can work pretty well in a team. Ok I'm also very interested in what this company does and   I'd really like to work there.Well I have the I have the quantitative and qualitative skills necessary to accomplish   accomplish project goals and get things done.   I can solve problems and and can work pretty well in a team. Ok I'm also very interested in what this company does and   I'd really like to work there.Well I have the I have the quantitative and qualitative skills necessary to accomplish   accomplish project goals and get things done.   I can solve problems and and can work pretty well in a team. Ok I'm also very interested in what this company does and   I'd really like to work there.Well I have the I have the quantitative and qualitative skills necessary to accomplish   accomplish project goals and get things done.   I can solve problems and and can work pretty well in a team. Ok I'm also very interested in what this company does and   I'd really like to work there.Well I have the I have the quantitative and qualitative skills necessary to accomplish   accomplish project goals and get things done.   I can solve problems and and can work pretty well in a team. Ok I'm also very interested in what this company does and   I'd really like to work there.Well I have the I have the quantitative and qualitative skills necessary to accomplish   accomplish project goals and get things done.   I can solve problems and and can work pretty well in a team. Ok I'm also very interested in what this company does and   I'd really like to work there.Well I have the I have the quantitative and qualitative skills necessary to accomplish   accomplish project goals and get things done.   I can solve problems and and can work pretty well in a team. Ok I'm also very interested in what this company does and   I'd really like to work there.Well I have the I have the quantitative and qualitative skills necessary to accomplish   accomplish project goals and get things done.   I can solve problems and and can work pretty well in a team. Ok I'm also very interested in what this company does and   I'd really like to work there.Well I have the I have the quantitative and qualitative skills necessary to accomplish   accomplish project goals and get things done.   I can solve problems and and can work pretty well in a team. Ok I'm also very interested in what this company does and   I'd really like to work there.Well I have the I have the quantitative and qualitative skills necessary to accomplish   accomplish project goals and get things done.   I can solve problems and and can work pretty well in a team. Ok I'm also very interested in what this company does and   I'd really like to work there.Well I have the I have the quantitative and qualitative skills necessary to accomplish   accomplish project goals and get things done.   I can solve problems and and can work pretty well in a team. Ok I'm also very interested in what this company does and   I'd really like to work there.Well I have the I have the quantitative and qualitative skills necessary to accomplish   accomplish project goals and get things done.   I can solve problems and and can work pretty well in a team. Ok I'm also very interested in what this company does and   I'd really like to work there.Well I have the I have the quantitative and qualitative skills necessary to accomplish   accomplish project goals and get things done.   I can solve problems and and can work pretty well in a team. Ok I'm also very interested in what this company does and   I'd really like to work there.Well I have the I have the quantitative and qualitative skills necessary to accomplish   accomplish project goals and get things done.   I can solve problems and and can work pretty well in a team. Ok I'm also very interested in what this company does and   I'd really like to work there.Well I have the I have the quantitative and qualitative skills necessary to accomplish   accomplish project goals and get things done.   I can solve problems and and can work pretty well in a team. Ok I'm also very interested in what this company does and   I'd really like to work there.Well I have the I have the quantitative and qualitative skills necessary to accomplish   accomplish project goals and get things done.   I can solve problems and and can work pretty well in a team. Ok I'm also very interested in what this company does and   I'd really like to work there.Well I have the I have the quantitative and qualitative skills necessary to accomplish   accomplish project goals and get things done.   I can solve problems and and can work pretty well in a team. Ok I'm also very interested in what this company does and   I'd really like to work there.Well I have the I have the quantitative and qualitative skills necessary to accomplish   accomplish project goals and get things done.   I can solve problems and and can work pretty well in a team. Ok I'm also very interested in what this company does and   I'd really like to work there.Well I have the I have the quantitative and qualitative skills necessary to accomplish   accomplish project goals and get things done.   I can solve problems and and can work pretty well in a team. Ok I'm also very interested in what this company does and   I'd really like to work there.Well I have the I have the quantitative and qualitative skills necessary to accomplish   accomplish project goals and get things done.   I can solve problems and and can work pretty well in a team. Ok I'm also very interested in what this company does and   I'd really like to work there.Well I have the I have the quantitative and qualitative skills necessary to accomplish   accomplish project goals and get things done.   I can solve problems and and can work pretty well in a team. Ok I'm also very interested in what this company does and   I'd really like to work there.Well I have the I have the quantitative and qualitative skills necessary to accomplish   accomplish project goals and get things done.   I can solve problems and and can work pretty well in a team. Ok I'm also very interested in what this company does and   I'd really like to work there.Well I have the I have the quantitative and qualitative skills necessary to accomplish   accomplish project goals and get things done.   I can solve problems and and can work pretty well in a team. Ok I'm also very interested in what this company does and   I'd really like to work there.Well I have the I have the quantitative and qualitative skills necessary to accomplish   accomplish project goals and get things done.   I can solve problems and and can work pretty well in a team. Ok I'm also very interested in what this company does and   I'd really like to work there.Well I have the I have the quantitative and qualitative skills necessary to accomplish   accomplish project goals and get things done.   I can solve problems and and can work pretty well in a team. Ok I'm also very interested in what this company does and   I'd really like to work there.Well I have the I have the quantitative and qualitative skills necessary to accomplish   accomplish project goals and get things done.   I can solve problems and and can work pretty well in a team. Ok I'm also very interested in what this company does and   I'd really like to work there.Well I have the I have the quantitative and qualitative skills necessary to accomplish   accomplish project goals and get things done.   I can solve problems and and can work pretty well in a team. Ok I'm also very interested in what this company does and   I'd really like to work there.Well I have the I have the quantitative and qualitative skills necessary to accomplish   accomplish project goals and get things done.   I can solve problems and and can work pretty well in a team. Ok I'm also very interested in what this company does and   I'd really like to work there.Well I have the I have the quantitative and qualitative skills necessary to accomplish   accomplish project goals and get things done.   I can solve problems and and can work pretty well in a team. Ok I'm also very interested in what this company does and   I'd really like to work there.Well I have the I have the quantitative and qualitative skills necessary to accomplish   accomplish project goals and get things done.   I can solve problems and and can work pretty well in a team. Ok I'm also very interested in what this company does and   I'd really like to work there.\",\n",
              " \"  I think that my skill set is pretty unique because I'm both technical and also well-spoken and I'd be able to communicate really well. And I think it's a unique combination to have both of those skills.  I think that my skill set is pretty unique because I'm both technical and also well-spoken and I'd be able to communicate really well. And I think it's a unique combination to have both of those skills.  I think that my skill set is pretty unique because I'm both technical and also well-spoken and I'd be able to communicate really well. And I think it's a unique combination to have both of those skills.  I think that my skill set is pretty unique because I'm both technical and also well-spoken and I'd be able to communicate really well. And I think it's a unique combination to have both of those skills.  I think that my skill set is pretty unique because I'm both technical and also well-spoken and I'd be able to communicate really well. And I think it's a unique combination to have both of those skills.  I think that my skill set is pretty unique because I'm both technical and also well-spoken and I'd be able to communicate really well. And I think it's a unique combination to have both of those skills.  I think that my skill set is pretty unique because I'm both technical and also well-spoken and I'd be able to communicate really well. And I think it's a unique combination to have both of those skills.  I think that my skill set is pretty unique because I'm both technical and also well-spoken and I'd be able to communicate really well. And I think it's a unique combination to have both of those skills.  I think that my skill set is pretty unique because I'm both technical and also well-spoken and I'd be able to communicate really well. And I think it's a unique combination to have both of those skills.  I think that my skill set is pretty unique because I'm both technical and also well-spoken and I'd be able to communicate really well. And I think it's a unique combination to have both of those skills.\"]"
            ]
          },
          "metadata": {
            "tags": []
          },
          "execution_count": 44
        }
      ]
    },
    {
      "cell_type": "code",
      "metadata": {
        "id": "8pyPgnWczESy"
      },
      "source": [
        "from spacy.lang.en.stop_words import STOP_WORDS\n",
        "\n",
        "filter_spacy = []\n",
        "nlp = spacy.load('en',parser=False,entity=False)\n",
        "\n",
        "#spacy customize stopwords\n",
        "# New stop words list \n",
        "customize_stop_words = [\n",
        "    '.',\n",
        "    '-',\n",
        "    'be',\n",
        "    'ok'\n",
        "    ]\n",
        "# Mark them as stop words\n",
        "for w in customize_stop_words:\n",
        "    nlp.vocab[w].is_stop = True\n",
        "\n",
        "\n",
        "for i in range(len(fifthQuestion)):\n",
        "  tokens = []\n",
        "  my_doc = nlp(fifthQuestion[i])\n",
        "  for token in my_doc:\n",
        "    if not token.is_stop:\n",
        "      tokens.append(token.lemma_)\n",
        "  filter_spacy.append(tokens)"
      ],
      "execution_count": null,
      "outputs": []
    },
    {
      "cell_type": "code",
      "metadata": {
        "colab": {
          "base_uri": "https://localhost:8080/"
        },
        "id": "WTOM3E_53bDt",
        "outputId": "460f2215-636b-4c82-ad24-55a2ad168e7e"
      },
      "source": [
        "#firstQuestion most frequent words for labels 1,2,3,4,5\n",
        "for i in range(len(filter_spacy)):\n",
        "  temp = \" \".join(filter_spacy[i])\n",
        "  split_it = temp.split()\n",
        "  mycounter = Counter(split_it)\n",
        "  most_occur = mycounter.most_common(10)\n",
        "  print(most_occur)"
      ],
      "execution_count": null,
      "outputs": [
        {
          "output_type": "stream",
          "text": [
            "[('MIT', 30), ('world', 20), ('business', 20), ('sort', 20), ('leadership', 20), ('role', 20), ('junior', 10), ('double', 10), ('majoring', 10), ('Management', 10)]\n",
            "[('ok', 90), ('interest', 90), ('combination', 90), ('Junior', 45), ('MIT', 45), ('majoring', 45), ('Mechanical', 45), ('Engineering', 45), ('focus', 45), ('Robotics', 45)]\n",
            "[('lab', 312), ('engineering', 234), ('electrical', 156), ('science', 156), ('work', 156), ('include', 156), ('ok', 78), ('currently', 78), ('junior', 78), ('M.I.T.', 78)]\n",
            "[('stuff', 20), ('lot', 20), ('experience', 20), ('development', 20), ('student', 10), ('MIT', 10), ('be', 10), ('junior', 10), ('right', 10), ('probably', 10)]\n"
          ],
          "name": "stdout"
        }
      ]
    },
    {
      "cell_type": "code",
      "metadata": {
        "id": "AY5vyzm0tZaf"
      },
      "source": [
        "import nltk\n",
        "nltk.download('vader_lexicon')"
      ],
      "execution_count": null,
      "outputs": []
    },
    {
      "cell_type": "code",
      "metadata": {
        "colab": {
          "base_uri": "https://localhost:8080/"
        },
        "id": "ZvFASilWs8q8",
        "outputId": "82ac5143-3a74-403d-f5a2-8ddb7a02711a"
      },
      "source": [
        "#sentiment of each label for firstQuestion\n",
        "from nltk.sentiment.vader import SentimentIntensityAnalyzer\n",
        "analyzer = SentimentIntensityAnalyzer()\n",
        "\n",
        "for i in range(len(filter_spacy)):\n",
        "  temp = \" \".join(filter_spacy[i])\n",
        "  sentence = temp\n",
        "  vs = analyzer.polarity_scores(sentence)\n",
        "  print(vs)"
      ],
      "execution_count": null,
      "outputs": [
        {
          "output_type": "stream",
          "text": [
            "{'neg': 0.0, 'neu': 0.884, 'pos': 0.116, 'compound': 0.9951}\n",
            "{'neg': 0.0, 'neu': 0.612, 'pos': 0.388, 'compound': 1.0}\n",
            "{'neg': 0.0, 'neu': 0.886, 'pos': 0.114, 'compound': 0.9999}\n",
            "{'neg': 0.067, 'neu': 0.687, 'pos': 0.246, 'compound': 0.9976}\n"
          ],
          "name": "stdout"
        }
      ]
    },
    {
      "cell_type": "code",
      "metadata": {
        "colab": {
          "base_uri": "https://localhost:8080/"
        },
        "id": "-ji7Tpv-38BW",
        "outputId": "4c329741-6476-4270-b2c9-4006cc63c5a8"
      },
      "source": [
        "#secondQuestion most frequent words for labels 1,2,3,4,5\n",
        "for i in range(len(filter_spacy)):\n",
        "  temp = \" \".join(filter_spacy[i])\n",
        "  split_it = temp.split()\n",
        "  mycounter = Counter(split_it)\n",
        "  most_occur = mycounter.most_common(10)\n",
        "  print(most_occur)"
      ],
      "execution_count": null,
      "outputs": [
        {
          "output_type": "stream",
          "text": [
            "[('different', 30), ('think', 20), ('year', 20), ('position', 20), ('leadership', 20), ('exec', 20), ('board', 20), ('event', 20), ('past', 10), ('big', 10)]\n",
            "[('lot', 90), ('know', 90), ('like', 90), ('teach', 90), ('tell', 90), ('yeah', 45), ('high', 45), ('school', 45), ('life', 45), ('guard', 45)]\n",
            "[('bassoon', 234), ('section', 234), ('practice', 234), ('know', 234), ('school', 156), ('orchestra', 156), ('run', 156), ('high', 78), ('play', 78), ('principle', 78)]\n",
            "[('career', 40), ('fair', 40), ('Society', 20), ('Women', 20), ('Engineers', 20), ('MIT', 20), ('run', 20), ('fall', 20), ('know', 20), ('make', 20)]\n"
          ],
          "name": "stdout"
        }
      ]
    },
    {
      "cell_type": "code",
      "metadata": {
        "colab": {
          "base_uri": "https://localhost:8080/"
        },
        "id": "5j24LddtvCl9",
        "outputId": "1a668a5b-e4dc-4171-f3e2-0bdcdb17c231"
      },
      "source": [
        "#sentiment of each label for secondQuestion\n",
        "from nltk.sentiment.vader import SentimentIntensityAnalyzer\n",
        "analyzer = SentimentIntensityAnalyzer()\n",
        "\n",
        "for i in range(len(filter_spacy)):\n",
        "  temp = \" \".join(filter_spacy[i])\n",
        "  sentence = temp\n",
        "  vs = analyzer.polarity_scores(sentence)\n",
        "  print(vs)"
      ],
      "execution_count": null,
      "outputs": [
        {
          "output_type": "stream",
          "text": [
            "{'neg': 0.0, 'neu': 0.933, 'pos': 0.067, 'compound': 0.9861}\n",
            "{'neg': 0.0, 'neu': 0.685, 'pos': 0.315, 'compound': 1.0}\n",
            "{'neg': 0.0, 'neu': 0.871, 'pos': 0.129, 'compound': 0.9999}\n",
            "{'neg': 0.0, 'neu': 0.795, 'pos': 0.205, 'compound': 0.9989}\n"
          ],
          "name": "stdout"
        }
      ]
    },
    {
      "cell_type": "code",
      "metadata": {
        "colab": {
          "base_uri": "https://localhost:8080/"
        },
        "id": "MTfYhFJz3zmY",
        "outputId": "e0a47aa1-3d04-41ed-9254-8570c87bcbc0"
      },
      "source": [
        "#thirdQuestion most frequent words for labels 1,2,3,4,5\n",
        "for i in range(len(filter_spacy)):\n",
        "  temp = \" \".join(filter_spacy[i])\n",
        "  split_it = temp.split()\n",
        "  mycounter = Counter(split_it)\n",
        "  most_occur = mycounter.most_common(10)\n",
        "  print(most_occur)"
      ],
      "execution_count": null,
      "outputs": [
        {
          "output_type": "stream",
          "text": [
            "[('event', 60), ('try', 40), ('communicate', 40), ('advisor', 30), ('freshman', 30), ('work', 30), ('think', 30), ('goal', 30), ('meet', 30), ('associate', 20)]\n",
            "[('know', 180), ('work', 135), ('project', 135), ('class', 135), ('kind', 135), ('like', 135), ('?', 135), ('high', 90), ('school', 90), ('kid', 90)]\n",
            "[('like', 312), ('thing', 312), ('get', 312), ('communicate', 234), ('English', 234), ('paper', 234), ('well', 234), ('understand', 234), ('work', 156), ('research', 156)]\n",
            "[('work', 30), ('able', 30), ('class', 20), ('teammate', 20), ('way', 20), ('play', 20), ('strength', 20), ('...', 10), ('software', 10), ('design', 10)]\n"
          ],
          "name": "stdout"
        }
      ]
    },
    {
      "cell_type": "code",
      "metadata": {
        "colab": {
          "base_uri": "https://localhost:8080/"
        },
        "id": "qJI8GiBvv092",
        "outputId": "57170a11-ec02-42da-f539-643d34554e40"
      },
      "source": [
        "#sentiment of each label for thirdQuestion\n",
        "from nltk.sentiment.vader import SentimentIntensityAnalyzer\n",
        "analyzer = SentimentIntensityAnalyzer()\n",
        "\n",
        "for i in range(len(filter_spacy)):\n",
        "  temp = \" \".join(filter_spacy[i])\n",
        "  sentence = temp\n",
        "  vs = analyzer.polarity_scores(sentence)\n",
        "  print(vs)"
      ],
      "execution_count": null,
      "outputs": [
        {
          "output_type": "stream",
          "text": [
            "{'neg': 0.055, 'neu': 0.844, 'pos': 0.101, 'compound': 0.9834}\n",
            "{'neg': 0.051, 'neu': 0.603, 'pos': 0.345, 'compound': 1.0}\n",
            "{'neg': 0.029, 'neu': 0.638, 'pos': 0.334, 'compound': 1.0}\n",
            "{'neg': 0.048, 'neu': 0.581, 'pos': 0.37, 'compound': 0.9993}\n"
          ],
          "name": "stdout"
        }
      ]
    },
    {
      "cell_type": "code",
      "metadata": {
        "colab": {
          "base_uri": "https://localhost:8080/"
        },
        "id": "W52huOPV5Kfk",
        "outputId": "909c9f40-03fa-4616-d24d-dfb2ef231574"
      },
      "source": [
        "#fourthQuestion most frequent words for labels 1,2,3,4,5\n",
        "for i in range(len(filter_spacy)):\n",
        "  temp = \" \".join(filter_spacy[i])\n",
        "  split_it = temp.split()\n",
        "  mycounter = Counter(split_it)\n",
        "  most_occur = mycounter.most_common(10)\n",
        "  print(most_occur)"
      ],
      "execution_count": null,
      "outputs": [
        {
          "output_type": "stream",
          "text": [
            "[('think', 50), ('public', 20), ('speak', 20), ('class', 20), ('speech', 20), ('help', 20), ('like', 20), ('weakness', 10), ('actually', 10), ('take', 10)]\n",
            "[('try', 90), ('tell', 90), ('need', 90), ('ask', 90), ('ok', 45), ('bad', 45), ('habit', 45), ('plate', 45), ('recognize', 45), ('delegate', 45)]\n",
            "[('thing', 234), ('like', 234), ('lot', 234), ('force', 234), ('time', 234), ('problem', 156), ('big', 156), ('manage', 156), ('right', 78), ('hang', 78)]\n",
            "[('think', 30), ('trouble', 20), ('task', 20), ('want', 20), ('project', 20), ('big', 20), ('picture', 20), ('detail', 20), ('know', 20), ('weakness', 10)]\n"
          ],
          "name": "stdout"
        }
      ]
    },
    {
      "cell_type": "code",
      "metadata": {
        "colab": {
          "base_uri": "https://localhost:8080/"
        },
        "id": "XSkuJsIvwik9",
        "outputId": "c73f9d19-3ee6-4d9a-80d7-d9bc3e1fbb3a"
      },
      "source": [
        "#sentiment of each label for thirdQuestion\n",
        "from nltk.sentiment.vader import SentimentIntensityAnalyzer\n",
        "analyzer = SentimentIntensityAnalyzer()\n",
        "\n",
        "for i in range(len(filter_spacy)):\n",
        "  temp = \" \".join(filter_spacy[i])\n",
        "  sentence = temp\n",
        "  vs = analyzer.polarity_scores(sentence)\n",
        "  print(vs)"
      ],
      "execution_count": null,
      "outputs": [
        {
          "output_type": "stream",
          "text": [
            "{'neg': 0.039, 'neu': 0.562, 'pos': 0.399, 'compound': 0.9997}\n",
            "{'neg': 0.09, 'neu': 0.62, 'pos': 0.289, 'compound': 0.9998}\n",
            "{'neg': 0.179, 'neu': 0.641, 'pos': 0.18, 'compound': 0.8957}\n",
            "{'neg': 0.136, 'neu': 0.581, 'pos': 0.282, 'compound': 0.9968}\n"
          ],
          "name": "stdout"
        }
      ]
    },
    {
      "cell_type": "code",
      "metadata": {
        "colab": {
          "base_uri": "https://localhost:8080/"
        },
        "id": "jPz8OyXE6QL8",
        "outputId": "932ff647-2378-45af-c3c1-6bac1cb1b7b3"
      },
      "source": [
        "#fifthQuestion most frequent words for labels 1,2,3,4,5\n",
        "for i in range(len(filter_spacy)):\n",
        "  temp = \" \".join(filter_spacy[i])\n",
        "  split_it = temp.split()\n",
        "  mycounter = Counter(split_it)\n",
        "  most_occur = mycounter.most_common(10)\n",
        "  print(most_occur)"
      ],
      "execution_count": null,
      "outputs": [
        {
          "output_type": "stream",
          "text": [
            "[('think', 30), ('position', 20), ('experience', 20), ('perform', 20), ('job', 20), ('different', 10), ('leadership', 10), ('academic', 10), ('allow', 10), ('work', 10)]\n",
            "[('think', 90), ('great', 90), ('like', 90), ('hire', 45), ('company', 45), ('opportunity', 45), ('learn', 45), ('improve', 45), ('Engineer', 45), ('add', 45)]\n",
            "[('accomplish', 156), ('work', 156), ('quantitative', 78), ('qualitative', 78), ('skill', 78), ('necessary', 78), ('project', 78), ('goal', 78), ('thing', 78), ('solve', 78)]\n",
            "[('think', 20), ('skill', 20), ('unique', 20), ('set', 10), ('pretty', 10), ('technical', 10), ('speak', 10), ('able', 10), ('communicate', 10), ('combination', 10)]\n"
          ],
          "name": "stdout"
        }
      ]
    },
    {
      "cell_type": "code",
      "metadata": {
        "id": "eg20y3wX81oH",
        "colab": {
          "base_uri": "https://localhost:8080/"
        },
        "outputId": "13b1c688-2bd8-4e04-fa47-7ba793cd4499"
      },
      "source": [
        "#sentiment of each label for thirdQuestion\n",
        "from nltk.sentiment.vader import SentimentIntensityAnalyzer\n",
        "analyzer = SentimentIntensityAnalyzer()\n",
        "\n",
        "for i in range(len(filter_spacy)):\n",
        "  temp = \" \".join(filter_spacy[i])\n",
        "  sentence = temp\n",
        "  vs = analyzer.polarity_scores(sentence)\n",
        "  print(vs)"
      ],
      "execution_count": null,
      "outputs": [
        {
          "output_type": "stream",
          "text": [
            "{'neg': 0.0, 'neu': 0.871, 'pos': 0.129, 'compound': 0.9891}\n",
            "{'neg': 0.0, 'neu': 0.39, 'pos': 0.61, 'compound': 1.0}\n",
            "{'neg': 0.085, 'neu': 0.347, 'pos': 0.568, 'compound': 1.0}\n",
            "{'neg': 0.0, 'neu': 0.789, 'pos': 0.211, 'compound': 0.9849}\n"
          ],
          "name": "stdout"
        }
      ]
    },
    {
      "cell_type": "code",
      "metadata": {
        "id": "o0tXVRpedegO"
      },
      "source": [
        "with open(\"interview_transcripts_by_turkers.csv\",'r') as f:\n",
        "  interviewee = []\n",
        "  for line in f:\n",
        "    interviewee.append(line.split(',')[1].split(\"|\"))\n"
      ],
      "execution_count": null,
      "outputs": []
    },
    {
      "cell_type": "code",
      "metadata": {
        "colab": {
          "base_uri": "https://localhost:8080/"
        },
        "id": "i1y9ljGaTCLN",
        "outputId": "bec1ad79-41ed-4748-c372-498aae16fabd"
      },
      "source": [
        "interviewee[69]"
      ],
      "execution_count": null,
      "outputs": [
        {
          "output_type": "execute_result",
          "data": {
            "text/plain": [
              "['Interviewer: So please tell me about your background.',\n",
              " 'Interviewee: Umm  so I’m a computer science and biology major here at MIT.  I’m a junior and I’m expecting to graduate in June 2014.  Ahm  I’m interested in kinda doing both research and  as well as practical application of some type of biological research with computational engineering involved.  Sorry  would you like to know more or is that alright?',\n",
              " 'Interviewer: I’m more interested in how long you can talk as long as you like.  For instance if you turn these around 180 that’s one of the reasons giving you a funny look.  Do you think you’re a leader?  Tell me why.',\n",
              " 'Interviewee: Uhm  I do  I would say that when situations present themselves I step up to the occasion.  I’m not afraid to take the lead on a project or like.  For example I guess  um  for one of my computer science projects that we were working on a group together one of our teammates wasn’t working well  I wasn’t afraid to kind of step up and take the lead  and be like “hey we gotta get this done.”  And  um  it’s kind of happened multiple times before I guess.  ',\n",
              " 'Interviewer: Do you consider yourself a team player?  Give me an example where there’s a conflict on your team and you had to resolve it.',\n",
              " 'Interviewee: Um  so one of the other organizations I do is Camp Kesem and I’m actually on their exec board. And so a lot of what we do is we plan out the summer camp for our kids whose parents have cancer.  And a lot of times we’re just debating simply like how exactly we want to get  uh  or how we want the whole camp to you know  uh  kinda go day by day we need plan out the whole schedule.  So we have a lot of conflict because everyone has all these different ideas and this is a very team oriented board and although it’s got the normal hierarchal structure  uh  we do a lot of things like just simply by like mapping them out on the board and visualizing the day and schedules and planning between us and what the teens have to do where we’re able to come up with a solution together.  So I would say that it’s a good example of me being one of a team and coming up with a solution together.',\n",
              " 'Interviewer: If you were given an option to change one thing about yourself what would that be?',\n",
              " 'Interviewee: Um  I think I’d like to be more interested in academia and even research.  Uh  I enjoy what I do  but I’ve seen some awesome things that you can do if you-I don’t fault them for pursing a career in peer research  which is why I think it’s kind of interesting why I’d admire myself more if I were more interested in that field  but -',\n",
              " 'Interviewer: Why do you think you should get the job?',\n",
              " 'Interviewee: Ah  I think I’m qualified and I think I’ll bring a lot to the company  I-I fit in well with the environment here.  And  uh  it’s something that I’ve always wanted to do.',\n",
              " 'Interviewer: Well  thank you.  I appreciate you coming today.',\n",
              " 'Interviewee: Alright.\\n']"
            ]
          },
          "metadata": {
            "tags": []
          },
          "execution_count": 26
        }
      ]
    },
    {
      "cell_type": "code",
      "metadata": {
        "colab": {
          "base_uri": "https://localhost:8080/"
        },
        "id": "NADHgEsjnAn1",
        "outputId": "6babbf8f-b4ab-42d8-b0e8-5d69e966f9c5"
      },
      "source": [
        "len(interviewee)"
      ],
      "execution_count": null,
      "outputs": [
        {
          "output_type": "execute_result",
          "data": {
            "text/plain": [
              "138"
            ]
          },
          "metadata": {
            "tags": []
          },
          "execution_count": 6
        }
      ]
    },
    {
      "cell_type": "code",
      "metadata": {
        "id": "NknMay1Oh0IT"
      },
      "source": [
        "user_data1 = []\n",
        "for i in range(len(interviewee)):\n",
        "  user_data2 = []\n",
        "  for j in range(len(interviewee[i])):\n",
        "    if 'Interviewee:' in interviewee[i][j]:\n",
        "      user_data2.append(interviewee[i][j][13:])\n",
        "  user_data1.append(user_data2)"
      ],
      "execution_count": null,
      "outputs": []
    },
    {
      "cell_type": "code",
      "metadata": {
        "id": "qnFfsu6kzXrH"
      },
      "source": [
        "user_data1"
      ],
      "execution_count": null,
      "outputs": []
    },
    {
      "cell_type": "code",
      "metadata": {
        "id": "kb2FUCxhz6w6"
      },
      "source": [
        "new = []\n",
        "for i in range(len(user_data1)):\n",
        "  old = []\n",
        "  for j in range(len(user_data1[i])):\n",
        "    old.append(re.sub(r'\\[.*\\] | \\(.*\\) | \\{.*\\}','',user_data1[i][j],flags=re.IGNORECASE).replace('  ',' '))\n",
        "    #temp2 = re.sub(\"I'm|I|am|Im\",'',temp1,flags=re.IGNORECASE).strip()\n",
        "    #old.append(re.sub(\"um+|uh+\",'',temp2,flags=re.IGNORECASE).strip())\n",
        "  new.append(old)"
      ],
      "execution_count": null,
      "outputs": []
    },
    {
      "cell_type": "code",
      "metadata": {
        "id": "xMBJg7pM4Es4"
      },
      "source": [
        "final = []\n",
        "for i in range(len(new)):\n",
        "  mytext = ''.join(new[i])\n",
        "  final.append(mytext)"
      ],
      "execution_count": null,
      "outputs": []
    },
    {
      "cell_type": "code",
      "metadata": {
        "id": "uSI0gKNU5RQb"
      },
      "source": [
        "from nltk import tokenize\n",
        "from operator import itemgetter\n",
        "import math\n",
        "import nltk\n",
        "from nltk.corpus import stopwords\n",
        "from nltk.tokenize import word_tokenize\n"
      ],
      "execution_count": null,
      "outputs": []
    },
    {
      "cell_type": "code",
      "metadata": {
        "colab": {
          "base_uri": "https://localhost:8080/"
        },
        "id": "v2NjIfso6U2j",
        "outputId": "08efd898-44d6-4860-c5ac-01f74566ceb1"
      },
      "source": [
        "nltk.download('stopwords')"
      ],
      "execution_count": null,
      "outputs": [
        {
          "output_type": "stream",
          "text": [
            "[nltk_data] Downloading package stopwords to /root/nltk_data...\n",
            "[nltk_data]   Unzipping corpora/stopwords.zip.\n"
          ],
          "name": "stdout"
        },
        {
          "output_type": "execute_result",
          "data": {
            "text/plain": [
              "True"
            ]
          },
          "metadata": {
            "tags": []
          },
          "execution_count": 10
        }
      ]
    },
    {
      "cell_type": "code",
      "metadata": {
        "id": "VM2WxjfcUVrA"
      },
      "source": [
        "total_score = []\n",
        "for i in range(len(final)):\n",
        "  tf_score = {}\n",
        "  idf_score = {}\n",
        "  tf_idf_score = {}\n",
        "  mydoc = final[i]\n",
        "  \n",
        "  #get the words\n",
        "  total_words = mydoc.split()\n",
        "  total_word_length = len(total_words)\n",
        "\n",
        "  #get the sentences\n",
        "  total_sentences = tokenize.sent_tokenize(mydoc)\n",
        "  total_sen_len = len(total_sentences)\n",
        "\n",
        "  #calculate term frequency: word_count / total_words\n",
        "  for each_word in total_words:\n",
        "    each_word = each_word.replace('.','')\n",
        "    if each_word not in stop_words:\n",
        "      if each_word not in tf_score:\n",
        "        tf_score[each_word] = 1\n",
        "      else:\n",
        "        tf_score[each_word]+=1\n",
        "\n",
        "  #calculate the tf\n",
        "  tf_score.update( (x,y/int(total_word_length)) for x,y in tf_score.items() )\n",
        "  \n",
        "  #calculate document frequency: total_sentences / sentences containing the word\n",
        "  for each_word in total_words:\n",
        "    each_word = each_word.replace('.','')\n",
        "    if each_word not in stop_words:\n",
        "      if each_word not in idf_score:\n",
        "        idf_score[each_word] = 1\n",
        "      else:\n",
        "        idf_score[each_word] = check_sent(each_word,total_sentences)\n",
        "\n",
        "  #calculate the idf\n",
        "  idf_score.update( (x,math.log(int(total_sen_len)/y) ) for x,y in idf_score.items() )\n",
        "\n",
        "  #calculate the final score(add top 5 most frequent keywords)\n",
        "  tf_idf_score = {key: tf_score[key] * idf_score.get(key, 0) for key in tf_score.keys()}\n",
        "  total_score.append({k:v for k,v in sorted(tf_idf_score.items(),key=lambda v:v[1],reverse=True)[:5]})\n"
      ],
      "execution_count": null,
      "outputs": []
    },
    {
      "cell_type": "code",
      "metadata": {
        "id": "abe-0CBFWdod"
      },
      "source": [
        "total_score"
      ],
      "execution_count": null,
      "outputs": []
    },
    {
      "cell_type": "code",
      "metadata": {
        "colab": {
          "base_uri": "https://localhost:8080/"
        },
        "id": "kZlKCNvt6Mry",
        "outputId": "7775696f-14f4-4d51-82b1-7f75bfd05052"
      },
      "source": [
        "mydoc = final[0]\n",
        "total_words = mydoc.split()\n",
        "total_word_length = len(total_words)\n",
        "print(total_word_length)"
      ],
      "execution_count": null,
      "outputs": [
        {
          "output_type": "stream",
          "text": [
            "528\n"
          ],
          "name": "stdout"
        }
      ]
    },
    {
      "cell_type": "code",
      "metadata": {
        "colab": {
          "base_uri": "https://localhost:8080/",
          "height": 163
        },
        "id": "ZnvdhGXT-NfS",
        "outputId": "55096830-3762-406f-bc14-8d98502b589e"
      },
      "source": [
        "mydoc"
      ],
      "execution_count": null,
      "outputs": [
        {
          "output_type": "execute_result",
          "data": {
            "application/vnd.google.colaboratory.intrinsic+json": {
              "type": "string"
            },
            "text/plain": [
              "\"Im pretty good.ok uhm so have you looked at my resume or should I alright so I guess ah I am course 6-7 here at M.I.T ah which is computational biology so its a mix of computers science and biology and actually thats where my interest lie in applying like algorithmic kinda software engineering too datasets dealing with genomics and biology. Uhm some of that activities that you do out side of school include Camp Kesem which is a summer camp that we run for completely free for kids whose parents have cancer as well as ah amphibious achievement which is ah a high school tutoring program for inner city kids in Boston So ah my interest kinda laid both in a little bit of the health care I imagined I was going be a Doctor growing up and then it came down to the tee and Im like well I can do engineering and still apply and do the same things and help a lot more people.Ok uhm one of the things we have to do for Camp Kesem is orgin or fundraise all the money to ah to run the camp which is over $50 000.00. Ah so one of the things that I individually spearhead every year is called the Camp Kesem I say you did auction where actually my fraternity and I go out and solicit uhm donations in the form of gift cards ah to raise money for a date auction where we actually sell dates and then we use this money obviously we donate it to Camp Kesem. I spearhead the entire event and I kinda orginize everyone into committees and groups and I send the people out and make sure everything goes according to plan.  Ahh I guess the easiest team project I just I just had was last semester uhm I worked on this six double o five project which is algorithm or software architecture.and we were put in a group of 3 people and it was standard you know we signed the contract everyone is supposed to work equally but it ended up being by the end of it that someone didn't like put there fair share of work in...Ah essentially we talked to him we didn't really get it out we actually had to go to some of the T.A's we got a little bit ah and that kinda like pushed him forward so I mean I guess what I am showing is like Im not affraid to go to the right method or like authority like where in cases this situation presents itself.  Uhmmm. I would say for this job ah Im a little technically underprepared. Ah I've yet I have only taken the introductory software classes so far and as well as introductory bio classes but I think just from sheer interest and sheer effort i will be able to kinda overcome these obstacles. Ah Im very interested in the subject of computation biology and I think that I will be able to contribute a lot to this field uhm I've had a good amount of experience and I think I will be a solid intern.\""
            ]
          },
          "metadata": {
            "tags": []
          },
          "execution_count": 46
        }
      ]
    },
    {
      "cell_type": "code",
      "metadata": {
        "colab": {
          "base_uri": "https://localhost:8080/"
        },
        "id": "UbL6XCZb7I0w",
        "outputId": "c01577b2-9243-4b95-a8ac-938c57c2f8c9"
      },
      "source": [
        "nltk.download('punkt')"
      ],
      "execution_count": null,
      "outputs": [
        {
          "output_type": "stream",
          "text": [
            "[nltk_data] Downloading package punkt to /root/nltk_data...\n",
            "[nltk_data]   Unzipping tokenizers/punkt.zip.\n"
          ],
          "name": "stdout"
        },
        {
          "output_type": "execute_result",
          "data": {
            "text/plain": [
              "True"
            ]
          },
          "metadata": {
            "tags": []
          },
          "execution_count": 11
        }
      ]
    },
    {
      "cell_type": "code",
      "metadata": {
        "colab": {
          "base_uri": "https://localhost:8080/"
        },
        "id": "Hpxjj8Um6xEt",
        "outputId": "6cafde32-7c33-433e-b66e-a47bd15633b9"
      },
      "source": [
        "total_sentences = tokenize.sent_tokenize(mydoc)\n",
        "total_sen_len = len(total_sentences)\n",
        "print(total_sen_len)"
      ],
      "execution_count": null,
      "outputs": [
        {
          "output_type": "stream",
          "text": [
            "9\n"
          ],
          "name": "stdout"
        }
      ]
    },
    {
      "cell_type": "code",
      "metadata": {
        "id": "jCfjFmoi7DLV"
      },
      "source": [
        "tf_score = {}\n",
        "for each_word in total_words:\n",
        "  each_word = each_word.replace('.','')\n",
        "  if each_word not in stop_words:\n",
        "    if each_word not in tf_score:\n",
        "      tf_score[each_word] = 1\n",
        "    else:\n",
        "      tf_score[each_word]+=1\n",
        "\n",
        "#calculate the tf\n",
        "tf_score.update( (x,y/int(total_word_length)) for x,y in tf_score.items() )"
      ],
      "execution_count": null,
      "outputs": []
    },
    {
      "cell_type": "code",
      "metadata": {
        "id": "L0NwuS6s9Tqo"
      },
      "source": [
        "#function to check if a word is present in a sentence list\n",
        "def check_sent(word, sentences): \n",
        "    final = [all([w in x for w in word]) for x in sentences] \n",
        "    sent_len = [sentences[i] for i in range(0, len(final)) if final[i]]\n",
        "    return int(len(sent_len))"
      ],
      "execution_count": null,
      "outputs": []
    },
    {
      "cell_type": "code",
      "metadata": {
        "id": "4wXm-dNd-Ol6"
      },
      "source": [
        "tdf_score = {}\n",
        "for each_word in total_words:\n",
        "  each_word = each_word.replace('.','')\n",
        "  if each_word not in stop_words:\n",
        "    if each_word not in tdf_score:\n",
        "      tdf_score[each_word] = 1\n",
        "    else:\n",
        "      tdf_score[each_word] = check_sent(each_word,total_sentences)\n",
        "\n",
        "  #calculate the IDF\n",
        "  tdf_score.update( (x,math.log(int(total_sen_len)/y) ) for x,y in tdf_score.items() )"
      ],
      "execution_count": null,
      "outputs": []
    },
    {
      "cell_type": "code",
      "metadata": {
        "id": "4vclBiUM_9g1"
      },
      "source": [
        "tdf_score"
      ],
      "execution_count": null,
      "outputs": []
    },
    {
      "cell_type": "code",
      "metadata": {
        "id": "-PBMWXLs_-qy"
      },
      "source": [
        "tf_idf_score = {key: tf_score[key] * tdf_score.get(key, 0) for key in tf_score.keys()}\n",
        "print(tf_idf_score)"
      ],
      "execution_count": null,
      "outputs": []
    },
    {
      "cell_type": "code",
      "metadata": {
        "id": "Vmux8tWUAM9B"
      },
      "source": [
        "def get_top_n(dict_elem, n):\n",
        "    result = {k:v for k,v in sorted(dict_elem.items(),key=lambda v:v[1],reverse=True)[:n]}\n",
        "\n",
        "    #result = dict(sorted(dict_elem.items(), key = itemgetter(1), reverse = True)[:n]) \n",
        "    return result"
      ],
      "execution_count": null,
      "outputs": []
    },
    {
      "cell_type": "code",
      "metadata": {
        "colab": {
          "base_uri": "https://localhost:8080/"
        },
        "id": "kpZhs3NDAbDj",
        "outputId": "cbb1452d-fef7-4bb8-d65d-98842a11e557"
      },
      "source": [
        "print(get_top_n(tf_idf_score, 5))"
      ],
      "execution_count": null,
      "outputs": [
        {
          "output_type": "stream",
          "text": [
            "{'Camp': 0.011394525733153592, 'Kesem': 0.011394525733153592, 'I': 0.005799922210352216, 'like': 0.005375484387797634, 'Ah': 0.004607558046683687}\n"
          ],
          "name": "stdout"
        }
      ]
    },
    {
      "cell_type": "code",
      "metadata": {
        "id": "Ii49wRbFZG2F"
      },
      "source": [
        "sample_text = final[0]\n",
        "sample_text"
      ],
      "execution_count": null,
      "outputs": []
    },
    {
      "cell_type": "code",
      "metadata": {
        "id": "bP_5pecjwHWd"
      },
      "source": [
        "final_spacy = []\n",
        "for i in range(len(final)):\n",
        "  final_spacy.append(\" \".join(re.findall(r\"[a-zA-Z]+\",final[i])))\n"
      ],
      "execution_count": null,
      "outputs": []
    },
    {
      "cell_type": "code",
      "metadata": {
        "id": "dVzG2Niv5oce"
      },
      "source": [
        "final_spacy[0]"
      ],
      "execution_count": null,
      "outputs": []
    },
    {
      "cell_type": "code",
      "metadata": {
        "id": "xMD4n5Pd0-4h",
        "colab": {
          "base_uri": "https://localhost:8080/",
          "height": 52
        },
        "outputId": "43ffc95d-520b-48ca-ea7a-913dbd6498e8"
      },
      "source": [
        "from spacy.lang.en.stop_words import STOP_WORDS\n",
        "\n",
        "filter_spacy = []\n",
        "nlp = spacy.load('en',parser=False,entity=False)\n",
        "\n",
        "for i in range(len(final_spacy)):\n",
        "  tokens = []\n",
        "  my_doc = nlp(final_spacy[i])\n",
        "  for token in my_doc:\n",
        "    if not token.is_stop:\n",
        "      tokens.append(token.lemma_)\n",
        "  filter_spacy.append(tokens)\n",
        "\n",
        "\n",
        "'''\n",
        "spacy customize stopwords\n",
        "# New stop words list \n",
        "customize_stop_words = [\n",
        "    'attach'\n",
        "    ]\n",
        "# Mark them as stop words\n",
        "for w in customize_stop_words:\n",
        "    nlp.vocab[w].is_stop = True\n",
        "\n",
        "'''\n",
        "#my_doc = nlp(text2)\n",
        "\n",
        "#filtered_sentence = []\n",
        "#for token in my_doc:\n",
        "#  if not token.is_stop:\n",
        "#    filtered_sentence.append(token.lemma_)"
      ],
      "execution_count": null,
      "outputs": [
        {
          "output_type": "execute_result",
          "data": {
            "application/vnd.google.colaboratory.intrinsic+json": {
              "type": "string"
            },
            "text/plain": [
              "\"\\nspacy customize stopwords\\n# New stop words list \\ncustomize_stop_words = [\\n    'attach'\\n    ]\\n# Mark them as stop words\\nfor w in customize_stop_words:\\n    nlp.vocab[w].is_stop = True\\n\\n\""
            ]
          },
          "metadata": {
            "tags": []
          },
          "execution_count": 13
        }
      ]
    },
    {
      "cell_type": "code",
      "metadata": {
        "id": "dDjSi9HCxOES"
      },
      "source": [
        "filter_spacy[0]"
      ],
      "execution_count": null,
      "outputs": []
    },
    {
      "cell_type": "code",
      "metadata": {
        "id": "bCw88UyWxNFH"
      },
      "source": [
        "to_use = []\n",
        "for i in range(len(filter_spacy)):\n",
        "  inner = []\n",
        "  for j in range(len(filter_spacy[i])):\n",
        "    if len(filter_spacy[i][j]) > 2:\n",
        "      inner.append(filter_spacy[i][j])\n",
        "  to_use.append(inner)\n"
      ],
      "execution_count": null,
      "outputs": []
    },
    {
      "cell_type": "code",
      "metadata": {
        "colab": {
          "base_uri": "https://localhost:8080/"
        },
        "id": "I4r-mhrKyYuD",
        "outputId": "e7c55500-32f7-4231-9d5a-6dea8a55d560"
      },
      "source": [
        "len(to_use[0])"
      ],
      "execution_count": null,
      "outputs": [
        {
          "output_type": "execute_result",
          "data": {
            "text/plain": [
              "210"
            ]
          },
          "metadata": {
            "tags": []
          },
          "execution_count": 15
        }
      ]
    },
    {
      "cell_type": "code",
      "metadata": {
        "id": "APJMrrWO3xxz"
      },
      "source": [
        "results = []\n",
        "\n",
        "for i in range(len(to_use)):\n",
        "  tf_score_spacy = {}\n",
        "  word_length = len(to_use[i])\n",
        "  for j in range(word_length):\n",
        "    if to_use[i][j] not in tf_score_spacy:\n",
        "      tf_score_spacy[to_use[i][j]] = 1\n",
        "    else:\n",
        "      tf_score_spacy[to_use[i][j]]+=1\n",
        "\n",
        "\n",
        "#for each_word in further_filter:\n",
        "# if each_word not in tf_score:\n",
        "#    tf_score[each_word] = 1\n",
        "#  else:\n",
        "#    tf_score[each_word]+=1\n",
        "\n",
        "  #calculate the tf\n",
        "  tf_score_spacy.update( (x,y/int(word_length)) for x,y in tf_score_spacy.items())\n",
        "  results.append(tf_score_spacy)"
      ],
      "execution_count": null,
      "outputs": []
    },
    {
      "cell_type": "code",
      "metadata": {
        "colab": {
          "base_uri": "https://localhost:8080/"
        },
        "id": "orqVc4ep1u1Q",
        "outputId": "ecbe68be-d807-4c72-cf55-b79dfa17bb79"
      },
      "source": [
        "sorted(results[0].items(),key=lambda k:k[1],reverse=True)[:5]"
      ],
      "execution_count": null,
      "outputs": [
        {
          "output_type": "execute_result",
          "data": {
            "text/plain": [
              "[('like', 0.03333333333333333),\n",
              " ('uhm', 0.023809523809523808),\n",
              " ('kinda', 0.023809523809523808),\n",
              " ('biology', 0.01904761904761905),\n",
              " ('actually', 0.01904761904761905)]"
            ]
          },
          "metadata": {
            "tags": []
          },
          "execution_count": 17
        }
      ]
    },
    {
      "cell_type": "code",
      "metadata": {
        "id": "wfozfDawyKRm"
      },
      "source": [
        ""
      ],
      "execution_count": null,
      "outputs": []
    },
    {
      "cell_type": "code",
      "metadata": {
        "id": "bq3KMJO7_5s_"
      },
      "source": [
        "total_word_length = len(re.findall(r\"\\w+\",text2))"
      ],
      "execution_count": null,
      "outputs": []
    },
    {
      "cell_type": "code",
      "metadata": {
        "id": "-rSIqHuRClPj"
      },
      "source": [
        "text = \"my text is an example just okay yeah text is text I mean what is text anyway\"\n",
        "my_doc = nlp(text)\n",
        "\n",
        "tokens_test = []\n",
        "for token in my_doc:\n",
        "  if not token.is_stop:\n",
        "    tokens_test.append(token.lemma_)"
      ],
      "execution_count": null,
      "outputs": []
    },
    {
      "cell_type": "code",
      "metadata": {
        "id": "CYEFShvQYwQM"
      },
      "source": [
        "tokens_test = [x for x in tokens_test if len(x) > 2]"
      ],
      "execution_count": null,
      "outputs": []
    },
    {
      "cell_type": "code",
      "metadata": {
        "id": "TPW3vkmWXUmq"
      },
      "source": [
        "score_test = {}\n",
        "for word in tokens_test:\n",
        "  if word not in score_test:\n",
        "    score_test[word] = 1\n",
        "  else:\n",
        "    score_test[word]+=1\n",
        "\n",
        "score_test.update( (x,y/int(len(tokens_test))) for x,y in score_test.items() )"
      ],
      "execution_count": null,
      "outputs": []
    },
    {
      "cell_type": "code",
      "metadata": {
        "colab": {
          "base_uri": "https://localhost:8080/"
        },
        "id": "wJJSkkOpXXGt",
        "outputId": "67550dea-34f1-42d2-b127-eb5ee1dc0b79"
      },
      "source": [
        "#score_test\n",
        "sorted(score_test.items(),key=lambda k:k[1],reverse=True)[:5]"
      ],
      "execution_count": null,
      "outputs": [
        {
          "output_type": "execute_result",
          "data": {
            "text/plain": [
              "[('text', 0.5),\n",
              " ('example', 0.125),\n",
              " ('okay', 0.125),\n",
              " ('yeah', 0.125),\n",
              " ('mean', 0.125)]"
            ]
          },
          "metadata": {
            "tags": []
          },
          "execution_count": 58
        }
      ]
    },
    {
      "cell_type": "code",
      "metadata": {
        "id": "n1n4Tf2tYNdI",
        "colab": {
          "base_uri": "https://localhost:8080/"
        },
        "outputId": "b507b138-e34b-4417-b457-a3094f0b4ab6"
      },
      "source": [
        "from textblob import TextBlob\n",
        "test = TextBlob(final_spacy[0])\n",
        "print(test.sentiment)"
      ],
      "execution_count": null,
      "outputs": [
        {
          "output_type": "stream",
          "text": [
            "Sentiment(polarity=0.1327021919879063, subjectivity=0.44780139833711263)\n"
          ],
          "name": "stdout"
        }
      ]
    },
    {
      "cell_type": "code",
      "metadata": {
        "colab": {
          "base_uri": "https://localhost:8080/"
        },
        "id": "zCMWd9j6F073",
        "outputId": "36231bef-3ff8-463d-c5ab-d297ce974ba7"
      },
      "source": [
        "nltk.download('vader_lexicon')"
      ],
      "execution_count": null,
      "outputs": [
        {
          "output_type": "stream",
          "text": [
            "[nltk_data] Downloading package vader_lexicon to /root/nltk_data...\n",
            "[nltk_data]   Package vader_lexicon is already up-to-date!\n"
          ],
          "name": "stdout"
        },
        {
          "output_type": "execute_result",
          "data": {
            "text/plain": [
              "True"
            ]
          },
          "metadata": {
            "tags": []
          },
          "execution_count": 20
        }
      ]
    },
    {
      "cell_type": "code",
      "metadata": {
        "id": "-LRXbI9SGcds"
      },
      "source": [
        ""
      ],
      "execution_count": null,
      "outputs": []
    },
    {
      "cell_type": "code",
      "metadata": {
        "colab": {
          "base_uri": "https://localhost:8080/"
        },
        "id": "xKaEj09KFQLq",
        "outputId": "2e6c8fcf-d55f-470f-edc3-5befff0da154"
      },
      "source": [
        "from nltk.sentiment.vader import SentimentIntensityAnalyzer\n",
        "analyzer = SentimentIntensityAnalyzer()\n",
        "sentence = final_spacy[0]\n",
        "vs = analyzer.polarity_scores(sentence)\n",
        "print(vs)"
      ],
      "execution_count": null,
      "outputs": [
        {
          "output_type": "stream",
          "text": [
            "{'neg': 0.011, 'neu': 0.855, 'pos': 0.134, 'compound': 0.9943}\n"
          ],
          "name": "stdout"
        },
        {
          "output_type": "stream",
          "text": [
            "/usr/local/lib/python3.7/dist-packages/nltk/twitter/__init__.py:20: UserWarning: The twython library has not been installed. Some functionality from the twitter package will not be available.\n",
            "  warnings.warn(\"The twython library has not been installed. \"\n"
          ],
          "name": "stderr"
        }
      ]
    },
    {
      "cell_type": "code",
      "metadata": {
        "id": "FFzS9zVPFsg2"
      },
      "source": [
        ""
      ],
      "execution_count": null,
      "outputs": []
    }
  ]
}